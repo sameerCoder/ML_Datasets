{
  "nbformat": 4,
  "nbformat_minor": 0,
  "metadata": {
    "colab": {
      "name": "Hypothesis_01.ipynb",
      "provenance": [],
      "authorship_tag": "ABX9TyPGXBNsGV5O0R5E4pTLTJ9n",
      "include_colab_link": true
    },
    "kernelspec": {
      "name": "python3",
      "display_name": "Python 3"
    },
    "language_info": {
      "name": "python"
    }
  },
  "cells": [
    {
      "cell_type": "markdown",
      "metadata": {
        "id": "view-in-github",
        "colab_type": "text"
      },
      "source": [
        "<a href=\"https://colab.research.google.com/github/sameerCoder/ML_Datasets/blob/main/Hypothesis_01.ipynb\" target=\"_parent\"><img src=\"https://colab.research.google.com/assets/colab-badge.svg\" alt=\"Open In Colab\"/></a>"
      ]
    },
    {
      "cell_type": "code",
      "execution_count": 1,
      "metadata": {
        "colab": {
          "base_uri": "https://localhost:8080/",
          "height": 131
        },
        "id": "MBRiYtDxt8Ey",
        "outputId": "c989fff6-203c-40e3-a0da-4d24304274a4"
      },
      "outputs": [
        {
          "output_type": "error",
          "ename": "SyntaxError",
          "evalue": "ignored",
          "traceback": [
            "\u001b[0;36m  File \u001b[0;32m\"<ipython-input-1-30118555ddb6>\"\u001b[0;36m, line \u001b[0;32m2\u001b[0m\n\u001b[0;31m    H0: Marriage age of Male in India is 30\u001b[0m\n\u001b[0m                   ^\u001b[0m\n\u001b[0;31mSyntaxError\u001b[0m\u001b[0;31m:\u001b[0m invalid syntax\n"
          ]
        }
      ],
      "source": [
        "# 01 Hypothesis Testing\n",
        "H0: Marriage age of Male in India is 30\n",
        "Ha: Marriage age of Male in India is NOT 30\n",
        "30 is Hypothesis mean in this research."
      ]
    },
    {
      "cell_type": "code",
      "source": [
        "# list containing age of male \n",
        "ages=[25,27,30,34,33,29,39,28]"
      ],
      "metadata": {
        "id": "m9wBZZzQuVJP"
      },
      "execution_count": 4,
      "outputs": []
    },
    {
      "cell_type": "code",
      "source": [
        "ages2=[10,15,20,25,23,28,32]"
      ],
      "metadata": {
        "id": "AMJNC2Jk6j2T"
      },
      "execution_count": 1,
      "outputs": []
    },
    {
      "cell_type": "code",
      "source": [
        "#One Sample T-test\n",
        "from scipy import stats\n",
        "stats.ttest_1samp(ages,30)\n"
      ],
      "metadata": {
        "colab": {
          "base_uri": "https://localhost:8080/"
        },
        "id": "OaHC9Eu1upj3",
        "outputId": "3fa65a1b-ec09-4217-9499-6ff291b45fa2"
      },
      "execution_count": 6,
      "outputs": [
        {
          "output_type": "execute_result",
          "data": {
            "text/plain": [
              "Ttest_1sampResult(statistic=0.3926640065328521, pvalue=0.706250447435517)"
            ]
          },
          "metadata": {},
          "execution_count": 6
        }
      ]
    },
    {
      "cell_type": "code",
      "source": [
        "# second Sample T-test\n",
        "from scipy import stats\n",
        "stats.ttest_1samp(ages2,30)"
      ],
      "metadata": {
        "colab": {
          "base_uri": "https://localhost:8080/"
        },
        "id": "flx3NerX6pov",
        "outputId": "3fa8a67c-fe3f-419a-bd04-8f50e2fab442"
      },
      "execution_count": 2,
      "outputs": [
        {
          "output_type": "execute_result",
          "data": {
            "text/plain": [
              "Ttest_1sampResult(statistic=-2.8499999999999996, pvalue=0.029181619280134605)"
            ]
          },
          "metadata": {},
          "execution_count": 2
        }
      ]
    },
    {
      "cell_type": "code",
      "source": [
        "Probality values; p = 70.6 % \n",
        "if the pvalue is less than 5% then we say \n",
        "I.E P > 5%, WE FAIL TO REJECT NULL HYPOTHESIS (ACCEPT NULL HYPOTHESIS)\n",
        "MARRIAGE AGE OF MALE IN INDIA IS 30."
      ],
      "metadata": {
        "id": "1TmhacoEvCJF"
      },
      "execution_count": null,
      "outputs": []
    }
  ]
}