{
 "cells": [
  {
   "cell_type": "markdown",
   "id": "b5d2333a",
   "metadata": {},
   "source": [
    "# steps"
   ]
  },
  {
   "cell_type": "code",
   "execution_count": 1,
   "id": "7f52e734",
   "metadata": {},
   "outputs": [],
   "source": [
    "# reading images\n",
    "#converting to grayscale\n",
    "#resizing to 100*100\n",
    "#flatten 1,10000"
   ]
  },
  {
   "cell_type": "code",
   "execution_count": 2,
   "id": "fcaac401",
   "metadata": {},
   "outputs": [],
   "source": [
    "import cv2"
   ]
  },
  {
   "cell_type": "code",
   "execution_count": 3,
   "id": "28f49db8",
   "metadata": {},
   "outputs": [
    {
     "name": "stdout",
     "output_type": "stream",
     "text": [
      "3580\n",
      "81\n"
     ]
    },
    {
     "name": "stderr",
     "output_type": "stream",
     "text": [
      "C:\\Users\\md.sakib\\AppData\\Local\\Temp\\ipykernel_19084\\3245555204.py:30: SettingWithCopyWarning: \n",
      "A value is trying to be set on a copy of a slice from a DataFrame.\n",
      "Try using .loc[row_indexer,col_indexer] = value instead\n",
      "\n",
      "See the caveats in the documentation: https://pandas.pydata.org/pandas-docs/stable/user_guide/indexing.html#returning-a-view-versus-a-copy\n",
      "  dfnew['gender']=dfnew['path'].apply(gender)\n"
     ]
    }
   ],
   "source": [
    "import numpy as np\n",
    "import pandas as pd\n",
    "import matplotlib.pyplot as plt\n",
    "import PIL.Image as imgmodule \n",
    "\n",
    "from glob import glob\n",
    "femalepath=glob('./output_crop/cropfemale/*.png')\n",
    "print(len(femalepath))\n",
    "malepath=glob('./output_crop/cropmale/*.png')\n",
    "allpath=femalepath+malepath\n",
    "\n",
    "df=pd.DataFrame(allpath,columns=['path'])\n",
    "df.head()\n",
    "def getsize(path):\n",
    "        #print(\"current path:\",path)\n",
    "        return imgmodule.open(path).size[0]\n",
    "df['size']=df['path'].apply(getsize)\n",
    "dfnew=df[df['size']>58]\n",
    "dfnew.head()\n",
    "# create a gender column\n",
    "def gender(path):\n",
    "    #print(path)\n",
    "    try:\n",
    "        #print(\"inside try\")\n",
    "        #print(path.split('_')[-2].split('\\\\')[-1])\n",
    "        return str(path.split('_')[-2].split('\\\\')[-1])\n",
    "    except:\n",
    "        None\n",
    "        \n",
    "dfnew['gender']=dfnew['path'].apply(gender)\n",
    "\n",
    "print(dfnew['size'].min())"
   ]
  },
  {
   "cell_type": "code",
   "execution_count": 4,
   "id": "90eb839b",
   "metadata": {},
   "outputs": [
    {
     "data": {
      "text/html": [
       "<div>\n",
       "<style scoped>\n",
       "    .dataframe tbody tr th:only-of-type {\n",
       "        vertical-align: middle;\n",
       "    }\n",
       "\n",
       "    .dataframe tbody tr th {\n",
       "        vertical-align: top;\n",
       "    }\n",
       "\n",
       "    .dataframe thead th {\n",
       "        text-align: right;\n",
       "    }\n",
       "</style>\n",
       "<table border=\"1\" class=\"dataframe\">\n",
       "  <thead>\n",
       "    <tr style=\"text-align: right;\">\n",
       "      <th></th>\n",
       "      <th>path</th>\n",
       "      <th>size</th>\n",
       "      <th>gender</th>\n",
       "    </tr>\n",
       "  </thead>\n",
       "  <tbody>\n",
       "    <tr>\n",
       "      <th>0</th>\n",
       "      <td>./output_crop/cropfemale\\female_0.png</td>\n",
       "      <td>273</td>\n",
       "      <td>female</td>\n",
       "    </tr>\n",
       "    <tr>\n",
       "      <th>1</th>\n",
       "      <td>./output_crop/cropfemale\\female_1.png</td>\n",
       "      <td>182</td>\n",
       "      <td>female</td>\n",
       "    </tr>\n",
       "    <tr>\n",
       "      <th>2</th>\n",
       "      <td>./output_crop/cropfemale\\female_100.png</td>\n",
       "      <td>182</td>\n",
       "      <td>female</td>\n",
       "    </tr>\n",
       "    <tr>\n",
       "      <th>3</th>\n",
       "      <td>./output_crop/cropfemale\\female_1003.png</td>\n",
       "      <td>182</td>\n",
       "      <td>female</td>\n",
       "    </tr>\n",
       "    <tr>\n",
       "      <th>4</th>\n",
       "      <td>./output_crop/cropfemale\\female_1008.png</td>\n",
       "      <td>81</td>\n",
       "      <td>female</td>\n",
       "    </tr>\n",
       "  </tbody>\n",
       "</table>\n",
       "</div>"
      ],
      "text/plain": [
       "                                       path  size  gender\n",
       "0     ./output_crop/cropfemale\\female_0.png   273  female\n",
       "1     ./output_crop/cropfemale\\female_1.png   182  female\n",
       "2   ./output_crop/cropfemale\\female_100.png   182  female\n",
       "3  ./output_crop/cropfemale\\female_1003.png   182  female\n",
       "4  ./output_crop/cropfemale\\female_1008.png    81  female"
      ]
     },
     "execution_count": 4,
     "metadata": {},
     "output_type": "execute_result"
    }
   ],
   "source": [
    "dfnew.head()"
   ]
  },
  {
   "cell_type": "code",
   "execution_count": 5,
   "id": "fb8073dc",
   "metadata": {},
   "outputs": [],
   "source": [
    "# reading images\n",
    "#converting to grayscale\n",
    "#resizing to 100*100\n",
    "#flatten 1,10000"
   ]
  },
  {
   "cell_type": "code",
   "execution_count": 6,
   "id": "0cd91d1b",
   "metadata": {},
   "outputs": [],
   "source": [
    "path_to_resize=df['path'][0]\n",
    "img=cv2.imread(path_to_resize)\n",
    "gray=cv2.cvtColor(img,cv2.COLOR_BGR2GRAY)\n",
    "size=gray.shape[0]\n",
    "if size>=100:\n",
    "    gray_re=cv2.resize(gray,(100,100),cv2.INTER_AREA)#SHRINK\n",
    "else:\n",
    "    gray_re=cv2.resize(gray,(100,100),cv2.INTER_CUBIC)#ENLARGE\n",
    "flat_img=gray_re.flatten()"
   ]
  },
  {
   "cell_type": "code",
   "execution_count": 7,
   "id": "9a87f422",
   "metadata": {},
   "outputs": [
    {
     "data": {
      "text/plain": [
       "<matplotlib.image.AxesImage at 0x1ded3bb9d00>"
      ]
     },
     "execution_count": 7,
     "metadata": {},
     "output_type": "execute_result"
    },
    {
     "data": {
      "image/png": "[encoded data removed]",
      "text/plain": [
       "<Figure size 432x288 with 1 Axes>"
      ]
     },
     "metadata": {
      "needs_background": "light"
     },
     "output_type": "display_data"
    }
   ],
   "source": [
    "plt.imshow(gray_re,cmap='gray')"
   ]
  },
  {
   "cell_type": "code",
   "execution_count": 8,
   "id": "437b1343",
   "metadata": {},
   "outputs": [],
   "source": [
    "# put above computation inside function\n",
    "def resize(path_to_resize):\n",
    "    #df['path'][0]\n",
    "    img=cv2.imread(path_to_resize)\n",
    "    gray=cv2.cvtColor(img,cv2.COLOR_BGR2GRAY)\n",
    "    size=gray.shape[0]\n",
    "    if size>=100:\n",
    "        gray_re=cv2.resize(gray,(100,100),cv2.INTER_AREA)#SHRINK\n",
    "    else:\n",
    "        gray_re=cv2.resize(gray,(100,100),cv2.INTER_CUBIC)#ENLARGE\n",
    "    return gray_re.flatten()"
   ]
  },
  {
   "cell_type": "code",
   "execution_count": 9,
   "id": "ffb0ebdb",
   "metadata": {},
   "outputs": [
    {
     "data": {
      "text/plain": [
       "array([188, 180, 184, ..., 120, 117, 111], dtype=uint8)"
      ]
     },
     "execution_count": 9,
     "metadata": {},
     "output_type": "execute_result"
    }
   ],
   "source": [
    "resize(dfnew['path'][0])"
   ]
  },
  {
   "cell_type": "code",
   "execution_count": 10,
   "id": "caa8cd27",
   "metadata": {},
   "outputs": [
    {
     "data": {
      "text/html": [
       "<div>\n",
       "<style scoped>\n",
       "    .dataframe tbody tr th:only-of-type {\n",
       "        vertical-align: middle;\n",
       "    }\n",
       "\n",
       "    .dataframe tbody tr th {\n",
       "        vertical-align: top;\n",
       "    }\n",
       "\n",
       "    .dataframe thead th {\n",
       "        text-align: right;\n",
       "    }\n",
       "</style>\n",
       "<table border=\"1\" class=\"dataframe\">\n",
       "  <thead>\n",
       "    <tr style=\"text-align: right;\">\n",
       "      <th></th>\n",
       "      <th>path</th>\n",
       "      <th>size</th>\n",
       "      <th>gender</th>\n",
       "    </tr>\n",
       "  </thead>\n",
       "  <tbody>\n",
       "    <tr>\n",
       "      <th>0</th>\n",
       "      <td>./output_crop/cropfemale\\female_0.png</td>\n",
       "      <td>273</td>\n",
       "      <td>female</td>\n",
       "    </tr>\n",
       "    <tr>\n",
       "      <th>1</th>\n",
       "      <td>./output_crop/cropfemale\\female_1.png</td>\n",
       "      <td>182</td>\n",
       "      <td>female</td>\n",
       "    </tr>\n",
       "    <tr>\n",
       "      <th>2</th>\n",
       "      <td>./output_crop/cropfemale\\female_100.png</td>\n",
       "      <td>182</td>\n",
       "      <td>female</td>\n",
       "    </tr>\n",
       "    <tr>\n",
       "      <th>3</th>\n",
       "      <td>./output_crop/cropfemale\\female_1003.png</td>\n",
       "      <td>182</td>\n",
       "      <td>female</td>\n",
       "    </tr>\n",
       "    <tr>\n",
       "      <th>4</th>\n",
       "      <td>./output_crop/cropfemale\\female_1008.png</td>\n",
       "      <td>81</td>\n",
       "      <td>female</td>\n",
       "    </tr>\n",
       "  </tbody>\n",
       "</table>\n",
       "</div>"
      ],
      "text/plain": [
       "                                       path  size  gender\n",
       "0     ./output_crop/cropfemale\\female_0.png   273  female\n",
       "1     ./output_crop/cropfemale\\female_1.png   182  female\n",
       "2   ./output_crop/cropfemale\\female_100.png   182  female\n",
       "3  ./output_crop/cropfemale\\female_1003.png   182  female\n",
       "4  ./output_crop/cropfemale\\female_1008.png    81  female"
      ]
     },
     "execution_count": 10,
     "metadata": {},
     "output_type": "execute_result"
    }
   ],
   "source": [
    "dfnew.head()"
   ]
  },
  {
   "cell_type": "code",
   "execution_count": 11,
   "id": "d9a6be0c",
   "metadata": {},
   "outputs": [
    {
     "name": "stderr",
     "output_type": "stream",
     "text": [
      "C:\\Users\\md.sakib\\AppData\\Local\\Temp\\ipykernel_19084\\3381951105.py:1: SettingWithCopyWarning: \n",
      "A value is trying to be set on a copy of a slice from a DataFrame.\n",
      "Try using .loc[row_indexer,col_indexer] = value instead\n",
      "\n",
      "See the caveats in the documentation: https://pandas.pydata.org/pandas-docs/stable/user_guide/indexing.html#returning-a-view-versus-a-copy\n",
      "  dfnew['structure size']=df['path'].apply(resize)\n"
     ]
    }
   ],
   "source": [
    "dfnew['structure size']=df['path'].apply(resize)"
   ]
  },
  {
   "cell_type": "code",
   "execution_count": 12,
   "id": "09d7a62a",
   "metadata": {},
   "outputs": [
    {
     "data": {
      "text/html": [
       "<div>\n",
       "<style scoped>\n",
       "    .dataframe tbody tr th:only-of-type {\n",
       "        vertical-align: middle;\n",
       "    }\n",
       "\n",
       "    .dataframe tbody tr th {\n",
       "        vertical-align: top;\n",
       "    }\n",
       "\n",
       "    .dataframe thead th {\n",
       "        text-align: right;\n",
       "    }\n",
       "</style>\n",
       "<table border=\"1\" class=\"dataframe\">\n",
       "  <thead>\n",
       "    <tr style=\"text-align: right;\">\n",
       "      <th></th>\n",
       "      <th>path</th>\n",
       "      <th>size</th>\n",
       "      <th>gender</th>\n",
       "      <th>structure size</th>\n",
       "    </tr>\n",
       "  </thead>\n",
       "  <tbody>\n",
       "    <tr>\n",
       "      <th>0</th>\n",
       "      <td>./output_crop/cropfemale\\female_0.png</td>\n",
       "      <td>273</td>\n",
       "      <td>female</td>\n",
       "      <td>[188, 180, 184, 188, 173, 179, 192, 178, 216, ...</td>\n",
       "    </tr>\n",
       "    <tr>\n",
       "      <th>1</th>\n",
       "      <td>./output_crop/cropfemale\\female_1.png</td>\n",
       "      <td>182</td>\n",
       "      <td>female</td>\n",
       "      <td>[32, 24, 32, 27, 29, 29, 29, 32, 36, 30, 46, 8...</td>\n",
       "    </tr>\n",
       "    <tr>\n",
       "      <th>2</th>\n",
       "      <td>./output_crop/cropfemale\\female_100.png</td>\n",
       "      <td>182</td>\n",
       "      <td>female</td>\n",
       "      <td>[22, 30, 39, 36, 30, 61, 11, 17, 10, 19, 13, 1...</td>\n",
       "    </tr>\n",
       "    <tr>\n",
       "      <th>3</th>\n",
       "      <td>./output_crop/cropfemale\\female_1003.png</td>\n",
       "      <td>182</td>\n",
       "      <td>female</td>\n",
       "      <td>[35, 35, 35, 35, 35, 35, 35, 35, 35, 35, 35, 3...</td>\n",
       "    </tr>\n",
       "    <tr>\n",
       "      <th>4</th>\n",
       "      <td>./output_crop/cropfemale\\female_1008.png</td>\n",
       "      <td>81</td>\n",
       "      <td>female</td>\n",
       "      <td>[86, 86, 71, 54, 45, 49, 33, 20, 18, 23, 27, 2...</td>\n",
       "    </tr>\n",
       "  </tbody>\n",
       "</table>\n",
       "</div>"
      ],
      "text/plain": [
       "                                       path  size  gender  \\\n",
       "0     ./output_crop/cropfemale\\female_0.png   273  female   \n",
       "1     ./output_crop/cropfemale\\female_1.png   182  female   \n",
       "2   ./output_crop/cropfemale\\female_100.png   182  female   \n",
       "3  ./output_crop/cropfemale\\female_1003.png   182  female   \n",
       "4  ./output_crop/cropfemale\\female_1008.png    81  female   \n",
       "\n",
       "                                      structure size  \n",
       "0  [188, 180, 184, 188, 173, 179, 192, 178, 216, ...  \n",
       "1  [32, 24, 32, 27, 29, 29, 29, 32, 36, 30, 46, 8...  \n",
       "2  [22, 30, 39, 36, 30, 61, 11, 17, 10, 19, 13, 1...  \n",
       "3  [35, 35, 35, 35, 35, 35, 35, 35, 35, 35, 35, 3...  \n",
       "4  [86, 86, 71, 54, 45, 49, 33, 20, 18, 23, 27, 2...  "
      ]
     },
     "execution_count": 12,
     "metadata": {},
     "output_type": "execute_result"
    }
   ],
   "source": [
    "dfnew.head()"
   ]
  },
  {
   "cell_type": "code",
   "execution_count": 13,
   "id": "1f5d9083",
   "metadata": {},
   "outputs": [
    {
     "name": "stdout",
     "output_type": "stream",
     "text": [
      "   0     1     2     3     4     5     6     7     8     9     ...  9990  \\\n",
      "0   188   180   184   188   173   179   192   178   216   219  ...   109   \n",
      "1    32    24    32    27    29    29    29    32    36    30  ...    58   \n",
      "2    22    30    39    36    30    61    11    17    10    19  ...   156   \n",
      "3    35    35    35    35    35    35    35    35    35    35  ...    75   \n",
      "4    86    86    71    54    45    49    33    20    18    23  ...    35   \n",
      "\n",
      "   9991  9992  9993  9994  9995  9996  9997  9998  9999  \n",
      "0   111   115   116   122   116   119   120   117   111  \n",
      "1    47    27    33    22    28    22    36    62    17  \n",
      "2   171   177   186   176   185   186   190   177   177  \n",
      "3    82    90    92    86    70    89    84    84    74  \n",
      "4    34    32    32    30    32    34    34    33    30  \n",
      "\n",
      "[5 rows x 10000 columns]\n"
     ]
    }
   ],
   "source": [
    "# new df\n",
    "df1=dfnew['structure size'].apply(pd.Series)\n",
    "print(df1.head())\n",
    "# EACH IMAGE 1000 PIXEL VALUE 100*100"
   ]
  },
  {
   "cell_type": "code",
   "execution_count": 14,
   "id": "38c298ef",
   "metadata": {},
   "outputs": [
    {
     "data": {
      "text/html": [
       "<div>\n",
       "<style scoped>\n",
       "    .dataframe tbody tr th:only-of-type {\n",
       "        vertical-align: middle;\n",
       "    }\n",
       "\n",
       "    .dataframe tbody tr th {\n",
       "        vertical-align: top;\n",
       "    }\n",
       "\n",
       "    .dataframe thead th {\n",
       "        text-align: right;\n",
       "    }\n",
       "</style>\n",
       "<table border=\"1\" class=\"dataframe\">\n",
       "  <thead>\n",
       "    <tr style=\"text-align: right;\">\n",
       "      <th></th>\n",
       "      <th>gender</th>\n",
       "      <th>0</th>\n",
       "      <th>1</th>\n",
       "      <th>2</th>\n",
       "      <th>3</th>\n",
       "      <th>4</th>\n",
       "      <th>5</th>\n",
       "      <th>6</th>\n",
       "      <th>7</th>\n",
       "      <th>8</th>\n",
       "      <th>...</th>\n",
       "      <th>9990</th>\n",
       "      <th>9991</th>\n",
       "      <th>9992</th>\n",
       "      <th>9993</th>\n",
       "      <th>9994</th>\n",
       "      <th>9995</th>\n",
       "      <th>9996</th>\n",
       "      <th>9997</th>\n",
       "      <th>9998</th>\n",
       "      <th>9999</th>\n",
       "    </tr>\n",
       "  </thead>\n",
       "  <tbody>\n",
       "    <tr>\n",
       "      <th>0</th>\n",
       "      <td>female</td>\n",
       "      <td>188</td>\n",
       "      <td>180</td>\n",
       "      <td>184</td>\n",
       "      <td>188</td>\n",
       "      <td>173</td>\n",
       "      <td>179</td>\n",
       "      <td>192</td>\n",
       "      <td>178</td>\n",
       "      <td>216</td>\n",
       "      <td>...</td>\n",
       "      <td>109</td>\n",
       "      <td>111</td>\n",
       "      <td>115</td>\n",
       "      <td>116</td>\n",
       "      <td>122</td>\n",
       "      <td>116</td>\n",
       "      <td>119</td>\n",
       "      <td>120</td>\n",
       "      <td>117</td>\n",
       "      <td>111</td>\n",
       "    </tr>\n",
       "    <tr>\n",
       "      <th>1</th>\n",
       "      <td>female</td>\n",
       "      <td>32</td>\n",
       "      <td>24</td>\n",
       "      <td>32</td>\n",
       "      <td>27</td>\n",
       "      <td>29</td>\n",
       "      <td>29</td>\n",
       "      <td>29</td>\n",
       "      <td>32</td>\n",
       "      <td>36</td>\n",
       "      <td>...</td>\n",
       "      <td>58</td>\n",
       "      <td>47</td>\n",
       "      <td>27</td>\n",
       "      <td>33</td>\n",
       "      <td>22</td>\n",
       "      <td>28</td>\n",
       "      <td>22</td>\n",
       "      <td>36</td>\n",
       "      <td>62</td>\n",
       "      <td>17</td>\n",
       "    </tr>\n",
       "    <tr>\n",
       "      <th>2</th>\n",
       "      <td>female</td>\n",
       "      <td>22</td>\n",
       "      <td>30</td>\n",
       "      <td>39</td>\n",
       "      <td>36</td>\n",
       "      <td>30</td>\n",
       "      <td>61</td>\n",
       "      <td>11</td>\n",
       "      <td>17</td>\n",
       "      <td>10</td>\n",
       "      <td>...</td>\n",
       "      <td>156</td>\n",
       "      <td>171</td>\n",
       "      <td>177</td>\n",
       "      <td>186</td>\n",
       "      <td>176</td>\n",
       "      <td>185</td>\n",
       "      <td>186</td>\n",
       "      <td>190</td>\n",
       "      <td>177</td>\n",
       "      <td>177</td>\n",
       "    </tr>\n",
       "    <tr>\n",
       "      <th>3</th>\n",
       "      <td>female</td>\n",
       "      <td>35</td>\n",
       "      <td>35</td>\n",
       "      <td>35</td>\n",
       "      <td>35</td>\n",
       "      <td>35</td>\n",
       "      <td>35</td>\n",
       "      <td>35</td>\n",
       "      <td>35</td>\n",
       "      <td>35</td>\n",
       "      <td>...</td>\n",
       "      <td>75</td>\n",
       "      <td>82</td>\n",
       "      <td>90</td>\n",
       "      <td>92</td>\n",
       "      <td>86</td>\n",
       "      <td>70</td>\n",
       "      <td>89</td>\n",
       "      <td>84</td>\n",
       "      <td>84</td>\n",
       "      <td>74</td>\n",
       "    </tr>\n",
       "    <tr>\n",
       "      <th>4</th>\n",
       "      <td>female</td>\n",
       "      <td>86</td>\n",
       "      <td>86</td>\n",
       "      <td>71</td>\n",
       "      <td>54</td>\n",
       "      <td>45</td>\n",
       "      <td>49</td>\n",
       "      <td>33</td>\n",
       "      <td>20</td>\n",
       "      <td>18</td>\n",
       "      <td>...</td>\n",
       "      <td>35</td>\n",
       "      <td>34</td>\n",
       "      <td>32</td>\n",
       "      <td>32</td>\n",
       "      <td>30</td>\n",
       "      <td>32</td>\n",
       "      <td>34</td>\n",
       "      <td>34</td>\n",
       "      <td>33</td>\n",
       "      <td>30</td>\n",
       "    </tr>\n",
       "  </tbody>\n",
       "</table>\n",
       "<p>5 rows × 10001 columns</p>\n",
       "</div>"
      ],
      "text/plain": [
       "   gender    0    1    2    3    4    5    6    7    8  ...  9990  9991  9992  \\\n",
       "0  female  188  180  184  188  173  179  192  178  216  ...   109   111   115   \n",
       "1  female   32   24   32   27   29   29   29   32   36  ...    58    47    27   \n",
       "2  female   22   30   39   36   30   61   11   17   10  ...   156   171   177   \n",
       "3  female   35   35   35   35   35   35   35   35   35  ...    75    82    90   \n",
       "4  female   86   86   71   54   45   49   33   20   18  ...    35    34    32   \n",
       "\n",
       "   9993  9994  9995  9996  9997  9998  9999  \n",
       "0   116   122   116   119   120   117   111  \n",
       "1    33    22    28    22    36    62    17  \n",
       "2   186   176   185   186   190   177   177  \n",
       "3    92    86    70    89    84    84    74  \n",
       "4    32    30    32    34    34    33    30  \n",
       "\n",
       "[5 rows x 10001 columns]"
      ]
     },
     "execution_count": 14,
     "metadata": {},
     "output_type": "execute_result"
    }
   ],
   "source": [
    "df2=pd.concat((dfnew['gender'],df1),axis=1)\n",
    "df2.head()"
   ]
  },
  {
   "cell_type": "code",
   "execution_count": null,
   "id": "d9a63e6d",
   "metadata": {},
   "outputs": [],
   "source": [
    "'''\n",
    "Pickling” is the process whereby a Python object hierarchy is converted into a byte stream, and “unpickling” is the inverse operation, whereby a byte stream (from a binary file or bytes-like object) is converted back into an object hierarchy. '''"
   ]
  },
  {
   "cell_type": "code",
   "execution_count": 16,
   "id": "54b5e9b7",
   "metadata": {},
   "outputs": [],
   "source": [
    "import pickle\n",
    "pickle.dump(df2,open('./output_crop/dataframe_images_100_100.pickle','wb'))"
   ]
  },
  {
   "cell_type": "code",
   "execution_count": 17,
   "id": "a758f138",
   "metadata": {},
   "outputs": [
    {
     "name": "stdout",
     "output_type": "stream",
     "text": [
      "<class 'pandas.core.frame.DataFrame'>\n",
      "Int64Index: 5458 entries, 0 to 6053\n",
      "Columns: 10001 entries, gender to 9999\n",
      "dtypes: object(1), uint8(10000)\n",
      "memory usage: 52.3+ MB\n"
     ]
    }
   ],
   "source": [
    "df2.info()"
   ]
  },
  {
   "cell_type": "code",
   "execution_count": 18,
   "id": "c52f3eae",
   "metadata": {},
   "outputs": [
    {
     "data": {
      "text/plain": [
       "gender    0\n",
       "0         0\n",
       "1         0\n",
       "2         0\n",
       "3         0\n",
       "         ..\n",
       "9995      0\n",
       "9996      0\n",
       "9997      0\n",
       "9998      0\n",
       "9999      0\n",
       "Length: 10001, dtype: int64"
      ]
     },
     "execution_count": 18,
     "metadata": {},
     "output_type": "execute_result"
    }
   ],
   "source": [
    "#checking missing values/records\n",
    "df2.isnull().sum()"
   ]
  },
  {
   "cell_type": "code",
   "execution_count": null,
   "id": "bdffc22d",
   "metadata": {},
   "outputs": [],
   "source": [
    "# data preprocessing\n",
    "#1. removing null values.\n",
    "#2. normalization minmax sacalling "
   ]
  },
  {
   "cell_type": "markdown",
   "id": "751a561d",
   "metadata": {},
   "source": [
    "# Min max scalling.\n",
    "## Xnorm = $\\frac {x - minValue} { maxValue - minValue}$"
   ]
  },
  {
   "cell_type": "code",
   "execution_count": 65,
   "id": "24db5802",
   "metadata": {},
   "outputs": [
    {
     "name": "stdout",
     "output_type": "stream",
     "text": [
      "   size\n",
      "0   273\n",
      "1   182\n",
      "2   182\n",
      "3   182\n",
      "4    81\n",
      "0       ./output_crop/cropfemale\\female_0.png\n",
      "1       ./output_crop/cropfemale\\female_1.png\n",
      "2     ./output_crop/cropfemale\\female_100.png\n",
      "3    ./output_crop/cropfemale\\female_1003.png\n",
      "4    ./output_crop/cropfemale\\female_1008.png\n",
      "Name: path, dtype: object\n"
     ]
    }
   ],
   "source": [
    "print(df.iloc[:,1:].head(5))\n",
    "print(df.iloc[:,0].head(5))"
   ]
  },
  {
   "cell_type": "code",
   "execution_count": 31,
   "id": "2d0c0aa9",
   "metadata": {},
   "outputs": [
    {
     "data": {
      "text/html": [
       "<div>\n",
       "<style scoped>\n",
       "    .dataframe tbody tr th:only-of-type {\n",
       "        vertical-align: middle;\n",
       "    }\n",
       "\n",
       "    .dataframe tbody tr th {\n",
       "        vertical-align: top;\n",
       "    }\n",
       "\n",
       "    .dataframe thead th {\n",
       "        text-align: right;\n",
       "    }\n",
       "</style>\n",
       "<table border=\"1\" class=\"dataframe\">\n",
       "  <thead>\n",
       "    <tr style=\"text-align: right;\">\n",
       "      <th></th>\n",
       "      <th>path</th>\n",
       "      <th>size</th>\n",
       "      <th>gender</th>\n",
       "      <th>structure size</th>\n",
       "    </tr>\n",
       "  </thead>\n",
       "  <tbody>\n",
       "    <tr>\n",
       "      <th>0</th>\n",
       "      <td>./output_crop/cropfemale\\female_0.png</td>\n",
       "      <td>273</td>\n",
       "      <td>female</td>\n",
       "      <td>[188, 180, 184, 188, 173, 179, 192, 178, 216, ...</td>\n",
       "    </tr>\n",
       "    <tr>\n",
       "      <th>1</th>\n",
       "      <td>./output_crop/cropfemale\\female_1.png</td>\n",
       "      <td>182</td>\n",
       "      <td>female</td>\n",
       "      <td>[32, 24, 32, 27, 29, 29, 29, 32, 36, 30, 46, 8...</td>\n",
       "    </tr>\n",
       "    <tr>\n",
       "      <th>2</th>\n",
       "      <td>./output_crop/cropfemale\\female_100.png</td>\n",
       "      <td>182</td>\n",
       "      <td>female</td>\n",
       "      <td>[22, 30, 39, 36, 30, 61, 11, 17, 10, 19, 13, 1...</td>\n",
       "    </tr>\n",
       "    <tr>\n",
       "      <th>3</th>\n",
       "      <td>./output_crop/cropfemale\\female_1003.png</td>\n",
       "      <td>182</td>\n",
       "      <td>female</td>\n",
       "      <td>[35, 35, 35, 35, 35, 35, 35, 35, 35, 35, 35, 3...</td>\n",
       "    </tr>\n",
       "    <tr>\n",
       "      <th>4</th>\n",
       "      <td>./output_crop/cropfemale\\female_1008.png</td>\n",
       "      <td>81</td>\n",
       "      <td>female</td>\n",
       "      <td>[86, 86, 71, 54, 45, 49, 33, 20, 18, 23, 27, 2...</td>\n",
       "    </tr>\n",
       "  </tbody>\n",
       "</table>\n",
       "</div>"
      ],
      "text/plain": [
       "                                       path  size  gender  \\\n",
       "0     ./output_crop/cropfemale\\female_0.png   273  female   \n",
       "1     ./output_crop/cropfemale\\female_1.png   182  female   \n",
       "2   ./output_crop/cropfemale\\female_100.png   182  female   \n",
       "3  ./output_crop/cropfemale\\female_1003.png   182  female   \n",
       "4  ./output_crop/cropfemale\\female_1008.png    81  female   \n",
       "\n",
       "                                      structure size  \n",
       "0  [188, 180, 184, 188, 173, 179, 192, 178, 216, ...  \n",
       "1  [32, 24, 32, 27, 29, 29, 29, 32, 36, 30, 46, 8...  \n",
       "2  [22, 30, 39, 36, 30, 61, 11, 17, 10, 19, 13, 1...  \n",
       "3  [35, 35, 35, 35, 35, 35, 35, 35, 35, 35, 35, 3...  \n",
       "4  [86, 86, 71, 54, 45, 49, 33, 20, 18, 23, 27, 2...  "
      ]
     },
     "execution_count": 31,
     "metadata": {},
     "output_type": "execute_result"
    }
   ],
   "source": [
    "dfnew.head()"
   ]
  },
  {
   "cell_type": "code",
   "execution_count": 66,
   "id": "d88f280d",
   "metadata": {},
   "outputs": [],
   "source": [
    "# split the data\n",
    "x=df2.iloc[:,1:].values # independent variable\n",
    "y=df2.iloc[:,0].values # dependent variable"
   ]
  },
  {
   "cell_type": "code",
   "execution_count": 67,
   "id": "59960b48",
   "metadata": {},
   "outputs": [
    {
     "data": {
      "text/plain": [
       "(5458, 10000)"
      ]
     },
     "execution_count": 67,
     "metadata": {},
     "output_type": "execute_result"
    }
   ],
   "source": [
    "x.shape"
   ]
  },
  {
   "cell_type": "code",
   "execution_count": 68,
   "id": "d4eb0f4e",
   "metadata": {},
   "outputs": [
    {
     "name": "stdout",
     "output_type": "stream",
     "text": [
      "[[188 180 184 ... 120 117 111]\n",
      " [ 32  24  32 ...  36  62  17]\n",
      " [ 22  30  39 ... 190 177 177]\n",
      " ...\n",
      " [ 25  25  26 ...  30  31  34]\n",
      " [ 21  27  31 ...  20  22  25]\n",
      " [  4   3   2 ...  90  90  93]]\n",
      "['female' 'female' 'female' ... 'male' 'male' 'male']\n"
     ]
    }
   ],
   "source": [
    "print(x)\n",
    "print(y)"
   ]
  },
  {
   "cell_type": "code",
   "execution_count": 69,
   "id": "4ee06105",
   "metadata": {},
   "outputs": [
    {
     "data": {
      "text/plain": [
       "255"
      ]
     },
     "execution_count": 69,
     "metadata": {},
     "output_type": "execute_result"
    }
   ],
   "source": [
    "x.min();x.max()"
   ]
  },
  {
   "cell_type": "code",
   "execution_count": 70,
   "id": "75a3aba9",
   "metadata": {},
   "outputs": [],
   "source": [
    "xnorm=x/x.max()"
   ]
  },
  {
   "cell_type": "code",
   "execution_count": 71,
   "id": "988fd04c",
   "metadata": {},
   "outputs": [
    {
     "data": {
      "text/plain": [
       "array([[0.7372549 , 0.70588235, 0.72156863, ..., 0.47058824, 0.45882353,\n",
       "        0.43529412],\n",
       "       [0.1254902 , 0.09411765, 0.1254902 , ..., 0.14117647, 0.24313725,\n",
       "        0.06666667],\n",
       "       [0.08627451, 0.11764706, 0.15294118, ..., 0.74509804, 0.69411765,\n",
       "        0.69411765],\n",
       "       ...,\n",
       "       [0.09803922, 0.09803922, 0.10196078, ..., 0.11764706, 0.12156863,\n",
       "        0.13333333],\n",
       "       [0.08235294, 0.10588235, 0.12156863, ..., 0.07843137, 0.08627451,\n",
       "        0.09803922],\n",
       "       [0.01568627, 0.01176471, 0.00784314, ..., 0.35294118, 0.35294118,\n",
       "        0.36470588]])"
      ]
     },
     "execution_count": 71,
     "metadata": {},
     "output_type": "execute_result"
    }
   ],
   "source": [
    "xnorm"
   ]
  },
  {
   "cell_type": "code",
   "execution_count": 72,
   "id": "ae086a04",
   "metadata": {},
   "outputs": [
    {
     "data": {
      "text/plain": [
       "'male'"
      ]
     },
     "execution_count": 72,
     "metadata": {},
     "output_type": "execute_result"
    }
   ],
   "source": [
    "y.min();y.max()"
   ]
  },
  {
   "cell_type": "code",
   "execution_count": 73,
   "id": "2392a4f8",
   "metadata": {},
   "outputs": [
    {
     "data": {
      "text/plain": [
       "array(['female', 'female', 'female', ..., 'male', 'male', 'male'],\n",
       "      dtype=object)"
      ]
     },
     "execution_count": 73,
     "metadata": {},
     "output_type": "execute_result"
    }
   ],
   "source": [
    "y"
   ]
  },
  {
   "cell_type": "code",
   "execution_count": 74,
   "id": "d3495506",
   "metadata": {},
   "outputs": [
    {
     "name": "stdout",
     "output_type": "stream",
     "text": [
      "[1 1 1 ... 0 0 0]\n"
     ]
    }
   ],
   "source": [
    "# label encoding the string to integer.\n",
    "#female =1 and male=0\n",
    "y_norm=np.where(y=='female',1,0)\n",
    "print(y_norm)\n"
   ]
  },
  {
   "cell_type": "code",
   "execution_count": 75,
   "id": "e6fc7b83",
   "metadata": {},
   "outputs": [
    {
     "data": {
      "text/plain": [
       "array([1, 1, 1, ..., 0, 0, 0])"
      ]
     },
     "execution_count": 75,
     "metadata": {},
     "output_type": "execute_result"
    }
   ],
   "source": [
    "y_norm"
   ]
  },
  {
   "cell_type": "code",
   "execution_count": 76,
   "id": "d491115c",
   "metadata": {},
   "outputs": [],
   "source": [
    "#saving xnorm and ynorm data into file.\n",
    "np.savez('./output_crop/data_10000_norm.npz',xnorm,y_norm)"
   ]
  },
  {
   "cell_type": "code",
   "execution_count": null,
   "id": "0561d0d0",
   "metadata": {},
   "outputs": [],
   "source": []
  }
 ],
 "metadata": {
  "kernelspec": {
   "display_name": "Python 3 (ipykernel)",
   "language": "python",
   "name": "python3"
  },
  "language_info": {
   "codemirror_mode": {
    "name": "ipython",
    "version": 3
   },
   "file_extension": ".py",
   "mimetype": "text/x-python",
   "name": "python",
   "nbconvert_exporter": "python",
   "pygments_lexer": "ipython3",
   "version": "3.9.7"
  }
 },
 "nbformat": 4,
 "nbformat_minor": 5
}
