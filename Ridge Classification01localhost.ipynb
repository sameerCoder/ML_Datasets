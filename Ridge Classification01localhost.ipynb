{
 "cells": [
  {
   "cell_type": "code",
   "execution_count": 1,
   "id": "fff50ad5",
   "metadata": {},
   "outputs": [],
   "source": [
    "import pandas as pd"
   ]
  },
  {
   "cell_type": "code",
   "execution_count": null,
   "id": "63636628",
   "metadata": {},
   "outputs": [],
   "source": []
  },
  {
   "cell_type": "code",
   "execution_count": 2,
   "id": "214c3925",
   "metadata": {},
   "outputs": [],
   "source": [
    "url=\"https://raw.githubusercontent.com/liquidcarrot/data.cjyvyspsy0000l2m932iv07k1/master/index.csv\""
   ]
  },
  {
   "cell_type": "code",
   "execution_count": 3,
   "id": "e1e4a392",
   "metadata": {},
   "outputs": [],
   "source": [
    "df=pd.read_csv(url,delimiter=\";\")"
   ]
  },
  {
   "cell_type": "code",
   "execution_count": 4,
   "id": "c4f3ec29",
   "metadata": {},
   "outputs": [
    {
     "data": {
      "text/plain": [
       "Index(['fixed acidity', 'volatile acidity', 'citric acid', 'residual sugar',\n",
       "       'chlorides', 'free sulfur dioxide', 'total sulfur dioxide', 'density',\n",
       "       'pH', 'sulphates', 'alcohol', 'quality'],\n",
       "      dtype='object')"
      ]
     },
     "execution_count": 4,
     "metadata": {},
     "output_type": "execute_result"
    }
   ],
   "source": [
    "df.columns"
   ]
  },
  {
   "cell_type": "code",
   "execution_count": 5,
   "id": "f9f7e017",
   "metadata": {},
   "outputs": [],
   "source": [
    "# wine quality is target/ output"
   ]
  },
  {
   "cell_type": "code",
   "execution_count": 9,
   "id": "6fd253d3",
   "metadata": {},
   "outputs": [],
   "source": [
    "from sklearn.model_selection import train_test_split\n",
    "x_train,x_test,y_train,y_test=train_test_split(df,df['quality'],test_size=0.25)"
   ]
  },
  {
   "cell_type": "code",
   "execution_count": 10,
   "id": "044f8d35",
   "metadata": {},
   "outputs": [
    {
     "data": {
      "text/html": [
       "<div>\n",
       "<style scoped>\n",
       "    .dataframe tbody tr th:only-of-type {\n",
       "        vertical-align: middle;\n",
       "    }\n",
       "\n",
       "    .dataframe tbody tr th {\n",
       "        vertical-align: top;\n",
       "    }\n",
       "\n",
       "    .dataframe thead th {\n",
       "        text-align: right;\n",
       "    }\n",
       "</style>\n",
       "<table border=\"1\" class=\"dataframe\">\n",
       "  <thead>\n",
       "    <tr style=\"text-align: right;\">\n",
       "      <th></th>\n",
       "      <th>fixed acidity</th>\n",
       "      <th>volatile acidity</th>\n",
       "      <th>citric acid</th>\n",
       "      <th>residual sugar</th>\n",
       "      <th>chlorides</th>\n",
       "      <th>free sulfur dioxide</th>\n",
       "      <th>total sulfur dioxide</th>\n",
       "      <th>density</th>\n",
       "      <th>pH</th>\n",
       "      <th>sulphates</th>\n",
       "      <th>alcohol</th>\n",
       "      <th>quality</th>\n",
       "    </tr>\n",
       "  </thead>\n",
       "  <tbody>\n",
       "    <tr>\n",
       "      <th>3632</th>\n",
       "      <td>6.5</td>\n",
       "      <td>0.21</td>\n",
       "      <td>0.51</td>\n",
       "      <td>17.6</td>\n",
       "      <td>0.045</td>\n",
       "      <td>34.0</td>\n",
       "      <td>125.0</td>\n",
       "      <td>0.99966</td>\n",
       "      <td>3.20</td>\n",
       "      <td>0.47</td>\n",
       "      <td>8.8</td>\n",
       "      <td>6</td>\n",
       "    </tr>\n",
       "    <tr>\n",
       "      <th>663</th>\n",
       "      <td>7.1</td>\n",
       "      <td>0.28</td>\n",
       "      <td>0.26</td>\n",
       "      <td>1.9</td>\n",
       "      <td>0.049</td>\n",
       "      <td>12.0</td>\n",
       "      <td>86.0</td>\n",
       "      <td>0.99340</td>\n",
       "      <td>3.15</td>\n",
       "      <td>0.38</td>\n",
       "      <td>9.4</td>\n",
       "      <td>5</td>\n",
       "    </tr>\n",
       "    <tr>\n",
       "      <th>215</th>\n",
       "      <td>5.8</td>\n",
       "      <td>0.26</td>\n",
       "      <td>0.24</td>\n",
       "      <td>9.2</td>\n",
       "      <td>0.044</td>\n",
       "      <td>55.0</td>\n",
       "      <td>152.0</td>\n",
       "      <td>0.99610</td>\n",
       "      <td>3.31</td>\n",
       "      <td>0.38</td>\n",
       "      <td>9.4</td>\n",
       "      <td>5</td>\n",
       "    </tr>\n",
       "    <tr>\n",
       "      <th>4326</th>\n",
       "      <td>7.4</td>\n",
       "      <td>0.38</td>\n",
       "      <td>0.34</td>\n",
       "      <td>8.3</td>\n",
       "      <td>0.052</td>\n",
       "      <td>44.0</td>\n",
       "      <td>168.0</td>\n",
       "      <td>0.99627</td>\n",
       "      <td>3.11</td>\n",
       "      <td>0.52</td>\n",
       "      <td>9.2</td>\n",
       "      <td>5</td>\n",
       "    </tr>\n",
       "    <tr>\n",
       "      <th>2518</th>\n",
       "      <td>7.1</td>\n",
       "      <td>0.12</td>\n",
       "      <td>0.30</td>\n",
       "      <td>3.1</td>\n",
       "      <td>0.018</td>\n",
       "      <td>15.0</td>\n",
       "      <td>37.0</td>\n",
       "      <td>0.99004</td>\n",
       "      <td>3.02</td>\n",
       "      <td>0.52</td>\n",
       "      <td>11.9</td>\n",
       "      <td>7</td>\n",
       "    </tr>\n",
       "  </tbody>\n",
       "</table>\n",
       "</div>"
      ],
      "text/plain": [
       "      fixed acidity  volatile acidity  citric acid  residual sugar  chlorides  \\\n",
       "3632            6.5              0.21         0.51            17.6      0.045   \n",
       "663             7.1              0.28         0.26             1.9      0.049   \n",
       "215             5.8              0.26         0.24             9.2      0.044   \n",
       "4326            7.4              0.38         0.34             8.3      0.052   \n",
       "2518            7.1              0.12         0.30             3.1      0.018   \n",
       "\n",
       "      free sulfur dioxide  total sulfur dioxide  density    pH  sulphates  \\\n",
       "3632                 34.0                 125.0  0.99966  3.20       0.47   \n",
       "663                  12.0                  86.0  0.99340  3.15       0.38   \n",
       "215                  55.0                 152.0  0.99610  3.31       0.38   \n",
       "4326                 44.0                 168.0  0.99627  3.11       0.52   \n",
       "2518                 15.0                  37.0  0.99004  3.02       0.52   \n",
       "\n",
       "      alcohol  quality  \n",
       "3632      8.8        6  \n",
       "663       9.4        5  \n",
       "215       9.4        5  \n",
       "4326      9.2        5  \n",
       "2518     11.9        7  "
      ]
     },
     "execution_count": 10,
     "metadata": {},
     "output_type": "execute_result"
    }
   ],
   "source": [
    "x_train.head()"
   ]
  },
  {
   "cell_type": "code",
   "execution_count": 11,
   "id": "14f98638",
   "metadata": {},
   "outputs": [
    {
     "data": {
      "text/plain": [
       "3632    6\n",
       "663     5\n",
       "215     5\n",
       "4326    5\n",
       "2518    7\n",
       "Name: quality, dtype: int64"
      ]
     },
     "execution_count": 11,
     "metadata": {},
     "output_type": "execute_result"
    }
   ],
   "source": [
    "y_train[:5]"
   ]
  },
  {
   "cell_type": "code",
   "execution_count": 12,
   "id": "e6589fa9",
   "metadata": {},
   "outputs": [],
   "source": [
    "from sklearn.linear_model import RidgeClassifier\n",
    "from sklearn.preprocessing import StandardScaler"
   ]
  },
  {
   "cell_type": "code",
   "execution_count": 13,
   "id": "d103eac4",
   "metadata": {},
   "outputs": [],
   "source": [
    "# instantiate the scaler\n",
    "scaler=StandardScaler()"
   ]
  },
  {
   "cell_type": "code",
   "execution_count": 14,
   "id": "869f185f",
   "metadata": {},
   "outputs": [],
   "source": [
    "# scalling each x and y.\n",
    "# show mean scaler sklearn.\n",
    "\n",
    "x_train_s=scaler.fit_transform(x_train)\n",
    "x_test_s=scaler.transform(x_test)"
   ]
  },
  {
   "cell_type": "code",
   "execution_count": 15,
   "id": "1bb67b3d",
   "metadata": {},
   "outputs": [
    {
     "data": {
      "text/plain": [
       "array([[-0.42177949, -0.67990848,  1.49515704, ..., -0.16382344,\n",
       "        -1.38126133,  0.14621312],\n",
       "       [ 0.29646619,  0.01954643, -0.61512432, ..., -0.96174761,\n",
       "        -0.89725888, -0.97730316],\n",
       "       [-1.25973278, -0.18029783, -0.78394683, ..., -0.96174761,\n",
       "        -0.89725888, -0.97730316],\n",
       "       ...,\n",
       "       [-0.78090233, -0.57998635, -0.53071307, ..., -0.25248168,\n",
       "        -1.05859303,  0.14621312],\n",
       "       [ 0.4161738 , -0.48006422,  0.39781073, ..., -0.42979816,\n",
       "        -1.21992718,  0.14621312],\n",
       "       [-0.78090233,  0.71900135, -1.12159185, ...,  0.10215129,\n",
       "        -1.38126133,  0.14621312]])"
      ]
     },
     "execution_count": 15,
     "metadata": {},
     "output_type": "execute_result"
    }
   ],
   "source": [
    "x_train_s"
   ]
  },
  {
   "cell_type": "code",
   "execution_count": 16,
   "id": "553fbd5f",
   "metadata": {},
   "outputs": [],
   "source": [
    "# instantiate ridge classifier model.\n",
    "rgc=RidgeClassifier(alpha=10,random_state=42)"
   ]
  },
  {
   "cell_type": "code",
   "execution_count": 17,
   "id": "01e7f6a3",
   "metadata": {},
   "outputs": [
    {
     "data": {
      "text/plain": [
       "RidgeClassifier(alpha=10, random_state=42)"
      ]
     },
     "execution_count": 17,
     "metadata": {},
     "output_type": "execute_result"
    }
   ],
   "source": [
    "# fit the ridge classifier model.\n",
    "rgc.fit(x_train,y_train)"
   ]
  },
  {
   "cell_type": "code",
   "execution_count": 18,
   "id": "38d64d2a",
   "metadata": {},
   "outputs": [
    {
     "name": "stderr",
     "output_type": "stream",
     "text": [
      "C:\\Users\\md.sakib\\.conda\\envs\\bris1\\lib\\site-packages\\sklearn\\base.py:445: UserWarning: X does not have valid feature names, but RidgeClassifier was fitted with feature names\n",
      "  warnings.warn(\n"
     ]
    }
   ],
   "source": [
    "# making prediction using ridge model.\n",
    "y_pred_rgc=rgc.predict(x_test_s)"
   ]
  },
  {
   "cell_type": "code",
   "execution_count": 19,
   "id": "24c1cd26",
   "metadata": {},
   "outputs": [
    {
     "data": {
      "text/plain": [
       "0.763265306122449"
      ]
     },
     "execution_count": 19,
     "metadata": {},
     "output_type": "execute_result"
    }
   ],
   "source": [
    " #Accuracy Score.\n",
    "rgc.score(x_test,y_test)"
   ]
  },
  {
   "cell_type": "code",
   "execution_count": 21,
   "id": "f7d523d0",
   "metadata": {},
   "outputs": [
    {
     "data": {
      "text/plain": [
       "0.2914285714285714"
      ]
     },
     "execution_count": 21,
     "metadata": {},
     "output_type": "execute_result"
    }
   ],
   "source": [
    "from sklearn.metrics import accuracy_score\n",
    "accuracy_score(y_test,y_pred_rgc)"
   ]
  },
  {
   "cell_type": "code",
   "execution_count": 22,
   "id": "4e7cfcca",
   "metadata": {},
   "outputs": [],
   "source": [
    "# imporoving the regulization "
   ]
  },
  {
   "cell_type": "code",
   "execution_count": 29,
   "id": "f17c58dd",
   "metadata": {},
   "outputs": [
    {
     "name": "stderr",
     "output_type": "stream",
     "text": [
      "C:\\Users\\md.sakib\\.conda\\envs\\bris1\\lib\\site-packages\\sklearn\\base.py:445: UserWarning: X does not have valid feature names, but RidgeClassifier was fitted with feature names\n",
      "  warnings.warn(\n",
      "C:\\Users\\md.sakib\\.conda\\envs\\bris1\\lib\\site-packages\\sklearn\\base.py:445: UserWarning: X does not have valid feature names, but RidgeClassifier was fitted with feature names\n",
      "  warnings.warn(\n",
      "C:\\Users\\md.sakib\\.conda\\envs\\bris1\\lib\\site-packages\\sklearn\\base.py:445: UserWarning: X does not have valid feature names, but RidgeClassifier was fitted with feature names\n",
      "  warnings.warn(\n",
      "C:\\Users\\md.sakib\\.conda\\envs\\bris1\\lib\\site-packages\\sklearn\\base.py:445: UserWarning: X does not have valid feature names, but RidgeClassifier was fitted with feature names\n",
      "  warnings.warn(\n",
      "C:\\Users\\md.sakib\\.conda\\envs\\bris1\\lib\\site-packages\\sklearn\\base.py:445: UserWarning: X does not have valid feature names, but RidgeClassifier was fitted with feature names\n",
      "  warnings.warn(\n",
      "C:\\Users\\md.sakib\\.conda\\envs\\bris1\\lib\\site-packages\\sklearn\\base.py:445: UserWarning: X does not have valid feature names, but RidgeClassifier was fitted with feature names\n",
      "  warnings.warn(\n"
     ]
    },
    {
     "name": "stdout",
     "output_type": "stream",
     "text": [
      "for alpha:[4]\n",
      " score ridge:0.2914285714285714\n",
      "acc_score ridge:0.2914285714285714\n",
      "for alpha:[1000]\n",
      " score ridge:0.2914285714285714\n",
      "acc_score ridge:0.2914285714285714\n",
      "for alpha:[10000]\n",
      " score ridge:0.2914285714285714\n",
      "acc_score ridge:0.2914285714285714\n",
      "for alpha:[100000]\n",
      " score ridge:0.45387755102040817\n",
      "acc_score ridge:0.45387755102040817\n",
      "for alpha:[1000000]\n",
      " score ridge:0.45387755102040817\n",
      "acc_score ridge:0.45387755102040817\n"
     ]
    },
    {
     "name": "stderr",
     "output_type": "stream",
     "text": [
      "C:\\Users\\md.sakib\\.conda\\envs\\bris1\\lib\\site-packages\\sklearn\\base.py:445: UserWarning: X does not have valid feature names, but RidgeClassifier was fitted with feature names\n",
      "  warnings.warn(\n",
      "C:\\Users\\md.sakib\\.conda\\envs\\bris1\\lib\\site-packages\\sklearn\\base.py:445: UserWarning: X does not have valid feature names, but RidgeClassifier was fitted with feature names\n",
      "  warnings.warn(\n",
      "C:\\Users\\md.sakib\\.conda\\envs\\bris1\\lib\\site-packages\\sklearn\\base.py:445: UserWarning: X does not have valid feature names, but RidgeClassifier was fitted with feature names\n",
      "  warnings.warn(\n",
      "C:\\Users\\md.sakib\\.conda\\envs\\bris1\\lib\\site-packages\\sklearn\\base.py:445: UserWarning: X does not have valid feature names, but RidgeClassifier was fitted with feature names\n",
      "  warnings.warn(\n"
     ]
    }
   ],
   "source": [
    "# chaning different Alpha values.\n",
    "for regularization in [4],[1000],[10**4],[10**5],[10**6]:\n",
    "    #scalin the training and test data\n",
    "    scaler=StandardScaler()\n",
    "    x_train_s=scaler.fit_transform(x_train)\n",
    "    x_test_s=scaler.transform(x_test)\n",
    "    \n",
    "    #instantiate the model\n",
    "    RidgeModel=RidgeClassifier(alpha=regularization,random_state=42)\n",
    "    \n",
    "    #fit the model through the data\n",
    "    RidgeModel.fit(x_train,y_train)\n",
    "    \n",
    "    # use the model for prediction\n",
    "    y_pred_ridge=RidgeModel.predict(x_test_s)\n",
    "    \n",
    "    # calculate accuracy for all alphas\n",
    "    score=RidgeModel.score(x_test_s,y_test)\n",
    "    acc_score=accuracy_score(y_test,y_pred_ridge)\n",
    "    #print(\"R:\",regularization)\n",
    "    \n",
    "    #print(f'for alpha(regularization)\\n score ridge: {score},\\nacc_score ridge:{acc_score}\\n')\n",
    "    print('for alpha:{}\\n score ridge:{}\\nacc_score ridge:{}'.format(regularization,score,acc_score))\n",
    "    \n"
   ]
  },
  {
   "cell_type": "code",
   "execution_count": null,
   "id": "ff05291e",
   "metadata": {},
   "outputs": [],
   "source": []
  }
 ],
 "metadata": {
  "kernelspec": {
   "display_name": "Python 3",
   "language": "python",
   "name": "python3"
  },
  "language_info": {
   "codemirror_mode": {
    "name": "ipython",
    "version": 3
   },
   "file_extension": ".py",
   "mimetype": "text/x-python",
   "name": "python",
   "nbconvert_exporter": "python",
   "pygments_lexer": "ipython3",
   "version": "3.9.5"
  }
 },
 "nbformat": 4,
 "nbformat_minor": 5
}
