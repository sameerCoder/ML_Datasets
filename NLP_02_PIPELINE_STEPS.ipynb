{
  "cells": [
    {
      "cell_type": "code",
      "execution_count": 29,
      "metadata": {
        "id": "ulEzuK70s6K2"
      },
      "outputs": [],
      "source": [
        "# word cloud\n",
        "import pandas as pd\n",
        "import matplotlib.pyplot as plt\n",
        "from wordcloud import WordCloud"
      ]
    },
    {
      "cell_type": "code",
      "execution_count": 30,
      "metadata": {
        "id": "KNrjta6cSzI4",
        "colab": {
          "base_uri": "https://localhost:8080/",
          "height": 372
        },
        "outputId": "b6df0235-afb3-4f75-b8af-6bb69be1b4e4"
      },
      "outputs": [
        {
          "output_type": "execute_result",
          "data": {
            "text/html": [
              "\n",
              "  <div id=\"df-c469058b-c6df-4bed-991d-72307aa8cdd8\">\n",
              "    <div class=\"colab-df-container\">\n",
              "      <div>\n",
              "<style scoped>\n",
              "    .dataframe tbody tr th:only-of-type {\n",
              "        vertical-align: middle;\n",
              "    }\n",
              "\n",
              "    .dataframe tbody tr th {\n",
              "        vertical-align: top;\n",
              "    }\n",
              "\n",
              "    .dataframe thead th {\n",
              "        text-align: right;\n",
              "    }\n",
              "</style>\n",
              "<table border=\"1\" class=\"dataframe\">\n",
              "  <thead>\n",
              "    <tr style=\"text-align: right;\">\n",
              "      <th></th>\n",
              "      <th>rank</th>\n",
              "      <th>title</th>\n",
              "      <th>total ratings</th>\n",
              "      <th>installs</th>\n",
              "      <th>average rating</th>\n",
              "      <th>growth (30 days)</th>\n",
              "      <th>growth (60 days)</th>\n",
              "      <th>price</th>\n",
              "      <th>category</th>\n",
              "      <th>5 star ratings</th>\n",
              "      <th>4 star ratings</th>\n",
              "      <th>3 star ratings</th>\n",
              "      <th>2 star ratings</th>\n",
              "      <th>1 star ratings</th>\n",
              "      <th>paid</th>\n",
              "    </tr>\n",
              "  </thead>\n",
              "  <tbody>\n",
              "    <tr>\n",
              "      <th>0</th>\n",
              "      <td>1</td>\n",
              "      <td>Garena Free Fire- World Series</td>\n",
              "      <td>86273129</td>\n",
              "      <td>500.0 M</td>\n",
              "      <td>4</td>\n",
              "      <td>2.1</td>\n",
              "      <td>6.9</td>\n",
              "      <td>0.0</td>\n",
              "      <td>GAME ACTION</td>\n",
              "      <td>63546766</td>\n",
              "      <td>4949507</td>\n",
              "      <td>3158756</td>\n",
              "      <td>2122183</td>\n",
              "      <td>12495915</td>\n",
              "      <td>False</td>\n",
              "    </tr>\n",
              "    <tr>\n",
              "      <th>1</th>\n",
              "      <td>2</td>\n",
              "      <td>PUBG MOBILE - Traverse</td>\n",
              "      <td>37276732</td>\n",
              "      <td>500.0 M</td>\n",
              "      <td>4</td>\n",
              "      <td>1.8</td>\n",
              "      <td>3.6</td>\n",
              "      <td>0.0</td>\n",
              "      <td>GAME ACTION</td>\n",
              "      <td>28339753</td>\n",
              "      <td>2164478</td>\n",
              "      <td>1253185</td>\n",
              "      <td>809821</td>\n",
              "      <td>4709492</td>\n",
              "      <td>False</td>\n",
              "    </tr>\n",
              "    <tr>\n",
              "      <th>2</th>\n",
              "      <td>3</td>\n",
              "      <td>Mobile Legends: Bang Bang</td>\n",
              "      <td>26663595</td>\n",
              "      <td>100.0 M</td>\n",
              "      <td>4</td>\n",
              "      <td>1.5</td>\n",
              "      <td>3.2</td>\n",
              "      <td>0.0</td>\n",
              "      <td>GAME ACTION</td>\n",
              "      <td>18777988</td>\n",
              "      <td>1812094</td>\n",
              "      <td>1050600</td>\n",
              "      <td>713912</td>\n",
              "      <td>4308998</td>\n",
              "      <td>False</td>\n",
              "    </tr>\n",
              "    <tr>\n",
              "      <th>3</th>\n",
              "      <td>4</td>\n",
              "      <td>Brawl Stars</td>\n",
              "      <td>17971552</td>\n",
              "      <td>100.0 M</td>\n",
              "      <td>4</td>\n",
              "      <td>1.4</td>\n",
              "      <td>4.4</td>\n",
              "      <td>0.0</td>\n",
              "      <td>GAME ACTION</td>\n",
              "      <td>13018610</td>\n",
              "      <td>1552950</td>\n",
              "      <td>774012</td>\n",
              "      <td>406184</td>\n",
              "      <td>2219794</td>\n",
              "      <td>False</td>\n",
              "    </tr>\n",
              "    <tr>\n",
              "      <th>4</th>\n",
              "      <td>5</td>\n",
              "      <td>Sniper 3D: Fun Free Online FPS Shooting Game</td>\n",
              "      <td>14464235</td>\n",
              "      <td>500.0 M</td>\n",
              "      <td>4</td>\n",
              "      <td>0.8</td>\n",
              "      <td>1.5</td>\n",
              "      <td>0.0</td>\n",
              "      <td>GAME ACTION</td>\n",
              "      <td>9827328</td>\n",
              "      <td>2124154</td>\n",
              "      <td>1047741</td>\n",
              "      <td>380670</td>\n",
              "      <td>1084340</td>\n",
              "      <td>False</td>\n",
              "    </tr>\n",
              "  </tbody>\n",
              "</table>\n",
              "</div>\n",
              "      <button class=\"colab-df-convert\" onclick=\"convertToInteractive('df-c469058b-c6df-4bed-991d-72307aa8cdd8')\"\n",
              "              title=\"Convert this dataframe to an interactive table.\"\n",
              "              style=\"display:none;\">\n",
              "        \n",
              "  <svg xmlns=\"http://www.w3.org/2000/svg\" height=\"24px\"viewBox=\"0 0 24 24\"\n",
              "       width=\"24px\">\n",
              "    <path d=\"M0 0h24v24H0V0z\" fill=\"none\"/>\n",
              "    <path d=\"M18.56 5.44l.94 2.06.94-2.06 2.06-.94-2.06-.94-.94-2.06-.94 2.06-2.06.94zm-11 1L8.5 8.5l.94-2.06 2.06-.94-2.06-.94L8.5 2.5l-.94 2.06-2.06.94zm10 10l.94 2.06.94-2.06 2.06-.94-2.06-.94-.94-2.06-.94 2.06-2.06.94z\"/><path d=\"M17.41 7.96l-1.37-1.37c-.4-.4-.92-.59-1.43-.59-.52 0-1.04.2-1.43.59L10.3 9.45l-7.72 7.72c-.78.78-.78 2.05 0 2.83L4 21.41c.39.39.9.59 1.41.59.51 0 1.02-.2 1.41-.59l7.78-7.78 2.81-2.81c.8-.78.8-2.07 0-2.86zM5.41 20L4 18.59l7.72-7.72 1.47 1.35L5.41 20z\"/>\n",
              "  </svg>\n",
              "      </button>\n",
              "      \n",
              "  <style>\n",
              "    .colab-df-container {\n",
              "      display:flex;\n",
              "      flex-wrap:wrap;\n",
              "      gap: 12px;\n",
              "    }\n",
              "\n",
              "    .colab-df-convert {\n",
              "      background-color: #E8F0FE;\n",
              "      border: none;\n",
              "      border-radius: 50%;\n",
              "      cursor: pointer;\n",
              "      display: none;\n",
              "      fill: #1967D2;\n",
              "      height: 32px;\n",
              "      padding: 0 0 0 0;\n",
              "      width: 32px;\n",
              "    }\n",
              "\n",
              "    .colab-df-convert:hover {\n",
              "      background-color: #E2EBFA;\n",
              "      box-shadow: 0px 1px 2px rgba(60, 64, 67, 0.3), 0px 1px 3px 1px rgba(60, 64, 67, 0.15);\n",
              "      fill: #174EA6;\n",
              "    }\n",
              "\n",
              "    [theme=dark] .colab-df-convert {\n",
              "      background-color: #3B4455;\n",
              "      fill: #D2E3FC;\n",
              "    }\n",
              "\n",
              "    [theme=dark] .colab-df-convert:hover {\n",
              "      background-color: #434B5C;\n",
              "      box-shadow: 0px 1px 3px 1px rgba(0, 0, 0, 0.15);\n",
              "      filter: drop-shadow(0px 1px 2px rgba(0, 0, 0, 0.3));\n",
              "      fill: #FFFFFF;\n",
              "    }\n",
              "  </style>\n",
              "\n",
              "      <script>\n",
              "        const buttonEl =\n",
              "          document.querySelector('#df-c469058b-c6df-4bed-991d-72307aa8cdd8 button.colab-df-convert');\n",
              "        buttonEl.style.display =\n",
              "          google.colab.kernel.accessAllowed ? 'block' : 'none';\n",
              "\n",
              "        async function convertToInteractive(key) {\n",
              "          const element = document.querySelector('#df-c469058b-c6df-4bed-991d-72307aa8cdd8');\n",
              "          const dataTable =\n",
              "            await google.colab.kernel.invokeFunction('convertToInteractive',\n",
              "                                                     [key], {});\n",
              "          if (!dataTable) return;\n",
              "\n",
              "          const docLinkHtml = 'Like what you see? Visit the ' +\n",
              "            '<a target=\"_blank\" href=https://colab.research.google.com/notebooks/data_table.ipynb>data table notebook</a>'\n",
              "            + ' to learn more about interactive tables.';\n",
              "          element.innerHTML = '';\n",
              "          dataTable['output_type'] = 'display_data';\n",
              "          await google.colab.output.renderOutput(dataTable, element);\n",
              "          const docLink = document.createElement('div');\n",
              "          docLink.innerHTML = docLinkHtml;\n",
              "          element.appendChild(docLink);\n",
              "        }\n",
              "      </script>\n",
              "    </div>\n",
              "  </div>\n",
              "  "
            ],
            "text/plain": [
              "   rank                                         title  ...  1 star ratings   paid\n",
              "0     1                Garena Free Fire- World Series  ...        12495915  False\n",
              "1     2                        PUBG MOBILE - Traverse  ...         4709492  False\n",
              "2     3                     Mobile Legends: Bang Bang  ...         4308998  False\n",
              "3     4                                   Brawl Stars  ...         2219794  False\n",
              "4     5  Sniper 3D: Fun Free Online FPS Shooting Game  ...         1084340  False\n",
              "\n",
              "[5 rows x 15 columns]"
            ]
          },
          "metadata": {},
          "execution_count": 30
        }
      ],
      "source": [
        "url=\"https://raw.githubusercontent.com/sameerCoder/ML_Datasets/main/android-games.csv\"\n",
        "df=pd.read_csv(url)\n",
        "df.head()"
      ]
    },
    {
      "cell_type": "code",
      "execution_count": null,
      "metadata": {
        "colab": {
          "base_uri": "https://localhost:8080/"
        },
        "id": "KuaSVghTTguK",
        "outputId": "561b1b3b-0bf1-4190-bda5-131375514f5f"
      },
      "outputs": [
        {
          "data": {
            "text/plain": [
              "0       GAME ACTION\n",
              "1       GAME ACTION\n",
              "2       GAME ACTION\n",
              "3       GAME ACTION\n",
              "4       GAME ACTION\n",
              "           ...     \n",
              "1725      GAME WORD\n",
              "1726      GAME WORD\n",
              "1727      GAME WORD\n",
              "1728      GAME WORD\n",
              "1729      GAME WORD\n",
              "Name: category, Length: 1730, dtype: object"
            ]
          },
          "execution_count": 3,
          "metadata": {},
          "output_type": "execute_result"
        }
      ],
      "source": [
        "df['category']"
      ]
    },
    {
      "cell_type": "code",
      "execution_count": 31,
      "metadata": {
        "colab": {
          "base_uri": "https://localhost:8080/",
          "height": 140
        },
        "id": "hn89TsvvWHCN",
        "outputId": "103b29e3-5754-48d9-c587-21e64c42bec2"
      },
      "outputs": [
        {
          "output_type": "execute_result",
          "data": {
            "application/vnd.google.colaboratory.intrinsic+json": {
              "type": "string"
            },
            "text/plain": [
              "'ACTIONACTIONACTIONACTIONACTIONACTIONACTIONACTIONACTIONACTIONACTIONACTIONACTIONACTIONACTIONACTIONACTIONACTIONACTIONACTIONACTIONACTIONACTIONACTIONACTIONACTIONACTIONACTIONACTIONACTIONACTIONACTIONACTIONACTIONACTIONACTIONACTIONACTIONACTIONACTIONACTIONACTIONACTIONACTIONACTIONACTIONACTIONACTIONACTIONACTIONACTIONACTIONACTIONACTIONACTIONACTIONACTIONACTIONACTIONACTIONACTIONACTIONACTIONACTIONACTIONACTIONACTIONACTIONACTIONACTIONACTIONACTIONACTIONACTIONACTIONACTIONACTIONACTIONACTIONACTIONACTIONACTIONACTIONACTIONACTIONACTIONACTIONACTIONACTIONACTIONACTIONACTIONACTIONACTIONACTIONACTIONACTIONACTIONACTIONACTIONADVENTUREADVENTUREADVENTUREADVENTUREADVENTUREADVENTUREADVENTUREADVENTUREADVENTUREADVENTUREADVENTUREADVENTUREADVENTUREADVENTUREADVENTUREADVENTUREADVENTUREADVENTUREADVENTUREADVENTUREADVENTUREADVENTUREADVENTUREADVENTUREADVENTUREADVENTUREADVENTUREADVENTUREADVENTUREADVENTUREADVENTUREADVENTUREADVENTUREADVENTUREADVENTUREADVENTUREADVENTUREADVENTUREADVENTUREADVENTUREADVENTUREADVENTUREADVENTUREADVENTUREADVENTUREADVENTUREADVENTUREADVENTUREADVENTUREADVENTUREADVENTUREADVENTUREADVENTUREADVENTUREADVENTUREADVENTUREADVENTUREADVENTUREADVENTUREADVENTUREADVENTUREADVENTUREADVENTUREADVENTUREADVENTUREADVENTUREADVENTUREADVENTUREADVENTUREADVENTUREADVENTUREADVENTUREADVENTUREADVENTUREADVENTUREADVENTUREADVENTUREADVENTUREADVENTUREADVENTUREADVENTUREADVENTUREADVENTUREADVENTUREADVENTUREADVENTUREADVENTUREADVENTUREADVENTUREADVENTUREADVENTUREADVENTUREADVENTUREADVENTUREADVENTUREADVENTUREADVENTUREADVENTUREADVENTUREADVENTUREARCADEARCADEARCADEARCADEARCADEARCADEARCADEARCADEARCADEARCADEARCADEARCADEARCADEARCADEARCADEARCADEARCADEARCADEARCADEARCADEARCADEARCADEARCADEARCADEARCADEARCADEARCADEARCADEARCADEARCADEARCADEARCADEARCADEARCADEARCADEARCADEARCADEARCADEARCADEARCADEARCADEARCADEARCADEARCADEARCADEARCADEARCADEARCADEARCADEARCADEARCADEARCADEARCADEARCADEARCADEARCADEARCADEARCADEARCADEARCADEARCADEARCADEARCADEARCADEARCADEARCADEARCADEARCADEARCADEARCADEARCADEARCADEARCADEARCADEARCADEARCADEARCADEARCADEARCADEARCADEARCADEARCADEARCADEARCADEARCADEARCADEARCADEARCADEARCADEARCADEARCADEARCADEARCADEARCADEARCADEARCADEARCADEARCADEARCADEARCADEBOARDBOARDBOARDBOARDBOARDBOARDBOARDBOARDBOARDBOARDBOARDBOARDBOARDBOARDBOARDBOARDBOARDBOARDBOARDBOARDBOARDBOARDBOARDBOARDBOARDBOARDBOARDBOARDBOARDBOARDBOARDBOARDBOARDBOARDBOARDBOARDBOARDBOARDBOARDBOARDBOARDBOARDBOARDBOARDBOARDBOARDBOARDBOARDBOARDBOARDBOARDBOARDBOARDBOARDBOARDBOARDBOARDBOARDBOARDBOARDBOARDBOARDBOARDBOARDBOARDBOARDBOARDBOARDBOARDBOARDBOARDBOARDBOARDBOARDBOARDBOARDBOARDBOARDBOARDBOARDBOARDBOARDBOARDBOARDBOARDBOARDBOARDBOARDBOARDBOARDBOARDBOARDBOARDBOARDBOARDBOARDBOARDBOARDBOARDBOARDCARDCARDCARDCARDCARDCARDCARDCARDCARDCARDCARDCARDCARDCARDCARDCARDCARDCARDCARDCARDCARDCARDCARDCARDCARDCARDCARDCARDCARDCARDCARDCARDCARDCARDCARDCARDCARDCARDCARDCARDCARDCARDCARDCARDCARDCARDCARDCARDCARDCARDCARDCARDCARDCARDCARDCARDCARDCARDCARDCARDCARDCARDCARDCARDCARDCARDCARDCARDCARDCARDCARDCARDCARDCARDCARDCARDCARDCARDCARDCARDCARDCARDCARDCARDCARDCARDCARDCARDCARDCARDCARDCARDCARDCARDCARDCARDCARDCARDCARDCARDCARDCARDCARDCARDCARDCARDCARDCARDCARDCARDCARDCARDCARDCARDCARDCARDCARDCARDCARDCARDCARDCARDCARDCARDCARDCARDCASINOCASINOCASINOCASINOCASINOCASINOCASINOCASINOCASINOCASINOCASINOCASINOCASINOCASINOCASINOCASINOCASINOCASINOCASINOCASINOCASINOCASINOCASINOCASINOCASINOCASINOCASINOCASINOCASINOCASINOCASINOCASINOCASINOCASINOCASINOCASINOCASINOCASINOCASINOCASINOCASINOCASINOCASINOCASINOCASINOCASINOCASINOCASINOCASINOCASINOCASINOCASINOCASINOCASINOCASINOCASINOCASINOCASINOCASINOCASINOCASINOCASINOCASINOCASINOCASINOCASINOCASINOCASINOCASINOCASINOCASINOCASINOCASINOCASINOCASINOCASINOCASINOCASINOCASINOCASINOCASINOCASINOCASINOCASINOCASINOCASINOCASINOCASINOCASINOCASINOCASINOCASINOCASINOCASINOCASINOCASINOCASINOCASINOCASINOCASINOCASUALCASUALCASUALCASUALCASUALCASUALCASUALCASUALCASUALCASUALCASUALCASUALCASUALCASUALCASUALCASUALCASUALCASUALCASUALCASUALCASUALCASUALCASUALCASUALCASUALCASUALCASUALCASUALCASUALCASUALCASUALCASUALCASUALCASUALCASUALCASUALCASUALCASUALCASUALCASUALCASUALCASUALCASUALCASUALCASUALCASUALCASUALCASUALCASUALCASUALCASUALCASUALCASUALCASUALCASUALCASUALCASUALCASUALCASUALCASUALCASUALCASUALCASUALCASUALCASUALCASUALCASUALCASUALCASUALCASUALCASUALCASUALCASUALCASUALCASUALCASUALCASUALCASUALCASUALCASUALCASUALCASUALCASUALCASUALCASUALCASUALCASUALCASUALCASUALCASUALCASUALCASUALCASUALCASUALCASUALCASUALCASUALCASUALCASUALCASUALEDUCATIONALEDUCATIONALEDUCATIONALEDUCATIONALEDUCATIONALEDUCATIONALEDUCATIONALEDUCATIONALEDUCATIONALEDUCATIONALEDUCATIONALEDUCATIONALEDUCATIONALEDUCATIONALEDUCATIONALEDUCATIONALEDUCATIONALEDUCATIONALEDUCATIONALEDUCATIONALEDUCATIONALEDUCATIONALEDUCATIONALEDUCATIONALEDUCATIONALEDUCATIONALEDUCATIONALEDUCATIONALEDUCATIONALEDUCATIONALEDUCATIONALEDUCATIONALEDUCATIONALEDUCATIONALEDUCATIONALEDUCATIONALEDUCATIONALEDUCATIONALEDUCATIONALEDUCATIONALEDUCATIONALEDUCATIONALEDUCATIONALEDUCATIONALEDUCATIONALEDUCATIONALEDUCATIONALEDUCATIONALEDUCATIONALEDUCATIONALEDUCATIONALEDUCATIONALEDUCATIONALEDUCATIONALEDUCATIONALEDUCATIONALEDUCATIONALEDUCATIONALEDUCATIONALEDUCATIONALEDUCATIONALEDUCATIONALEDUCATIONALEDUCATIONALEDUCATIONALEDUCATIONALEDUCATIONALEDUCATIONALEDUCATIONALEDUCATIONALEDUCATIONALEDUCATIONALEDUCATIONALEDUCATIONALEDUCATIONALEDUCATIONALEDUCATIONALEDUCATIONALEDUCATIONALEDUCATIONALEDUCATIONALEDUCATIONALEDUCATIONALEDUCATIONALEDUCATIONALEDUCATIONALEDUCATIONALEDUCATIONALEDUCATIONALEDUCATIONALEDUCATIONALEDUCATIONALEDUCATIONALEDUCATIONALEDUCATIONALEDUCATIONALEDUCATIONALEDUCATIONALEDUCATIONALEDUCATIONALMUSICMUSICMUSICMUSICMUSICMUSICMUSICMUSICMUSICMUSICMUSICMUSICMUSICMUSICMUSICMUSICMUSICMUSICMUSICMUSICMUSICMUSICMUSICMUSICMUSICMUSICMUSICMUSICMUSICMUSICMUSICMUSICMUSICMUSICMUSICMUSICMUSICMUSICMUSICMUSICMUSICMUSICMUSICMUSICMUSICMUSICMUSICMUSICMUSICMUSICMUSICMUSICMUSICMUSICMUSICMUSICMUSICMUSICMUSICMUSICMUSICMUSICMUSICMUSICMUSICMUSICMUSICMUSICMUSICMUSICMUSICMUSICMUSICMUSICMUSICMUSICMUSICMUSICMUSICMUSICMUSICMUSICMUSICMUSICMUSICMUSICMUSICMUSICMUSICMUSICMUSICMUSICMUSICMUSICMUSICMUSICMUSICMUSICMUSICMUSICPUZZLEPUZZLEPUZZLEPUZZLEPUZZLEPUZZLEPUZZLEPUZZLEPUZZLEPUZZLEPUZZLEPUZZLEPUZZLEPUZZLEPUZZLEPUZZLEPUZZLEPUZZLEPUZZLEPUZZLEPUZZLEPUZZLEPUZZLEPUZZLEPUZZLEPUZZLEPUZZLEPUZZLEPUZZLEPUZZLEPUZZLEPUZZLEPUZZLEPUZZLEPUZZLEPUZZLEPUZZLEPUZZLEPUZZLEPUZZLEPUZZLEPUZZLEPUZZLEPUZZLEPUZZLEPUZZLEPUZZLEPUZZLEPUZZLEPUZZLEPUZZLEPUZZLEPUZZLEPUZZLEPUZZLEPUZZLEPUZZLEPUZZLEPUZZLEPUZZLEPUZZLEPUZZLEPUZZLEPUZZLEPUZZLEPUZZLEPUZZLEPUZZLEPUZZLEPUZZLEPUZZLEPUZZLEPUZZLEPUZZLEPUZZLEPUZZLEPUZZLEPUZZLEPUZZLEPUZZLEPUZZLEPUZZLEPUZZLEPUZZLEPUZZLEPUZZLEPUZZLEPUZZLEPUZZLEPUZZLEPUZZLEPUZZLEPUZZLEPUZZLEPUZZLEPUZZLEPUZZLEPUZZLEPUZZLEPUZZLERACINGRACINGRACINGRACINGRACINGRACINGRACINGRACINGRACINGRACINGRACINGRACINGRACINGRACINGRACINGRACINGRACINGRACINGRACINGRACINGRACINGRACINGRACINGRACINGRACINGRACINGRACINGRACINGRACINGRACINGRACINGRACINGRACINGRACINGRACINGRACINGRACINGRACINGRACINGRACINGRACINGRACINGRACINGRACINGRACINGRACINGRACINGRACINGRACINGRACINGRACINGRACINGRACINGRACINGRACINGRACINGRACINGRACINGRACINGRACINGRACINGRACINGRACINGRACINGRACINGRACINGRACINGRACINGRACINGRACINGRACINGRACINGRACINGRACINGRACINGRACINGRACINGRACINGRACINGRACINGRACINGRACINGRACINGRACINGRACINGRACINGRACINGRACINGRACINGRACINGRACINGRACINGRACINGRACINGRACINGRACINGRACINGRACINGRACINGRACINGROLEROLEROLEROLEROLEROLEROLEROLEROLEROLEROLEROLEROLEROLEROLEROLEROLEROLEROLEROLEROLEROLEROLEROLEROLEROLEROLEROLEROLEROLEROLEROLEROLEROLEROLEROLEROLEROLEROLEROLEROLEROLEROLEROLEROLEROLEROLEROLEROLEROLEROLEROLEROLEROLEROLEROLEROLEROLEROLEROLEROLEROLEROLEROLEROLEROLEROLEROLEROLEROLEROLEROLEROLEROLEROLEROLEROLEROLEROLEROLEROLEROLEROLEROLEROLEROLEROLEROLEROLEROLEROLEROLEROLEROLEROLEROLEROLEROLEROLEROLESIMULATIONSIMULATIONSIMULATIONSIMULATIONSIMULATIONSIMULATIONSIMULATIONSIMULATIONSIMULATIONSIMULATIONSIMULATIONSIMULATIONSIMULATIONSIMULATIONSIMULATIONSIMULATIONSIMULATIONSIMULATIONSIMULATIONSIMULATIONSIMULATIONSIMULATIONSIMULATIONSIMULATIONSIMULATIONSIMULATIONSIMULATIONSIMULATIONSIMULATIONSIMULATIONSIMULATIONSIMULATIONSIMULATIONSIMULATIONSIMULATIONSIMULATIONSIMULATIONSIMULATIONSIMULATIONSIMULATIONSIMULATIONSIMULATIONSIMULATIONSIMULATIONSIMULATIONSIMULATIONSIMULATIONSIMULATIONSIMULATIONSIMULATIONSIMULATIONSIMULATIONSIMULATIONSIMULATIONSIMULATIONSIMULATIONSIMULATIONSIMULATIONSIMULATIONSIMULATIONSIMULATIONSIMULATIONSIMULATIONSIMULATIONSIMULATIONSIMULATIONSIMULATIONSIMULATIONSIMULATIONSIMULATIONSIMULATIONSIMULATIONSIMULATIONSIMULATIONSIMULATIONSIMULATIONSIMULATIONSIMULATIONSIMULATIONSIMULATIONSIMULATIONSIMULATIONSIMULATIONSIMULATIONSIMULATIONSIMULATIONSIMULATIONSIMULATIONSIMULATIONSIMULATIONSIMULATIONSIMULATIONSIMULATIONSIMULATIONSIMULATIONSIMULATIONSIMULATIONSIMULATIONSIMULATIONSIMULATIONSPORTSSPORTSSPORTSSPORTSSPORTSSPORTSSPORTSSPORTSSPORTSSPORTSSPORTSSPORTSSPORTSSPORTSSPORTSSPORTSSPORTSSPORTSSPORTSSPORTSSPORTSSPORTSSPORTSSPORTSSPORTSSPORTSSPORTSSPORTSSPORTSSPORTSSPORTSSPORTSSPORTSSPORTSSPORTSSPORTSSPORTSSPORTSSPORTSSPORTSSPORTSSPORTSSPORTSSPORTSSPORTSSPORTSSPORTSSPORTSSPORTSSPORTSSPORTSSPORTSSPORTSSPORTSSPORTSSPORTSSPORTSSPORTSSPORTSSPORTSSPORTSSPORTSSPORTSSPORTSSPORTSSPORTSSPORTSSPORTSSPORTSSPORTSSPORTSSPORTSSPORTSSPORTSSPORTSSPORTSSPORTSSPORTSSPORTSSPORTSSPORTSSPORTSSPORTSSPORTSSPORTSSPORTSSPORTSSPORTSSPORTSSPORTSSPORTSSPORTSSPORTSSPORTSSPORTSSPORTSSPORTSSPORTSSPORTSSPORTSSTRATEGYSTRATEGYSTRATEGYSTRATEGYSTRATEGYSTRATEGYSTRATEGYSTRATEGYSTRATEGYSTRATEGYSTRATEGYSTRATEGYSTRATEGYSTRATEGYSTRATEGYSTRATEGYSTRATEGYSTRATEGYSTRATEGYSTRATEGYSTRATEGYSTRATEGYSTRATEGYSTRATEGYSTRATEGYSTRATEGYSTRATEGYSTRATEGYSTRATEGYSTRATEGYSTRATEGYSTRATEGYSTRATEGYSTRATEGYSTRATEGYSTRATEGYSTRATEGYSTRATEGYSTRATEGYSTRATEGYSTRATEGYSTRATEGYSTRATEGYSTRATEGYSTRATEGYSTRATEGYSTRATEGYSTRATEGYSTRATEGYSTRATEGYSTRATEGYSTRATEGYSTRATEGYSTRATEGYSTRATEGYSTRATEGYSTRATEGYSTRATEGYSTRATEGYSTRATEGYSTRATEGYSTRATEGYSTRATEGYSTRATEGYSTRATEGYSTRATEGYSTRATEGYSTRATEGYSTRATEGYSTRATEGYSTRATEGYSTRATEGYSTRATEGYSTRATEGYSTRATEGYSTRATEGYSTRATEGYSTRATEGYSTRATEGYSTRATEGYSTRATEGYSTRATEGYSTRATEGYSTRATEGYSTRATEGYSTRATEGYSTRATEGYSTRATEGYSTRATEGYSTRATEGYSTRATEGYSTRATEGYSTRATEGYSTRATEGYSTRATEGYSTRATEGYSTRATEGYSTRATEGYSTRATEGYSTRATEGYTRIVIATRIVIATRIVIATRIVIATRIVIATRIVIATRIVIATRIVIATRIVIATRIVIATRIVIATRIVIATRIVIATRIVIATRIVIATRIVIATRIVIATRIVIATRIVIATRIVIATRIVIATRIVIATRIVIATRIVIATRIVIATRIVIATRIVIATRIVIATRIVIATRIVIATRIVIATRIVIATRIVIATRIVIATRIVIATRIVIATRIVIATRIVIATRIVIATRIVIATRIVIATRIVIATRIVIATRIVIATRIVIATRIVIATRIVIATRIVIATRIVIATRIVIATRIVIATRIVIATRIVIATRIVIATRIVIATRIVIATRIVIATRIVIATRIVIATRIVIATRIVIATRIVIATRIVIATRIVIATRIVIATRIVIATRIVIATRIVIATRIVIATRIVIATRIVIATRIVIATRIVIATRIVIATRIVIATRIVIATRIVIATRIVIATRIVIATRIVIATRIVIATRIVIATRIVIATRIVIATRIVIATRIVIATRIVIATRIVIATRIVIATRIVIATRIVIATRIVIATRIVIATRIVIATRIVIATRIVIATRIVIATRIVIATRIVIATRIVIAWORDWORDWORDWORDWORDWORDWORDWORDWORDWORDWORDWORDWORDWORDWORDWORDWORDWORDWORDWORDWORDWORDWORDWORDWORDWORDWORDWORDWORDWORDWORDWORDWORDWORDWORDWORDWORDWORDWORDWORDWORDWORDWORDWORDWORDWORDWORDWORDWORDWORDWORDWORDWORDWORDWORDWORDWORDWORDWORDWORDWORDWORDWORDWORDWORDWORDWORDWORDWORDWORDWORDWORDWORDWORDWORDWORDWORDWORDWORDWORDWORDWORDWORDWORDWORDWORDWORDWORDWORDWORDWORDWORDWORDWORDWORDWORDWORDWORDWORDWORDWORDWORDWORDWORD'"
            ]
          },
          "metadata": {},
          "execution_count": 31
        }
      ],
      "source": [
        "text=\"\".join(cat.split()[1] for cat in df.category)\n",
        "text"
      ]
    },
    {
      "cell_type": "code",
      "execution_count": null,
      "metadata": {
        "id": "uITqMAFCWPLB"
      },
      "outputs": [],
      "source": [
        "#Since we need to filter the GAME from the category, we have split each row value and took the 2nd item, i.e. the category name from the category column."
      ]
    },
    {
      "cell_type": "code",
      "execution_count": null,
      "metadata": {
        "id": "u-F3kdYBWfNQ"
      },
      "outputs": [],
      "source": [
        "'''Creating the Word Cloud\n",
        "Create an object of class WordCloud with the name of your choice and call the generate() method. Here we have created the object with the name word_cloud. \n",
        "\n",
        "WordCloud() takes several arguments as per the need. Here we are adding two arguments:\n",
        "\n",
        " 1. collocations = False, which will ignore the collocation words from the Text\n",
        "\n",
        "2. background_color = ‘White’, which will make the words look clearer\n",
        "\n",
        "The .generate() method takes one argument of the text we created. In our case, we will give the text variable as an argument to .generate().'''"
      ]
    },
    {
      "cell_type": "code",
      "execution_count": 33,
      "metadata": {
        "id": "gyr7Y3YIWuiJ",
        "colab": {
          "base_uri": "https://localhost:8080/"
        },
        "outputId": "82b6774f-0322-4d27-be47-493f146a396e"
      },
      "outputs": [
        {
          "output_type": "execute_result",
          "data": {
            "text/plain": [
              "<wordcloud.wordcloud.WordCloud at 0x7fec418cc150>"
            ]
          },
          "metadata": {},
          "execution_count": 33
        }
      ],
      "source": [
        "word_cloud=WordCloud(collocations=False,background_color='white').generate(text)\n",
        "word_cloud"
      ]
    },
    {
      "cell_type": "code",
      "source": [
        "Word2=WordCloud(collocations=False,background_color='white').generate(text)\n",
        "print(Word2)"
      ],
      "metadata": {
        "id": "H-1B-9mD9eJv"
      },
      "execution_count": null,
      "outputs": []
    },
    {
      "cell_type": "code",
      "source": [
        "plt.imshow(Word2,interpolation='bilinear')\n",
        "plt.show()"
      ],
      "metadata": {
        "colab": {
          "base_uri": "https://localhost:8080/",
          "height": 219
        },
        "id": "82OEFzsm9uEc",
        "outputId": "66dcec63-eafb-4010-c8e7-d8728a9a11f5"
      },
      "execution_count": 47,
      "outputs": [
        {
          "output_type": "display_data",
          "data": {
            "image/png": "[encoded data removed]",
            "text/plain": [
              "<Figure size 432x288 with 1 Axes>"
            ]
          },
          "metadata": {
            "needs_background": "light"
          }
        }
      ]
    },
    {
      "cell_type": "code",
      "execution_count": 39,
      "metadata": {
        "id": "iXX7bqURW82V",
        "colab": {
          "base_uri": "https://localhost:8080/",
          "height": 219
        },
        "outputId": "34260d12-c793-4362-cdcc-1965f6edaaa6"
      },
      "outputs": [
        {
          "output_type": "display_data",
          "data": {
            "image/png": "[encoded data removed]",
            "text/plain": [
              "<Figure size 432x288 with 1 Axes>"
            ]
          },
          "metadata": {
            "needs_background": "light"
          }
        }
      ],
      "source": [
        "# Plotting the Word Cloud\n",
        "#plt.imshow(word_cloud,interpolation='bilinear')\n",
        "%matplotlib inline\n",
        "plt.imshow(word_cloud)\n",
        "#plt.axis('off')\n",
        "plt.savefig(\"p2.png\")\n",
        "plt.show()"
      ]
    },
    {
      "cell_type": "code",
      "execution_count": null,
      "metadata": {
        "id": "mtx9rYjKXTPV"
      },
      "outputs": [],
      "source": [
        ""
      ]
    }
  ],
  "metadata": {
    "colab": {
      "name": "NLP_02_PIPELINE_STEPS.ipynb",
      "provenance": [],
      "authorship_tag": "ABX9TyNicy3Pz4eH4vzv00zDD1RC"
    },
    "kernelspec": {
      "display_name": "Python 3",
      "name": "python3"
    },
    "language_info": {
      "name": "python"
    }
  },
  "nbformat": 4,
  "nbformat_minor": 0
}