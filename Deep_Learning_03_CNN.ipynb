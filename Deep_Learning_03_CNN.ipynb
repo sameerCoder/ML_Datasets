{
  "nbformat": 4,
  "nbformat_minor": 0,
  "metadata": {
    "colab": {
      "name": "Deep_Learning_03_CNN.ipynb",
      "provenance": [],
      "collapsed_sections": []
    },
    "kernelspec": {
      "display_name": "Python 3",
      "name": "python3"
    },
    "language_info": {
      "name": "python"
    }
  },
  "cells": [
    {
      "cell_type": "code",
      "metadata": {
        "id": "zDY3DxWwc_4-"
      },
      "source": [
        "#https://www.cs.toronto.edu/~kriz/cifar.html"
      ],
      "execution_count": 1,
      "outputs": []
    },
    {
      "cell_type": "code",
      "metadata": {
        "id": "OF4YiiBHhqTA"
      },
      "source": [
        "#https://drive.google.com/file/d/1H-2VnHf_J--NDq6J2LNMDpObZZRoDVrD/view?usp=sharing"
      ],
      "execution_count": 2,
      "outputs": []
    },
    {
      "cell_type": "markdown",
      "metadata": {
        "id": "KoE5MGeFgeq2"
      },
      "source": [
        "![picture](https://drive.google.com/uc?export=view&id=1H-2VnHf_J--NDq6J2LNMDpObZZRoDVrD)"
      ]
    },
    {
      "cell_type": "code",
      "metadata": {
        "id": "tXovfdNfh9N-"
      },
      "source": [
        "import tensorflow as tf\n",
        "from tensorflow.keras import datasets,layers,models\n",
        "import matplotlib.pyplot as plt\n",
        "import numpy as np"
      ],
      "execution_count": 2,
      "outputs": []
    },
    {
      "cell_type": "code",
      "metadata": {
        "colab": {
          "base_uri": "https://localhost:8080/"
        },
        "id": "6TWP2PpniNuy",
        "outputId": "05583f99-f68a-4acc-bd1d-eff2f16ea4f0"
      },
      "source": [
        "# USING ANN\n",
        "(x_train,y_train),(x_test,y_test)=datasets.cifar10.load_data()\n",
        "print(x_train.shape); print(x_test.shape);print(y_train.shape);print(y_test.shape);"
      ],
      "execution_count": 3,
      "outputs": [
        {
          "output_type": "stream",
          "name": "stdout",
          "text": [
            "Downloading data from https://www.cs.toronto.edu/~kriz/cifar-10-python.tar.gz\n",
            "170500096/170498071 [==============================] - 2s 0us/step\n",
            "170508288/170498071 [==============================] - 2s 0us/step\n",
            "(50000, 32, 32, 3)\n",
            "(10000, 32, 32, 3)\n",
            "(50000, 1)\n",
            "(10000, 1)\n"
          ]
        }
      ]
    },
    {
      "cell_type": "code",
      "metadata": {
        "colab": {
          "base_uri": "https://localhost:8080/",
          "height": 283
        },
        "id": "gew_n_U7ifUU",
        "outputId": "bd30844a-492b-4695-93db-474fcaaf48fa"
      },
      "source": [
        "plt.figsize=(5,5)\n",
        "plt.imshow(x_train[12])"
      ],
      "execution_count": 5,
      "outputs": [
        {
          "output_type": "execute_result",
          "data": {
            "text/plain": [
              "<matplotlib.image.AxesImage at 0x7ff755298ed0>"
            ]
          },
          "metadata": {},
          "execution_count": 5
        },
        {
          "output_type": "display_data",
          "data": {
            "image/png": "[encoded data removed]",
            "text/plain": [
              "<Figure size 432x288 with 1 Axes>"
            ]
          },
          "metadata": {
            "needs_background": "light"
          }
        }
      ]
    },
    {
      "cell_type": "code",
      "metadata": {
        "colab": {
          "base_uri": "https://localhost:8080/",
          "height": 283
        },
        "id": "I5Qut-o83qw4",
        "outputId": "7bfedfc2-f001-4d30-d84c-389cc4b1d121"
      },
      "source": [
        "plt.figsize=(5,5)\n",
        "plt.imshow(x_train[15])"
      ],
      "execution_count": 4,
      "outputs": [
        {
          "output_type": "execute_result",
          "data": {
            "text/plain": [
              "<matplotlib.image.AxesImage at 0x7f34d491f6d0>"
            ]
          },
          "metadata": {},
          "execution_count": 4
        },
        {
          "output_type": "display_data",
          "data": {
            "image/png": "[encoded data removed]",
            "text/plain": [
              "<Figure size 432x288 with 1 Axes>"
            ]
          },
          "metadata": {
            "needs_background": "light"
          }
        }
      ]
    },
    {
      "cell_type": "code",
      "metadata": {
        "colab": {
          "base_uri": "https://localhost:8080/"
        },
        "id": "-VUQ3p7pic9n",
        "outputId": "ecce5873-5565-47bd-a409-7b03561319d0"
      },
      "source": [
        "print(x_train[12])"
      ],
      "execution_count": 6,
      "outputs": [
        {
          "output_type": "stream",
          "name": "stdout",
          "text": [
            "[[[164 215 244]\n",
            "  [162 212 240]\n",
            "  [162 212 240]\n",
            "  ...\n",
            "  [157 210 237]\n",
            "  [153 208 235]\n",
            "  [153 203 234]]\n",
            "\n",
            " [[168 218 245]\n",
            "  [166 215 242]\n",
            "  [166 215 242]\n",
            "  ...\n",
            "  [164 212 238]\n",
            "  [160 209 236]\n",
            "  [158 205 235]]\n",
            "\n",
            " [[172 220 246]\n",
            "  [170 217 243]\n",
            "  [171 218 244]\n",
            "  ...\n",
            "  [168 212 238]\n",
            "  [165 208 235]\n",
            "  [163 207 236]]\n",
            "\n",
            " ...\n",
            "\n",
            " [[123 160 105]\n",
            "  [117 154 102]\n",
            "  [112 149  99]\n",
            "  ...\n",
            "  [117 136 100]\n",
            "  [ 95 115  79]\n",
            "  [120 149 100]]\n",
            "\n",
            " [[120 156 100]\n",
            "  [116 151  99]\n",
            "  [112 147  96]\n",
            "  ...\n",
            "  [126 149 110]\n",
            "  [120 144 103]\n",
            "  [120 152 101]]\n",
            "\n",
            " [[121 154  96]\n",
            "  [120 152  99]\n",
            "  [116 148  97]\n",
            "  ...\n",
            "  [124 152 108]\n",
            "  [124 154 107]\n",
            "  [120 154 100]]]\n"
          ]
        }
      ]
    },
    {
      "cell_type": "code",
      "metadata": {
        "id": "oHLh8xXRlITi"
      },
      "source": [
        "x_train=(x_train)/255\n",
        "x_test=(x_test)/255\n",
        "# Normalize to make every element value in between 0 till 1."
      ],
      "execution_count": 5,
      "outputs": []
    },
    {
      "cell_type": "code",
      "metadata": {
        "colab": {
          "base_uri": "https://localhost:8080/"
        },
        "id": "9lUh6eOtlOCj",
        "outputId": "a0d8bef2-6baa-4e2a-9d57-0934712665e7"
      },
      "source": [
        "print(x_train[12])"
      ],
      "execution_count": 6,
      "outputs": [
        {
          "output_type": "stream",
          "name": "stdout",
          "text": [
            "[[[0.64313725 0.84313725 0.95686275]\n",
            "  [0.63529412 0.83137255 0.94117647]\n",
            "  [0.63529412 0.83137255 0.94117647]\n",
            "  ...\n",
            "  [0.61568627 0.82352941 0.92941176]\n",
            "  [0.6        0.81568627 0.92156863]\n",
            "  [0.6        0.79607843 0.91764706]]\n",
            "\n",
            " [[0.65882353 0.85490196 0.96078431]\n",
            "  [0.65098039 0.84313725 0.94901961]\n",
            "  [0.65098039 0.84313725 0.94901961]\n",
            "  ...\n",
            "  [0.64313725 0.83137255 0.93333333]\n",
            "  [0.62745098 0.81960784 0.9254902 ]\n",
            "  [0.61960784 0.80392157 0.92156863]]\n",
            "\n",
            " [[0.6745098  0.8627451  0.96470588]\n",
            "  [0.66666667 0.85098039 0.95294118]\n",
            "  [0.67058824 0.85490196 0.95686275]\n",
            "  ...\n",
            "  [0.65882353 0.83137255 0.93333333]\n",
            "  [0.64705882 0.81568627 0.92156863]\n",
            "  [0.63921569 0.81176471 0.9254902 ]]\n",
            "\n",
            " ...\n",
            "\n",
            " [[0.48235294 0.62745098 0.41176471]\n",
            "  [0.45882353 0.60392157 0.4       ]\n",
            "  [0.43921569 0.58431373 0.38823529]\n",
            "  ...\n",
            "  [0.45882353 0.53333333 0.39215686]\n",
            "  [0.37254902 0.45098039 0.30980392]\n",
            "  [0.47058824 0.58431373 0.39215686]]\n",
            "\n",
            " [[0.47058824 0.61176471 0.39215686]\n",
            "  [0.45490196 0.59215686 0.38823529]\n",
            "  [0.43921569 0.57647059 0.37647059]\n",
            "  ...\n",
            "  [0.49411765 0.58431373 0.43137255]\n",
            "  [0.47058824 0.56470588 0.40392157]\n",
            "  [0.47058824 0.59607843 0.39607843]]\n",
            "\n",
            " [[0.4745098  0.60392157 0.37647059]\n",
            "  [0.47058824 0.59607843 0.38823529]\n",
            "  [0.45490196 0.58039216 0.38039216]\n",
            "  ...\n",
            "  [0.48627451 0.59607843 0.42352941]\n",
            "  [0.48627451 0.60392157 0.41960784]\n",
            "  [0.47058824 0.60392157 0.39215686]]]\n"
          ]
        }
      ]
    },
    {
      "cell_type": "code",
      "metadata": {
        "colab": {
          "base_uri": "https://localhost:8080/"
        },
        "id": "TXXAQvBmlQYF",
        "outputId": "51df1cb8-9dd4-4004-fe2d-cbf54657505d"
      },
      "source": [
        "#ANN MOdel.\n",
        "ann=models.Sequential([layers.Flatten(input_shape=(32,32,3)),\n",
        "                       layers.Dense(3000,activation='relu'),\n",
        "                       layers.Dense(1000,activation='relu'),\n",
        "                       layers.Dense(10,activation='sigmoid')\n",
        "])\n",
        "ann.compile(optimizer='SGD',\n",
        "            loss='sparse_categorical_crossentropy',\n",
        "            metrics=['accuracy'])\n",
        "ann.fit(x_train,y_train,epochs=5)"
      ],
      "execution_count": 9,
      "outputs": [
        {
          "output_type": "stream",
          "name": "stdout",
          "text": [
            "Epoch 1/5\n",
            "1563/1563 [==============================] - 104s 66ms/step - loss: 1.8137 - accuracy: 0.3549\n",
            "Epoch 2/5\n",
            "1563/1563 [==============================] - 103s 66ms/step - loss: 1.6232 - accuracy: 0.4280\n",
            "Epoch 3/5\n",
            "1563/1563 [==============================] - 102s 65ms/step - loss: 1.5379 - accuracy: 0.4563\n",
            "Epoch 4/5\n",
            "1563/1563 [==============================] - 103s 66ms/step - loss: 1.4799 - accuracy: 0.4780\n",
            "Epoch 5/5\n",
            "1563/1563 [==============================] - 102s 65ms/step - loss: 1.4305 - accuracy: 0.4967\n"
          ]
        },
        {
          "output_type": "execute_result",
          "data": {
            "text/plain": [
              "<keras.callbacks.History at 0x7ff7512e4f10>"
            ]
          },
          "metadata": {},
          "execution_count": 9
        }
      ]
    },
    {
      "cell_type": "code",
      "metadata": {
        "id": "HnvHdglWrnSO",
        "colab": {
          "base_uri": "https://localhost:8080/"
        },
        "outputId": "5841e1e9-6263-4596-a387-97f42b69ef37"
      },
      "source": [
        "ann.evaluate(x_test,y_test)"
      ],
      "execution_count": 10,
      "outputs": [
        {
          "output_type": "stream",
          "name": "stdout",
          "text": [
            "313/313 [==============================] - 8s 24ms/step - loss: 1.4749 - accuracy: 0.4805\n"
          ]
        },
        {
          "output_type": "execute_result",
          "data": {
            "text/plain": [
              "[1.4748501777648926, 0.4805000126361847]"
            ]
          },
          "metadata": {},
          "execution_count": 10
        }
      ]
    },
    {
      "cell_type": "code",
      "metadata": {
        "id": "I14mU_Otq_bR",
        "colab": {
          "base_uri": "https://localhost:8080/"
        },
        "outputId": "136eb658-9a99-429e-fcf5-b77431e5d5d6"
      },
      "source": [
        "from sklearn.metrics import confusion_matrix,classification_report\n",
        "import numpy as np\n",
        "y_pred=ann.predict(x_test)\n",
        "y_pred_classes=[np.argmax(element) for element in y_pred]\n",
        "print(\"Classification Report:\\n\",classification_report(y_test,y_pred_classes))\n",
        "#Accuracy is very low=0.48 \n",
        "## so we need to do CNN."
      ],
      "execution_count": 13,
      "outputs": [
        {
          "output_type": "stream",
          "name": "stdout",
          "text": [
            "Classification Report:\n",
            "               precision    recall  f1-score   support\n",
            "\n",
            "           0       0.60      0.44      0.50      1000\n",
            "           1       0.52      0.66      0.58      1000\n",
            "           2       0.47      0.22      0.30      1000\n",
            "           3       0.39      0.26      0.31      1000\n",
            "           4       0.46      0.35      0.40      1000\n",
            "           5       0.46      0.29      0.36      1000\n",
            "           6       0.52      0.57      0.55      1000\n",
            "           7       0.46      0.60      0.53      1000\n",
            "           8       0.47      0.75      0.58      1000\n",
            "           9       0.44      0.66      0.53      1000\n",
            "\n",
            "    accuracy                           0.48     10000\n",
            "   macro avg       0.48      0.48      0.46     10000\n",
            "weighted avg       0.48      0.48      0.46     10000\n",
            "\n"
          ]
        }
      ]
    },
    {
      "cell_type": "code",
      "metadata": {
        "id": "yNRdt89bBL-p"
      },
      "source": [
        "#https://drive.google.com/file/d/1gRKa-O9X8SFJtPl3rNsxlKFcAbyXqqcl/view?usp=sharing"
      ],
      "execution_count": null,
      "outputs": []
    },
    {
      "cell_type": "markdown",
      "metadata": {
        "id": "NOUtATMOBP39"
      },
      "source": [
        "![picture](https://drive.google.com/uc?export=view&id=1gRKa-O9X8SFJtPl3rNsxlKFcAbyXqqcl)"
      ]
    },
    {
      "cell_type": "code",
      "metadata": {
        "id": "-Nv6HFU8sW24"
      },
      "source": [
        "#############\n",
        "# ANN is not giving good accuracy \n",
        "# So CNN MOdel .\n",
        "# AS LIKE ABOVE PICTURE ONLY WE ARE MAKING LAYERS IN BELOW CNN.\n",
        "cnn=models.Sequential([\n",
        "                       \n",
        "#CNN will select filter automatically / by its own.\n",
        "                       # layer1\n",
        "                       layers.Conv2D(filters=32,kernel_size=(3,3),activation='relu',input_shape=(32,32,3)),\n",
        "                       layers.MaxPooling2D((2,2)),\n",
        "\n",
        "                       # layer2\n",
        "                       layers.Conv2D(filters=64,kernel_size=(3,3),activation='relu',input_shape=(32,32,3)),\n",
        "                       layers.MaxPooling2D((2,2)),\n",
        "\n",
        "                       layers.Flatten(),\n",
        "                       layers.Dense(64,activation='relu'),\n",
        "                       layers.Dense(10,activation='softmax')\n",
        "])\n"
      ],
      "execution_count": 15,
      "outputs": []
    },
    {
      "cell_type": "code",
      "metadata": {
        "id": "bJqEdPQs_tDZ"
      },
      "source": [
        "cnn.compile(optimizer=\"adam\",\n",
        "              loss=\"sparse_categorical_crossentropy\",\n",
        "              metrics=['accuracy'])"
      ],
      "execution_count": 17,
      "outputs": []
    },
    {
      "cell_type": "code",
      "metadata": {
        "colab": {
          "base_uri": "https://localhost:8080/"
        },
        "id": "9LopqGu_AC9w",
        "outputId": "4bf9c6b1-872a-48e8-a5d9-82455400fa2d"
      },
      "source": [
        "cnn.fit(x_train,y_train,epochs=7)"
      ],
      "execution_count": 18,
      "outputs": [
        {
          "output_type": "stream",
          "name": "stdout",
          "text": [
            "Epoch 1/7\n",
            "1563/1563 [==============================] - 58s 37ms/step - loss: 1.4595 - accuracy: 0.4744\n",
            "Epoch 2/7\n",
            "1563/1563 [==============================] - 58s 37ms/step - loss: 1.0939 - accuracy: 0.6186\n",
            "Epoch 3/7\n",
            "1563/1563 [==============================] - 58s 37ms/step - loss: 0.9680 - accuracy: 0.6653\n",
            "Epoch 4/7\n",
            "1563/1563 [==============================] - 58s 37ms/step - loss: 0.8856 - accuracy: 0.6948\n",
            "Epoch 5/7\n",
            "1563/1563 [==============================] - 58s 37ms/step - loss: 0.8186 - accuracy: 0.7169\n",
            "Epoch 6/7\n",
            "1563/1563 [==============================] - 58s 37ms/step - loss: 0.7598 - accuracy: 0.7381\n",
            "Epoch 7/7\n",
            "1563/1563 [==============================] - 58s 37ms/step - loss: 0.7152 - accuracy: 0.7505\n"
          ]
        },
        {
          "output_type": "execute_result",
          "data": {
            "text/plain": [
              "<keras.callbacks.History at 0x7ff751379890>"
            ]
          },
          "metadata": {},
          "execution_count": 18
        }
      ]
    },
    {
      "cell_type": "code",
      "metadata": {
        "id": "2Z15nNg_CLHq"
      },
      "source": [
        ""
      ],
      "execution_count": null,
      "outputs": []
    },
    {
      "cell_type": "code",
      "metadata": {
        "colab": {
          "base_uri": "https://localhost:8080/"
        },
        "id": "8bMuiwcMAWs0",
        "outputId": "56d82c52-ef85-41a9-d3fc-b85ad103d3b8"
      },
      "source": [
        "cnn.evaluate(x_test,y_test)"
      ],
      "execution_count": 19,
      "outputs": [
        {
          "output_type": "stream",
          "name": "stdout",
          "text": [
            "313/313 [==============================] - 4s 11ms/step - loss: 0.9132 - accuracy: 0.6840\n"
          ]
        },
        {
          "output_type": "execute_result",
          "data": {
            "text/plain": [
              "[0.9131618142127991, 0.6840000152587891]"
            ]
          },
          "metadata": {},
          "execution_count": 19
        }
      ]
    },
    {
      "cell_type": "code",
      "metadata": {
        "colab": {
          "base_uri": "https://localhost:8080/"
        },
        "id": "oVN3cOv0CNdz",
        "outputId": "b7faf732-b8a9-4534-fb11-9530fba9da85"
      },
      "source": [
        "y_test=y_test.reshape(-1,)\n",
        "y_test[:5]"
      ],
      "execution_count": 20,
      "outputs": [
        {
          "output_type": "execute_result",
          "data": {
            "text/plain": [
              "array([3, 8, 8, 0, 6], dtype=uint8)"
            ]
          },
          "metadata": {},
          "execution_count": 20
        }
      ]
    },
    {
      "cell_type": "code",
      "metadata": {
        "id": "azS8z6PcCWks"
      },
      "source": [
        "y_pred=cnn.predict(x_test)\n",
        "#y_pred"
      ],
      "execution_count": 23,
      "outputs": []
    },
    {
      "cell_type": "code",
      "metadata": {
        "colab": {
          "base_uri": "https://localhost:8080/"
        },
        "id": "YxaJ6LizCyR6",
        "outputId": "f36ef2fd-91b2-4529-a770-6095f4339915"
      },
      "source": [
        "y_class=[np.argmax(i) for i in y_pred]\n",
        "y_class[:5]"
      ],
      "execution_count": 24,
      "outputs": [
        {
          "output_type": "execute_result",
          "data": {
            "text/plain": [
              "[3, 8, 8, 0, 6]"
            ]
          },
          "metadata": {},
          "execution_count": 24
        }
      ]
    },
    {
      "cell_type": "code",
      "metadata": {
        "colab": {
          "base_uri": "https://localhost:8080/"
        },
        "id": "jEP3cS0mD48Y",
        "outputId": "58114450-612f-4f4e-e43d-834d973435ed"
      },
      "source": [
        "print('Classification:',classification_report(y_test,y_class))"
      ],
      "execution_count": 26,
      "outputs": [
        {
          "output_type": "stream",
          "name": "stdout",
          "text": [
            "Classification:               precision    recall  f1-score   support\n",
            "\n",
            "           0       0.65      0.81      0.72      1000\n",
            "           1       0.81      0.82      0.82      1000\n",
            "           2       0.48      0.69      0.57      1000\n",
            "           3       0.48      0.56      0.52      1000\n",
            "           4       0.73      0.50      0.59      1000\n",
            "           5       0.64      0.52      0.57      1000\n",
            "           6       0.78      0.75      0.77      1000\n",
            "           7       0.80      0.72      0.76      1000\n",
            "           8       0.83      0.75      0.79      1000\n",
            "           9       0.81      0.73      0.77      1000\n",
            "\n",
            "    accuracy                           0.68     10000\n",
            "   macro avg       0.70      0.68      0.69     10000\n",
            "weighted avg       0.70      0.68      0.69     10000\n",
            "\n"
          ]
        }
      ]
    },
    {
      "cell_type": "code",
      "metadata": {
        "id": "gFhK6TAnDhio"
      },
      "source": [
        ""
      ],
      "execution_count": null,
      "outputs": []
    }
  ]
}