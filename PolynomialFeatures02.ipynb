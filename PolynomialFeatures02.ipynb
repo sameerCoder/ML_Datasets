{
  "nbformat": 4,
  "nbformat_minor": 0,
  "metadata": {
    "colab": {
      "name": "PolynomialFeatures02.ipynb",
      "provenance": []
    },
    "kernelspec": {
      "name": "python3",
      "display_name": "Python 3"
    },
    "language_info": {
      "name": "python"
    }
  },
  "cells": [
    {
      "cell_type": "code",
      "execution_count": 2,
      "metadata": {
        "id": "WVcy2OuN7cye"
      },
      "outputs": [],
      "source": [
        "import numpy as np\n",
        "import matplotlib.pyplot as plt\n",
        "from sklearn.preprocessing import PolynomialFeatures\n",
        "from sklearn import linear_model\n",
        "from sklearn.pipeline import make_pipeline"
      ]
    },
    {
      "cell_type": "code",
      "source": [
        "# data Creation\n",
        "water=np.array([10,20,30,40]).reshape(-1,1)\n",
        "fertilizer=np.array([1,2,3,4]).reshape(-1,1)\n",
        "crop_yield=np.array([1,4,8,16]).reshape(-1,1)\n",
        "x=np.concatenate([water,fertilizer],axis=1)\n",
        "y=crop_yield.copy()"
      ],
      "metadata": {
        "id": "ZQfVFlHk7yDp"
      },
      "execution_count": 3,
      "outputs": []
    },
    {
      "cell_type": "code",
      "source": [
        "w2=np.array([10,20,30,40])\n",
        "print(w2)\n",
        "print(w2.shape)"
      ],
      "metadata": {
        "colab": {
          "base_uri": "https://localhost:8080/"
        },
        "id": "m5r6b5Jsoc4r",
        "outputId": "4f3e0888-deac-4ad0-c110-6d95d172c4a7"
      },
      "execution_count": 17,
      "outputs": [
        {
          "output_type": "stream",
          "name": "stdout",
          "text": [
            "[10 20 30 40]\n",
            "(4,)\n"
          ]
        }
      ]
    },
    {
      "cell_type": "code",
      "source": [
        "w3=np.array([10,20,30,40]).reshape(-1,1)\n",
        "print(w3)\n",
        "print(w3.shape)"
      ],
      "metadata": {
        "colab": {
          "base_uri": "https://localhost:8080/"
        },
        "id": "H-bH4MpDoiCr",
        "outputId": "5e255f12-12bb-4621-e41f-23a985103a62"
      },
      "execution_count": 18,
      "outputs": [
        {
          "output_type": "stream",
          "name": "stdout",
          "text": [
            "[[10]\n",
            " [20]\n",
            " [30]\n",
            " [40]]\n",
            "(4, 1)\n"
          ]
        }
      ]
    },
    {
      "cell_type": "code",
      "source": [
        "x # independent variables"
      ],
      "metadata": {
        "colab": {
          "base_uri": "https://localhost:8080/"
        },
        "id": "1f8y61o5YD-8",
        "outputId": "65dbe9f3-5ca4-4562-a406-eea003642cee"
      },
      "execution_count": 4,
      "outputs": [
        {
          "output_type": "execute_result",
          "data": {
            "text/plain": [
              "array([[10,  1],\n",
              "       [20,  2],\n",
              "       [30,  3],\n",
              "       [40,  4]])"
            ]
          },
          "metadata": {},
          "execution_count": 4
        }
      ]
    },
    {
      "cell_type": "code",
      "source": [
        "y # dependent variables"
      ],
      "metadata": {
        "colab": {
          "base_uri": "https://localhost:8080/"
        },
        "id": "Ch8AVdh1YNVw",
        "outputId": "e712e2df-ab1c-4084-91c2-c59564ff07a0"
      },
      "execution_count": 5,
      "outputs": [
        {
          "output_type": "execute_result",
          "data": {
            "text/plain": [
              "array([[ 1],\n",
              "       [ 4],\n",
              "       [ 8],\n",
              "       [16]])"
            ]
          },
          "metadata": {},
          "execution_count": 5
        }
      ]
    },
    {
      "cell_type": "code",
      "source": [
        "x_test=np.array([[35,12],[11,1.2],[26,5.8]]).reshape(3,2)\n",
        "x_test"
      ],
      "metadata": {
        "colab": {
          "base_uri": "https://localhost:8080/"
        },
        "id": "Aa-zX_Q9YOtO",
        "outputId": "ba656443-6b21-44ee-dcb7-c1f8033039f9"
      },
      "execution_count": 7,
      "outputs": [
        {
          "output_type": "execute_result",
          "data": {
            "text/plain": [
              "array([[35. , 12. ],\n",
              "       [11. ,  1.2],\n",
              "       [26. ,  5.8]])"
            ]
          },
          "metadata": {},
          "execution_count": 7
        }
      ]
    },
    {
      "cell_type": "code",
      "source": [
        "#Transform\n",
        "np.set_printoptions(suppress=True)"
      ],
      "metadata": {
        "id": "lieFTksSZSRO"
      },
      "execution_count": 9,
      "outputs": []
    },
    {
      "cell_type": "code",
      "source": [
        "# create new features\n",
        "f=PolynomialFeatures(degree=2)\n",
        "f_new=f.fit_transform(x)\n",
        "f_new"
      ],
      "metadata": {
        "colab": {
          "base_uri": "https://localhost:8080/"
        },
        "id": "nLvWUeXSYlqi",
        "outputId": "13265173-16a0-477e-be10-5c58e7575b2a"
      },
      "execution_count": 10,
      "outputs": [
        {
          "output_type": "execute_result",
          "data": {
            "text/plain": [
              "array([[   1.,   10.,    1.,  100.,   10.,    1.],\n",
              "       [   1.,   20.,    2.,  400.,   40.,    4.],\n",
              "       [   1.,   30.,    3.,  900.,   90.,    9.],\n",
              "       [   1.,   40.,    4., 1600.,  160.,   16.]])"
            ]
          },
          "metadata": {},
          "execution_count": 10
        }
      ]
    },
    {
      "cell_type": "code",
      "source": [
        "#pipeline and fit\n",
        "model=make_pipeline(PolynomialFeatures(degree=2),linear_model.LinearRegression())\n",
        "model.fit(x,y)\n",
        "# 2 features then degree2- 5 features than linear model."
      ],
      "metadata": {
        "colab": {
          "base_uri": "https://localhost:8080/"
        },
        "id": "sGQr08R6Zq9F",
        "outputId": "9e29e6a0-831a-4ff1-b7fd-4611fdfba91e"
      },
      "execution_count": 12,
      "outputs": [
        {
          "output_type": "execute_result",
          "data": {
            "text/plain": [
              "Pipeline(steps=[('polynomialfeatures', PolynomialFeatures()),\n",
              "                ('linearregression', LinearRegression())])"
            ]
          },
          "metadata": {},
          "execution_count": 12
        }
      ]
    },
    {
      "cell_type": "code",
      "source": [
        "y_pred=model.predict(x_test)\n",
        "y_pred"
      ],
      "metadata": {
        "colab": {
          "base_uri": "https://localhost:8080/"
        },
        "id": "eSN2cCy3byGm",
        "outputId": "c8749569-6ce0-4901-f84e-0a187fcf44b0"
      },
      "execution_count": 13,
      "outputs": [
        {
          "output_type": "execute_result",
          "data": {
            "text/plain": [
              "array([[12.10834684],\n",
              "       [ 1.27755308],\n",
              "       [ 6.25351423]])"
            ]
          },
          "metadata": {},
          "execution_count": 13
        }
      ]
    },
    {
      "cell_type": "code",
      "source": [
        ""
      ],
      "metadata": {
        "id": "NLmAmfzycBQ2"
      },
      "execution_count": null,
      "outputs": []
    }
  ]
}