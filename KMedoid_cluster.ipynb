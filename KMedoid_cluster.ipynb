{
  "nbformat": 4,
  "nbformat_minor": 0,
  "metadata": {
    "colab": {
      "name": "KMedoid_cluster.ipynb",
      "provenance": []
    },
    "kernelspec": {
      "name": "python3",
      "display_name": "Python 3"
    },
    "language_info": {
      "name": "python"
    }
  },
  "cells": [
    {
      "cell_type": "code",
      "metadata": {
        "id": "eXPUxUYoIaF3"
      },
      "source": [
        "Install sklearn Extra"
      ],
      "execution_count": null,
      "outputs": []
    },
    {
      "cell_type": "code",
      "metadata": {
        "colab": {
          "base_uri": "https://localhost:8080/"
        },
        "id": "SXkSCda4I9nD",
        "outputId": "5e97dea7-458b-41fc-8f4e-71742c3e142e"
      },
      "source": [
        "!pip install scikit-learn-extra"
      ],
      "execution_count": 4,
      "outputs": [
        {
          "output_type": "stream",
          "name": "stdout",
          "text": [
            "Collecting scikit-learn-extra\n",
            "  Downloading scikit_learn_extra-0.2.0-cp37-cp37m-manylinux2010_x86_64.whl (1.7 MB)\n",
            "\u001b[?25l\r\u001b[K     |▏                               | 10 kB 2.8 MB/s eta 0:00:01\r\u001b[K     |▍                               | 20 kB 3.8 MB/s eta 0:00:01\r\u001b[K     |▋                               | 30 kB 3.9 MB/s eta 0:00:01\r\u001b[K     |▊                               | 40 kB 3.5 MB/s eta 0:00:01\r\u001b[K     |█                               | 51 kB 3.2 MB/s eta 0:00:01\r\u001b[K     |█▏                              | 61 kB 3.5 MB/s eta 0:00:01\r\u001b[K     |█▍                              | 71 kB 3.6 MB/s eta 0:00:01\r\u001b[K     |█▌                              | 81 kB 4.1 MB/s eta 0:00:01\r\u001b[K     |█▊                              | 92 kB 3.7 MB/s eta 0:00:01\r\u001b[K     |██                              | 102 kB 3.6 MB/s eta 0:00:01\r\u001b[K     |██                              | 112 kB 3.6 MB/s eta 0:00:01\r\u001b[K     |██▎                             | 122 kB 3.6 MB/s eta 0:00:01\r\u001b[K     |██▌                             | 133 kB 3.6 MB/s eta 0:00:01\r\u001b[K     |██▊                             | 143 kB 3.6 MB/s eta 0:00:01\r\u001b[K     |██▉                             | 153 kB 3.6 MB/s eta 0:00:01\r\u001b[K     |███                             | 163 kB 3.6 MB/s eta 0:00:01\r\u001b[K     |███▎                            | 174 kB 3.6 MB/s eta 0:00:01\r\u001b[K     |███▌                            | 184 kB 3.6 MB/s eta 0:00:01\r\u001b[K     |███▋                            | 194 kB 3.6 MB/s eta 0:00:01\r\u001b[K     |███▉                            | 204 kB 3.6 MB/s eta 0:00:01\r\u001b[K     |████                            | 215 kB 3.6 MB/s eta 0:00:01\r\u001b[K     |████▏                           | 225 kB 3.6 MB/s eta 0:00:01\r\u001b[K     |████▍                           | 235 kB 3.6 MB/s eta 0:00:01\r\u001b[K     |████▋                           | 245 kB 3.6 MB/s eta 0:00:01\r\u001b[K     |████▉                           | 256 kB 3.6 MB/s eta 0:00:01\r\u001b[K     |█████                           | 266 kB 3.6 MB/s eta 0:00:01\r\u001b[K     |█████▏                          | 276 kB 3.6 MB/s eta 0:00:01\r\u001b[K     |█████▍                          | 286 kB 3.6 MB/s eta 0:00:01\r\u001b[K     |█████▋                          | 296 kB 3.6 MB/s eta 0:00:01\r\u001b[K     |█████▊                          | 307 kB 3.6 MB/s eta 0:00:01\r\u001b[K     |██████                          | 317 kB 3.6 MB/s eta 0:00:01\r\u001b[K     |██████▏                         | 327 kB 3.6 MB/s eta 0:00:01\r\u001b[K     |██████▎                         | 337 kB 3.6 MB/s eta 0:00:01\r\u001b[K     |██████▌                         | 348 kB 3.6 MB/s eta 0:00:01\r\u001b[K     |██████▊                         | 358 kB 3.6 MB/s eta 0:00:01\r\u001b[K     |███████                         | 368 kB 3.6 MB/s eta 0:00:01\r\u001b[K     |███████                         | 378 kB 3.6 MB/s eta 0:00:01\r\u001b[K     |███████▎                        | 389 kB 3.6 MB/s eta 0:00:01\r\u001b[K     |███████▌                        | 399 kB 3.6 MB/s eta 0:00:01\r\u001b[K     |███████▋                        | 409 kB 3.6 MB/s eta 0:00:01\r\u001b[K     |███████▉                        | 419 kB 3.6 MB/s eta 0:00:01\r\u001b[K     |████████                        | 430 kB 3.6 MB/s eta 0:00:01\r\u001b[K     |████████▎                       | 440 kB 3.6 MB/s eta 0:00:01\r\u001b[K     |████████▍                       | 450 kB 3.6 MB/s eta 0:00:01\r\u001b[K     |████████▋                       | 460 kB 3.6 MB/s eta 0:00:01\r\u001b[K     |████████▉                       | 471 kB 3.6 MB/s eta 0:00:01\r\u001b[K     |█████████                       | 481 kB 3.6 MB/s eta 0:00:01\r\u001b[K     |█████████▏                      | 491 kB 3.6 MB/s eta 0:00:01\r\u001b[K     |█████████▍                      | 501 kB 3.6 MB/s eta 0:00:01\r\u001b[K     |█████████▋                      | 512 kB 3.6 MB/s eta 0:00:01\r\u001b[K     |█████████▊                      | 522 kB 3.6 MB/s eta 0:00:01\r\u001b[K     |██████████                      | 532 kB 3.6 MB/s eta 0:00:01\r\u001b[K     |██████████▏                     | 542 kB 3.6 MB/s eta 0:00:01\r\u001b[K     |██████████▍                     | 552 kB 3.6 MB/s eta 0:00:01\r\u001b[K     |██████████▌                     | 563 kB 3.6 MB/s eta 0:00:01\r\u001b[K     |██████████▊                     | 573 kB 3.6 MB/s eta 0:00:01\r\u001b[K     |███████████                     | 583 kB 3.6 MB/s eta 0:00:01\r\u001b[K     |███████████▏                    | 593 kB 3.6 MB/s eta 0:00:01\r\u001b[K     |███████████▎                    | 604 kB 3.6 MB/s eta 0:00:01\r\u001b[K     |███████████▌                    | 614 kB 3.6 MB/s eta 0:00:01\r\u001b[K     |███████████▊                    | 624 kB 3.6 MB/s eta 0:00:01\r\u001b[K     |███████████▉                    | 634 kB 3.6 MB/s eta 0:00:01\r\u001b[K     |████████████                    | 645 kB 3.6 MB/s eta 0:00:01\r\u001b[K     |████████████▎                   | 655 kB 3.6 MB/s eta 0:00:01\r\u001b[K     |████████████▌                   | 665 kB 3.6 MB/s eta 0:00:01\r\u001b[K     |████████████▋                   | 675 kB 3.6 MB/s eta 0:00:01\r\u001b[K     |████████████▉                   | 686 kB 3.6 MB/s eta 0:00:01\r\u001b[K     |█████████████                   | 696 kB 3.6 MB/s eta 0:00:01\r\u001b[K     |█████████████▏                  | 706 kB 3.6 MB/s eta 0:00:01\r\u001b[K     |█████████████▍                  | 716 kB 3.6 MB/s eta 0:00:01\r\u001b[K     |█████████████▋                  | 727 kB 3.6 MB/s eta 0:00:01\r\u001b[K     |█████████████▉                  | 737 kB 3.6 MB/s eta 0:00:01\r\u001b[K     |██████████████                  | 747 kB 3.6 MB/s eta 0:00:01\r\u001b[K     |██████████████▏                 | 757 kB 3.6 MB/s eta 0:00:01\r\u001b[K     |██████████████▍                 | 768 kB 3.6 MB/s eta 0:00:01\r\u001b[K     |██████████████▋                 | 778 kB 3.6 MB/s eta 0:00:01\r\u001b[K     |██████████████▊                 | 788 kB 3.6 MB/s eta 0:00:01\r\u001b[K     |███████████████                 | 798 kB 3.6 MB/s eta 0:00:01\r\u001b[K     |███████████████▏                | 808 kB 3.6 MB/s eta 0:00:01\r\u001b[K     |███████████████▎                | 819 kB 3.6 MB/s eta 0:00:01\r\u001b[K     |███████████████▌                | 829 kB 3.6 MB/s eta 0:00:01\r\u001b[K     |███████████████▊                | 839 kB 3.6 MB/s eta 0:00:01\r\u001b[K     |████████████████                | 849 kB 3.6 MB/s eta 0:00:01\r\u001b[K     |████████████████                | 860 kB 3.6 MB/s eta 0:00:01\r\u001b[K     |████████████████▎               | 870 kB 3.6 MB/s eta 0:00:01\r\u001b[K     |████████████████▌               | 880 kB 3.6 MB/s eta 0:00:01\r\u001b[K     |████████████████▊               | 890 kB 3.6 MB/s eta 0:00:01\r\u001b[K     |████████████████▉               | 901 kB 3.6 MB/s eta 0:00:01\r\u001b[K     |█████████████████               | 911 kB 3.6 MB/s eta 0:00:01\r\u001b[K     |█████████████████▎              | 921 kB 3.6 MB/s eta 0:00:01\r\u001b[K     |█████████████████▍              | 931 kB 3.6 MB/s eta 0:00:01\r\u001b[K     |█████████████████▋              | 942 kB 3.6 MB/s eta 0:00:01\r\u001b[K     |█████████████████▉              | 952 kB 3.6 MB/s eta 0:00:01\r\u001b[K     |██████████████████              | 962 kB 3.6 MB/s eta 0:00:01\r\u001b[K     |██████████████████▏             | 972 kB 3.6 MB/s eta 0:00:01\r\u001b[K     |██████████████████▍             | 983 kB 3.6 MB/s eta 0:00:01\r\u001b[K     |██████████████████▋             | 993 kB 3.6 MB/s eta 0:00:01\r\u001b[K     |██████████████████▊             | 1.0 MB 3.6 MB/s eta 0:00:01\r\u001b[K     |███████████████████             | 1.0 MB 3.6 MB/s eta 0:00:01\r\u001b[K     |███████████████████▏            | 1.0 MB 3.6 MB/s eta 0:00:01\r\u001b[K     |███████████████████▍            | 1.0 MB 3.6 MB/s eta 0:00:01\r\u001b[K     |███████████████████▌            | 1.0 MB 3.6 MB/s eta 0:00:01\r\u001b[K     |███████████████████▊            | 1.1 MB 3.6 MB/s eta 0:00:01\r\u001b[K     |████████████████████            | 1.1 MB 3.6 MB/s eta 0:00:01\r\u001b[K     |████████████████████▏           | 1.1 MB 3.6 MB/s eta 0:00:01\r\u001b[K     |████████████████████▎           | 1.1 MB 3.6 MB/s eta 0:00:01\r\u001b[K     |████████████████████▌           | 1.1 MB 3.6 MB/s eta 0:00:01\r\u001b[K     |████████████████████▊           | 1.1 MB 3.6 MB/s eta 0:00:01\r\u001b[K     |████████████████████▉           | 1.1 MB 3.6 MB/s eta 0:00:01\r\u001b[K     |█████████████████████           | 1.1 MB 3.6 MB/s eta 0:00:01\r\u001b[K     |█████████████████████▎          | 1.1 MB 3.6 MB/s eta 0:00:01\r\u001b[K     |█████████████████████▌          | 1.1 MB 3.6 MB/s eta 0:00:01\r\u001b[K     |█████████████████████▋          | 1.2 MB 3.6 MB/s eta 0:00:01\r\u001b[K     |█████████████████████▉          | 1.2 MB 3.6 MB/s eta 0:00:01\r\u001b[K     |██████████████████████          | 1.2 MB 3.6 MB/s eta 0:00:01\r\u001b[K     |██████████████████████▎         | 1.2 MB 3.6 MB/s eta 0:00:01\r\u001b[K     |██████████████████████▍         | 1.2 MB 3.6 MB/s eta 0:00:01\r\u001b[K     |██████████████████████▋         | 1.2 MB 3.6 MB/s eta 0:00:01\r\u001b[K     |██████████████████████▉         | 1.2 MB 3.6 MB/s eta 0:00:01\r\u001b[K     |███████████████████████         | 1.2 MB 3.6 MB/s eta 0:00:01\r\u001b[K     |███████████████████████▏        | 1.2 MB 3.6 MB/s eta 0:00:01\r\u001b[K     |███████████████████████▍        | 1.2 MB 3.6 MB/s eta 0:00:01\r\u001b[K     |███████████████████████▋        | 1.3 MB 3.6 MB/s eta 0:00:01\r\u001b[K     |███████████████████████▊        | 1.3 MB 3.6 MB/s eta 0:00:01\r\u001b[K     |████████████████████████        | 1.3 MB 3.6 MB/s eta 0:00:01\r\u001b[K     |████████████████████████▏       | 1.3 MB 3.6 MB/s eta 0:00:01\r\u001b[K     |████████████████████████▎       | 1.3 MB 3.6 MB/s eta 0:00:01\r\u001b[K     |████████████████████████▌       | 1.3 MB 3.6 MB/s eta 0:00:01\r\u001b[K     |████████████████████████▊       | 1.3 MB 3.6 MB/s eta 0:00:01\r\u001b[K     |█████████████████████████       | 1.3 MB 3.6 MB/s eta 0:00:01\r\u001b[K     |█████████████████████████       | 1.3 MB 3.6 MB/s eta 0:00:01\r\u001b[K     |█████████████████████████▎      | 1.4 MB 3.6 MB/s eta 0:00:01\r\u001b[K     |█████████████████████████▌      | 1.4 MB 3.6 MB/s eta 0:00:01\r\u001b[K     |█████████████████████████▊      | 1.4 MB 3.6 MB/s eta 0:00:01\r\u001b[K     |█████████████████████████▉      | 1.4 MB 3.6 MB/s eta 0:00:01\r\u001b[K     |██████████████████████████      | 1.4 MB 3.6 MB/s eta 0:00:01\r\u001b[K     |██████████████████████████▎     | 1.4 MB 3.6 MB/s eta 0:00:01\r\u001b[K     |██████████████████████████▍     | 1.4 MB 3.6 MB/s eta 0:00:01\r\u001b[K     |██████████████████████████▋     | 1.4 MB 3.6 MB/s eta 0:00:01\r\u001b[K     |██████████████████████████▉     | 1.4 MB 3.6 MB/s eta 0:00:01\r\u001b[K     |███████████████████████████     | 1.4 MB 3.6 MB/s eta 0:00:01\r\u001b[K     |███████████████████████████▏    | 1.5 MB 3.6 MB/s eta 0:00:01\r\u001b[K     |███████████████████████████▍    | 1.5 MB 3.6 MB/s eta 0:00:01\r\u001b[K     |███████████████████████████▋    | 1.5 MB 3.6 MB/s eta 0:00:01\r\u001b[K     |███████████████████████████▉    | 1.5 MB 3.6 MB/s eta 0:00:01\r\u001b[K     |████████████████████████████    | 1.5 MB 3.6 MB/s eta 0:00:01\r\u001b[K     |████████████████████████████▏   | 1.5 MB 3.6 MB/s eta 0:00:01\r\u001b[K     |████████████████████████████▍   | 1.5 MB 3.6 MB/s eta 0:00:01\r\u001b[K     |████████████████████████████▌   | 1.5 MB 3.6 MB/s eta 0:00:01\r\u001b[K     |████████████████████████████▊   | 1.5 MB 3.6 MB/s eta 0:00:01\r\u001b[K     |█████████████████████████████   | 1.5 MB 3.6 MB/s eta 0:00:01\r\u001b[K     |█████████████████████████████▏  | 1.6 MB 3.6 MB/s eta 0:00:01\r\u001b[K     |█████████████████████████████▎  | 1.6 MB 3.6 MB/s eta 0:00:01\r\u001b[K     |█████████████████████████████▌  | 1.6 MB 3.6 MB/s eta 0:00:01\r\u001b[K     |█████████████████████████████▊  | 1.6 MB 3.6 MB/s eta 0:00:01\r\u001b[K     |█████████████████████████████▉  | 1.6 MB 3.6 MB/s eta 0:00:01\r\u001b[K     |██████████████████████████████  | 1.6 MB 3.6 MB/s eta 0:00:01\r\u001b[K     |██████████████████████████████▎ | 1.6 MB 3.6 MB/s eta 0:00:01\r\u001b[K     |██████████████████████████████▌ | 1.6 MB 3.6 MB/s eta 0:00:01\r\u001b[K     |██████████████████████████████▋ | 1.6 MB 3.6 MB/s eta 0:00:01\r\u001b[K     |██████████████████████████████▉ | 1.6 MB 3.6 MB/s eta 0:00:01\r\u001b[K     |███████████████████████████████ | 1.7 MB 3.6 MB/s eta 0:00:01\r\u001b[K     |███████████████████████████████▎| 1.7 MB 3.6 MB/s eta 0:00:01\r\u001b[K     |███████████████████████████████▍| 1.7 MB 3.6 MB/s eta 0:00:01\r\u001b[K     |███████████████████████████████▋| 1.7 MB 3.6 MB/s eta 0:00:01\r\u001b[K     |███████████████████████████████▉| 1.7 MB 3.6 MB/s eta 0:00:01\r\u001b[K     |████████████████████████████████| 1.7 MB 3.6 MB/s eta 0:00:01\r\u001b[K     |████████████████████████████████| 1.7 MB 3.6 MB/s \n",
            "\u001b[?25hRequirement already satisfied: scipy>=0.19.1 in /usr/local/lib/python3.7/dist-packages (from scikit-learn-extra) (1.4.1)\n",
            "Requirement already satisfied: numpy>=1.13.3 in /usr/local/lib/python3.7/dist-packages (from scikit-learn-extra) (1.19.5)\n",
            "Requirement already satisfied: scikit-learn>=0.23.0 in /usr/local/lib/python3.7/dist-packages (from scikit-learn-extra) (1.0.1)\n",
            "Requirement already satisfied: joblib>=0.11 in /usr/local/lib/python3.7/dist-packages (from scikit-learn>=0.23.0->scikit-learn-extra) (1.1.0)\n",
            "Requirement already satisfied: threadpoolctl>=2.0.0 in /usr/local/lib/python3.7/dist-packages (from scikit-learn>=0.23.0->scikit-learn-extra) (3.0.0)\n",
            "Installing collected packages: scikit-learn-extra\n",
            "Successfully installed scikit-learn-extra-0.2.0\n"
          ]
        }
      ]
    },
    {
      "cell_type": "code",
      "metadata": {
        "id": "nY8qZK1iIptQ"
      },
      "source": [
        "!pip install https://github.com/scikit-learn-contrib/scikit-learn-extra/archive/master.zip"
      ],
      "execution_count": null,
      "outputs": []
    },
    {
      "cell_type": "code",
      "metadata": {
        "id": "gyVk1mXbJDvT"
      },
      "source": [
        "# importing all the modules \n",
        "import numpy as np\n",
        "import matplotlib.pyplot as plt\n",
        "from sklearn.cluster import KMeans\n",
        "from sklearn_extra.cluster import KMedoids"
      ],
      "execution_count": 33,
      "outputs": []
    },
    {
      "cell_type": "code",
      "metadata": {
        "id": "cEttrHe3JUe0"
      },
      "source": [
        "from sklearn import datasets\n",
        "myiris=datasets.load_iris()\n",
        "x=myiris.data\n",
        "y=myiris.target"
      ],
      "execution_count": 34,
      "outputs": []
    },
    {
      "cell_type": "code",
      "metadata": {
        "colab": {
          "base_uri": "https://localhost:8080/"
        },
        "id": "sGMXyHuIJkhv",
        "outputId": "6011ee1f-7213-4364-e7b2-077521d82df0"
      },
      "source": [
        "x.shape,y.shape"
      ],
      "execution_count": 35,
      "outputs": [
        {
          "output_type": "execute_result",
          "data": {
            "text/plain": [
              "((150, 4), (150,))"
            ]
          },
          "metadata": {},
          "execution_count": 35
        }
      ]
    },
    {
      "cell_type": "code",
      "metadata": {
        "colab": {
          "base_uri": "https://localhost:8080/"
        },
        "id": "mnX_FEjQKxpQ",
        "outputId": "f102fd61-b91c-4e98-c806-93270f3556e0"
      },
      "source": [
        "x"
      ],
      "execution_count": 11,
      "outputs": [
        {
          "output_type": "execute_result",
          "data": {
            "text/plain": [
              "array([[5.1, 3.5, 1.4, 0.2],\n",
              "       [4.9, 3. , 1.4, 0.2],\n",
              "       [4.7, 3.2, 1.3, 0.2],\n",
              "       [4.6, 3.1, 1.5, 0.2],\n",
              "       [5. , 3.6, 1.4, 0.2],\n",
              "       [5.4, 3.9, 1.7, 0.4],\n",
              "       [4.6, 3.4, 1.4, 0.3],\n",
              "       [5. , 3.4, 1.5, 0.2],\n",
              "       [4.4, 2.9, 1.4, 0.2],\n",
              "       [4.9, 3.1, 1.5, 0.1],\n",
              "       [5.4, 3.7, 1.5, 0.2],\n",
              "       [4.8, 3.4, 1.6, 0.2],\n",
              "       [4.8, 3. , 1.4, 0.1],\n",
              "       [4.3, 3. , 1.1, 0.1],\n",
              "       [5.8, 4. , 1.2, 0.2],\n",
              "       [5.7, 4.4, 1.5, 0.4],\n",
              "       [5.4, 3.9, 1.3, 0.4],\n",
              "       [5.1, 3.5, 1.4, 0.3],\n",
              "       [5.7, 3.8, 1.7, 0.3],\n",
              "       [5.1, 3.8, 1.5, 0.3],\n",
              "       [5.4, 3.4, 1.7, 0.2],\n",
              "       [5.1, 3.7, 1.5, 0.4],\n",
              "       [4.6, 3.6, 1. , 0.2],\n",
              "       [5.1, 3.3, 1.7, 0.5],\n",
              "       [4.8, 3.4, 1.9, 0.2],\n",
              "       [5. , 3. , 1.6, 0.2],\n",
              "       [5. , 3.4, 1.6, 0.4],\n",
              "       [5.2, 3.5, 1.5, 0.2],\n",
              "       [5.2, 3.4, 1.4, 0.2],\n",
              "       [4.7, 3.2, 1.6, 0.2],\n",
              "       [4.8, 3.1, 1.6, 0.2],\n",
              "       [5.4, 3.4, 1.5, 0.4],\n",
              "       [5.2, 4.1, 1.5, 0.1],\n",
              "       [5.5, 4.2, 1.4, 0.2],\n",
              "       [4.9, 3.1, 1.5, 0.2],\n",
              "       [5. , 3.2, 1.2, 0.2],\n",
              "       [5.5, 3.5, 1.3, 0.2],\n",
              "       [4.9, 3.6, 1.4, 0.1],\n",
              "       [4.4, 3. , 1.3, 0.2],\n",
              "       [5.1, 3.4, 1.5, 0.2],\n",
              "       [5. , 3.5, 1.3, 0.3],\n",
              "       [4.5, 2.3, 1.3, 0.3],\n",
              "       [4.4, 3.2, 1.3, 0.2],\n",
              "       [5. , 3.5, 1.6, 0.6],\n",
              "       [5.1, 3.8, 1.9, 0.4],\n",
              "       [4.8, 3. , 1.4, 0.3],\n",
              "       [5.1, 3.8, 1.6, 0.2],\n",
              "       [4.6, 3.2, 1.4, 0.2],\n",
              "       [5.3, 3.7, 1.5, 0.2],\n",
              "       [5. , 3.3, 1.4, 0.2],\n",
              "       [7. , 3.2, 4.7, 1.4],\n",
              "       [6.4, 3.2, 4.5, 1.5],\n",
              "       [6.9, 3.1, 4.9, 1.5],\n",
              "       [5.5, 2.3, 4. , 1.3],\n",
              "       [6.5, 2.8, 4.6, 1.5],\n",
              "       [5.7, 2.8, 4.5, 1.3],\n",
              "       [6.3, 3.3, 4.7, 1.6],\n",
              "       [4.9, 2.4, 3.3, 1. ],\n",
              "       [6.6, 2.9, 4.6, 1.3],\n",
              "       [5.2, 2.7, 3.9, 1.4],\n",
              "       [5. , 2. , 3.5, 1. ],\n",
              "       [5.9, 3. , 4.2, 1.5],\n",
              "       [6. , 2.2, 4. , 1. ],\n",
              "       [6.1, 2.9, 4.7, 1.4],\n",
              "       [5.6, 2.9, 3.6, 1.3],\n",
              "       [6.7, 3.1, 4.4, 1.4],\n",
              "       [5.6, 3. , 4.5, 1.5],\n",
              "       [5.8, 2.7, 4.1, 1. ],\n",
              "       [6.2, 2.2, 4.5, 1.5],\n",
              "       [5.6, 2.5, 3.9, 1.1],\n",
              "       [5.9, 3.2, 4.8, 1.8],\n",
              "       [6.1, 2.8, 4. , 1.3],\n",
              "       [6.3, 2.5, 4.9, 1.5],\n",
              "       [6.1, 2.8, 4.7, 1.2],\n",
              "       [6.4, 2.9, 4.3, 1.3],\n",
              "       [6.6, 3. , 4.4, 1.4],\n",
              "       [6.8, 2.8, 4.8, 1.4],\n",
              "       [6.7, 3. , 5. , 1.7],\n",
              "       [6. , 2.9, 4.5, 1.5],\n",
              "       [5.7, 2.6, 3.5, 1. ],\n",
              "       [5.5, 2.4, 3.8, 1.1],\n",
              "       [5.5, 2.4, 3.7, 1. ],\n",
              "       [5.8, 2.7, 3.9, 1.2],\n",
              "       [6. , 2.7, 5.1, 1.6],\n",
              "       [5.4, 3. , 4.5, 1.5],\n",
              "       [6. , 3.4, 4.5, 1.6],\n",
              "       [6.7, 3.1, 4.7, 1.5],\n",
              "       [6.3, 2.3, 4.4, 1.3],\n",
              "       [5.6, 3. , 4.1, 1.3],\n",
              "       [5.5, 2.5, 4. , 1.3],\n",
              "       [5.5, 2.6, 4.4, 1.2],\n",
              "       [6.1, 3. , 4.6, 1.4],\n",
              "       [5.8, 2.6, 4. , 1.2],\n",
              "       [5. , 2.3, 3.3, 1. ],\n",
              "       [5.6, 2.7, 4.2, 1.3],\n",
              "       [5.7, 3. , 4.2, 1.2],\n",
              "       [5.7, 2.9, 4.2, 1.3],\n",
              "       [6.2, 2.9, 4.3, 1.3],\n",
              "       [5.1, 2.5, 3. , 1.1],\n",
              "       [5.7, 2.8, 4.1, 1.3],\n",
              "       [6.3, 3.3, 6. , 2.5],\n",
              "       [5.8, 2.7, 5.1, 1.9],\n",
              "       [7.1, 3. , 5.9, 2.1],\n",
              "       [6.3, 2.9, 5.6, 1.8],\n",
              "       [6.5, 3. , 5.8, 2.2],\n",
              "       [7.6, 3. , 6.6, 2.1],\n",
              "       [4.9, 2.5, 4.5, 1.7],\n",
              "       [7.3, 2.9, 6.3, 1.8],\n",
              "       [6.7, 2.5, 5.8, 1.8],\n",
              "       [7.2, 3.6, 6.1, 2.5],\n",
              "       [6.5, 3.2, 5.1, 2. ],\n",
              "       [6.4, 2.7, 5.3, 1.9],\n",
              "       [6.8, 3. , 5.5, 2.1],\n",
              "       [5.7, 2.5, 5. , 2. ],\n",
              "       [5.8, 2.8, 5.1, 2.4],\n",
              "       [6.4, 3.2, 5.3, 2.3],\n",
              "       [6.5, 3. , 5.5, 1.8],\n",
              "       [7.7, 3.8, 6.7, 2.2],\n",
              "       [7.7, 2.6, 6.9, 2.3],\n",
              "       [6. , 2.2, 5. , 1.5],\n",
              "       [6.9, 3.2, 5.7, 2.3],\n",
              "       [5.6, 2.8, 4.9, 2. ],\n",
              "       [7.7, 2.8, 6.7, 2. ],\n",
              "       [6.3, 2.7, 4.9, 1.8],\n",
              "       [6.7, 3.3, 5.7, 2.1],\n",
              "       [7.2, 3.2, 6. , 1.8],\n",
              "       [6.2, 2.8, 4.8, 1.8],\n",
              "       [6.1, 3. , 4.9, 1.8],\n",
              "       [6.4, 2.8, 5.6, 2.1],\n",
              "       [7.2, 3. , 5.8, 1.6],\n",
              "       [7.4, 2.8, 6.1, 1.9],\n",
              "       [7.9, 3.8, 6.4, 2. ],\n",
              "       [6.4, 2.8, 5.6, 2.2],\n",
              "       [6.3, 2.8, 5.1, 1.5],\n",
              "       [6.1, 2.6, 5.6, 1.4],\n",
              "       [7.7, 3. , 6.1, 2.3],\n",
              "       [6.3, 3.4, 5.6, 2.4],\n",
              "       [6.4, 3.1, 5.5, 1.8],\n",
              "       [6. , 3. , 4.8, 1.8],\n",
              "       [6.9, 3.1, 5.4, 2.1],\n",
              "       [6.7, 3.1, 5.6, 2.4],\n",
              "       [6.9, 3.1, 5.1, 2.3],\n",
              "       [5.8, 2.7, 5.1, 1.9],\n",
              "       [6.8, 3.2, 5.9, 2.3],\n",
              "       [6.7, 3.3, 5.7, 2.5],\n",
              "       [6.7, 3. , 5.2, 2.3],\n",
              "       [6.3, 2.5, 5. , 1.9],\n",
              "       [6.5, 3. , 5.2, 2. ],\n",
              "       [6.2, 3.4, 5.4, 2.3],\n",
              "       [5.9, 3. , 5.1, 1.8]])"
            ]
          },
          "metadata": {},
          "execution_count": 11
        }
      ]
    },
    {
      "cell_type": "code",
      "metadata": {
        "colab": {
          "base_uri": "https://localhost:8080/"
        },
        "id": "F3m7dPVbKzPo",
        "outputId": "d05e9d73-ae29-481b-c4dc-bd2e5781e120"
      },
      "source": [
        "y"
      ],
      "execution_count": 12,
      "outputs": [
        {
          "output_type": "execute_result",
          "data": {
            "text/plain": [
              "array([0, 0, 0, 0, 0, 0, 0, 0, 0, 0, 0, 0, 0, 0, 0, 0, 0, 0, 0, 0, 0, 0,\n",
              "       0, 0, 0, 0, 0, 0, 0, 0, 0, 0, 0, 0, 0, 0, 0, 0, 0, 0, 0, 0, 0, 0,\n",
              "       0, 0, 0, 0, 0, 0, 1, 1, 1, 1, 1, 1, 1, 1, 1, 1, 1, 1, 1, 1, 1, 1,\n",
              "       1, 1, 1, 1, 1, 1, 1, 1, 1, 1, 1, 1, 1, 1, 1, 1, 1, 1, 1, 1, 1, 1,\n",
              "       1, 1, 1, 1, 1, 1, 1, 1, 1, 1, 1, 1, 2, 2, 2, 2, 2, 2, 2, 2, 2, 2,\n",
              "       2, 2, 2, 2, 2, 2, 2, 2, 2, 2, 2, 2, 2, 2, 2, 2, 2, 2, 2, 2, 2, 2,\n",
              "       2, 2, 2, 2, 2, 2, 2, 2, 2, 2, 2, 2, 2, 2, 2, 2, 2, 2])"
            ]
          },
          "metadata": {},
          "execution_count": 12
        }
      ]
    },
    {
      "cell_type": "code",
      "metadata": {
        "id": "Y9Vnw1AdJq7D"
      },
      "source": [
        "# Scalling and Fitting Kmedoids\n",
        "from sklearn.preprocessing import StandardScaler\n",
        "scaler = StandardScaler().fit(x)\n",
        "x_scaled = scaler.transform(x)\n",
        "kMedoids = KMedoids(n_clusters = 3, random_state = 0)\n",
        "kMedoids.fit(x_scaled)\n",
        "y_kmed = kMedoids.fit_predict(x_scaled)"
      ],
      "execution_count": 36,
      "outputs": []
    },
    {
      "cell_type": "code",
      "metadata": {
        "colab": {
          "base_uri": "https://localhost:8080/"
        },
        "id": "5biEUNdbKbC-",
        "outputId": "77017ca6-9420-4cfe-e4f0-ac6cfefb2111"
      },
      "source": [
        "y_kmed"
      ],
      "execution_count": 10,
      "outputs": [
        {
          "output_type": "execute_result",
          "data": {
            "text/plain": [
              "array([0, 0, 0, 0, 0, 0, 0, 0, 0, 0, 0, 0, 0, 0, 0, 0, 0, 0, 0, 0, 0, 0,\n",
              "       0, 0, 0, 0, 0, 0, 0, 0, 0, 0, 0, 0, 0, 0, 0, 0, 0, 0, 0, 0, 0, 0,\n",
              "       0, 0, 0, 0, 0, 0, 2, 2, 2, 1, 1, 1, 2, 1, 1, 1, 1, 1, 1, 1, 1, 2,\n",
              "       1, 1, 1, 1, 1, 1, 1, 1, 1, 2, 2, 2, 1, 1, 1, 1, 1, 1, 1, 1, 2, 1,\n",
              "       1, 1, 1, 1, 1, 1, 1, 1, 1, 1, 1, 1, 2, 1, 2, 2, 2, 2, 1, 2, 2, 2,\n",
              "       2, 2, 2, 1, 1, 2, 2, 2, 2, 1, 2, 1, 2, 1, 2, 2, 1, 1, 2, 2, 2, 2,\n",
              "       2, 1, 1, 2, 2, 2, 1, 2, 2, 2, 1, 2, 2, 2, 1, 2, 2, 1])"
            ]
          },
          "metadata": {},
          "execution_count": 10
        }
      ]
    },
    {
      "cell_type": "code",
      "metadata": {
        "colab": {
          "base_uri": "https://localhost:8080/"
        },
        "id": "uTPkO3VAKwQm",
        "outputId": "5d5684ef-d348-4d9a-fcd0-78ffe5291087"
      },
      "source": [
        "# SSE or # inertia\n",
        "kMedoids.inertia_"
      ],
      "execution_count": 37,
      "outputs": [
        {
          "output_type": "execute_result",
          "data": {
            "text/plain": [
              "131.87877332824286"
            ]
          },
          "metadata": {},
          "execution_count": 37
        }
      ]
    },
    {
      "cell_type": "code",
      "metadata": {
        "colab": {
          "base_uri": "https://localhost:8080/"
        },
        "id": "_o_AAskXLBkj",
        "outputId": "a7d146c6-d8ef-4234-b05a-4bce636f109f"
      },
      "source": [
        "from sklearn.metrics import silhouette_samples, silhouette_score\n",
        "kMedoids = KMedoids(n_clusters = 3, random_state = 0)\n",
        "kMedoids.fit(x_scaled)\n",
        "y_kmed = kMedoids.fit_predict(x_scaled)\n",
        "silhouette_avg = silhouette_score(x_scaled, y_kmed)\n",
        "print(silhouette_avg)"
      ],
      "execution_count": 38,
      "outputs": [
        {
          "output_type": "stream",
          "name": "stdout",
          "text": [
            "0.4590416105554613\n"
          ]
        }
      ]
    },
    {
      "cell_type": "code",
      "metadata": {
        "colab": {
          "base_uri": "https://localhost:8080/"
        },
        "id": "vzkigsKRPk5m",
        "outputId": "19d477b8-9f15-435e-a32b-d26317eeb3a7"
      },
      "source": [
        "# Different cluster sillihoutte values\n",
        "sample_silhouette_values = silhouette_samples(x_scaled, y_kmed)\n",
        "for i in range(3):\n",
        "    ith_cluster_silhouette_values = sample_silhouette_values[y_kmed == i]\n",
        "    print(np.mean(ith_cluster_silhouette_values))"
      ],
      "execution_count": 39,
      "outputs": [
        {
          "output_type": "stream",
          "name": "stdout",
          "text": [
            "0.636330614585637\n",
            "0.3768888598233938\n",
            "0.36213487963471125\n"
          ]
        }
      ]
    },
    {
      "cell_type": "code",
      "metadata": {
        "id": "9ROIh530P0Z0"
      },
      "source": [
        "sw = []\n",
        "\n",
        "for i in range(2, 11):\n",
        "    kMedoids = KMedoids(n_clusters = i, random_state = 0)\n",
        "    kMedoids.fit(x_scaled)\n",
        "    y_kmed = kMedoids.fit_predict(x_scaled)\n",
        "    silhouette_avg = silhouette_score(x_scaled, y_kmed)\n",
        "    sw.append(silhouette_avg)"
      ],
      "execution_count": 40,
      "outputs": []
    },
    {
      "cell_type": "code",
      "metadata": {
        "colab": {
          "base_uri": "https://localhost:8080/"
        },
        "id": "ea-cUbO7soOQ",
        "outputId": "dce5ee2b-3357-4186-bda1-633fd1afce8a"
      },
      "source": [
        "sw"
      ],
      "execution_count": 41,
      "outputs": [
        {
          "output_type": "execute_result",
          "data": {
            "text/plain": [
              "[0.5817500491982808,\n",
              " 0.4590416105554613,\n",
              " 0.3982799178711887,\n",
              " 0.3769017045046118,\n",
              " 0.3545244655724345,\n",
              " 0.349948100695451,\n",
              " 0.2946879206982105,\n",
              " 0.2967592734425017,\n",
              " 0.30320142901285463]"
            ]
          },
          "metadata": {},
          "execution_count": 41
        }
      ]
    },
    {
      "cell_type": "code",
      "metadata": {
        "colab": {
          "base_uri": "https://localhost:8080/",
          "height": 295
        },
        "id": "6xqdRM1RP4rZ",
        "outputId": "95d85418-8775-48ba-bb68-423f3825a9c8"
      },
      "source": [
        "plt.plot(range(2, 11), sw)\n",
        "plt.title('Silhoute Score')\n",
        "plt.xlabel('Number of clusters')\n",
        "plt.ylabel('SW')      #within cluster sum of squares\n",
        "plt.show()"
      ],
      "execution_count": 17,
      "outputs": [
        {
          "output_type": "display_data",
          "data": {
            "image/png": "[encoded data removed]",
            "text/plain": [
              "<Figure size 432x288 with 1 Axes>"
            ]
          },
          "metadata": {
            "needs_background": "light"
          }
        }
      ]
    },
    {
      "cell_type": "code",
      "metadata": {
        "id": "nN1ybr49SJLX"
      },
      "source": [
        "#purity\n",
        "from sklearn import metrics\n",
        "\n",
        "def purity_score(y_true, y_pred):\n",
        "    # compute contingency matrix (also called confusion matrix)\n",
        "    contingency_matrix = metrics.cluster.contingency_matrix(y_true, y_pred)\n",
        "    # return purity\n",
        "    return np.sum(np.amax(contingency_matrix, axis=0)) / np.sum(contingency_matrix)"
      ],
      "execution_count": 42,
      "outputs": []
    },
    {
      "cell_type": "code",
      "metadata": {
        "colab": {
          "base_uri": "https://localhost:8080/"
        },
        "id": "XOYthqV-SUhL",
        "outputId": "fed9dfaa-f77d-477e-c31b-6fed6d4693d4"
      },
      "source": [
        "#kmean\n",
        "kmeans = KMeans(n_clusters = 3, init = 'random', max_iter = 300, n_init = 10, random_state = 0)\n",
        "y_kmeans = kmeans.fit_predict(x_scaled)\n",
        "purity_score(y,y_kmeans)"
      ],
      "execution_count": 43,
      "outputs": [
        {
          "output_type": "execute_result",
          "data": {
            "text/plain": [
              "0.8333333333333334"
            ]
          },
          "metadata": {},
          "execution_count": 43
        }
      ]
    },
    {
      "cell_type": "code",
      "metadata": {
        "colab": {
          "base_uri": "https://localhost:8080/",
          "height": 282
        },
        "id": "k-I1_JB9Sa86",
        "outputId": "93b52c2f-f0f3-4761-e1df-0087199d2a9c"
      },
      "source": [
        "#kmean visualization\n",
        "plt.scatter(x_scaled[y_kmeans == 0, 0], x_scaled[y_kmeans == 0, 1], s = 100, c = 'red', label = 'C1')\n",
        "plt.scatter(x_scaled[y_kmeans == 1, 0], x_scaled[y_kmeans == 1, 1], s = 100, c = 'blue', label = 'C2')\n",
        "plt.scatter(x_scaled[y_kmeans == 2, 0], x_scaled[y_kmeans == 2, 1], s = 100, c = 'green', label = 'C3')\n",
        "plt.scatter(kmeans.cluster_centers_[:, 0], kmeans.cluster_centers_[:,1], s = 100, c = 'yellow', label = 'Centroids')\n",
        "plt.legend()"
      ],
      "execution_count": 44,
      "outputs": [
        {
          "output_type": "execute_result",
          "data": {
            "text/plain": [
              "<matplotlib.legend.Legend at 0x7f5a253b5890>"
            ]
          },
          "metadata": {},
          "execution_count": 44
        },
        {
          "output_type": "display_data",
          "data": {
            "image/png": "[encoded data removed]",
            "text/plain": [
              "<Figure size 432x288 with 1 Axes>"
            ]
          },
          "metadata": {
            "needs_background": "light"
          }
        }
      ]
    },
    {
      "cell_type": "code",
      "metadata": {
        "colab": {
          "base_uri": "https://localhost:8080/"
        },
        "id": "Jlftekg0Sh2x",
        "outputId": "3746b837-ecd1-4082-cbcb-50cb86ed4e45"
      },
      "source": [
        "#kmedoids\n",
        "kmedoids = KMedoids(n_clusters=3, random_state=0).fit(x_scaled)\n",
        "y_kmed = kmedoids.fit_predict(x_scaled)\n",
        "purity_score(y,y_kmed)"
      ],
      "execution_count": 45,
      "outputs": [
        {
          "output_type": "execute_result",
          "data": {
            "text/plain": [
              "0.84"
            ]
          },
          "metadata": {},
          "execution_count": 45
        }
      ]
    },
    {
      "cell_type": "code",
      "metadata": {
        "colab": {
          "base_uri": "https://localhost:8080/",
          "height": 282
        },
        "id": "O9QuWjwPSktZ",
        "outputId": "df1480a0-6404-42db-cc04-6ce7da7fffd8"
      },
      "source": [
        "plt.scatter(x_scaled[y_kmed == 0, 0], x_scaled[y_kmed == 0, 1], s = 100, c = 'red', label = 'C1')\n",
        "plt.scatter(x_scaled[y_kmed == 1, 0], x_scaled[y_kmed == 1, 1], s = 100, c = 'blue', label = 'C2')\n",
        "plt.scatter(x_scaled[y_kmed == 2, 0], x_scaled[y_kmed == 2, 1], s = 100, c = 'green', label = 'C3')\n",
        "plt.scatter(kmedoids.cluster_centers_[:, 0], kmedoids.cluster_centers_[:,1], s = 100, c = 'yellow', label = 'Centroids')\n",
        "plt.legend()"
      ],
      "execution_count": 22,
      "outputs": [
        {
          "output_type": "execute_result",
          "data": {
            "text/plain": [
              "<matplotlib.legend.Legend at 0x7f5a25587b10>"
            ]
          },
          "metadata": {},
          "execution_count": 22
        },
        {
          "output_type": "display_data",
          "data": {
            "image/png": "[encoded data removed]",
            "text/plain": [
              "<Figure size 432x288 with 1 Axes>"
            ]
          },
          "metadata": {
            "needs_background": "light"
          }
        }
      ]
    },
    {
      "cell_type": "code",
      "metadata": {
        "colab": {
          "base_uri": "https://localhost:8080/"
        },
        "id": "7iIRNcufTJom",
        "outputId": "c3e53167-df1f-4548-fcf6-1b83c1af7ec0"
      },
      "source": [
        "# outliers points we are adding to see the difference in kmeans & kmedroids\n",
        "import numpy as np\n",
        "m=np.append(x,[[10,10,10,10],[15,15,15,15],[12,12,12,12]],axis=0)\n",
        "m.shape\n",
        "y=np.append(y,[2,2,2])\n",
        "y"
      ],
      "execution_count": 46,
      "outputs": [
        {
          "output_type": "execute_result",
          "data": {
            "text/plain": [
              "array([0, 0, 0, 0, 0, 0, 0, 0, 0, 0, 0, 0, 0, 0, 0, 0, 0, 0, 0, 0, 0, 0,\n",
              "       0, 0, 0, 0, 0, 0, 0, 0, 0, 0, 0, 0, 0, 0, 0, 0, 0, 0, 0, 0, 0, 0,\n",
              "       0, 0, 0, 0, 0, 0, 1, 1, 1, 1, 1, 1, 1, 1, 1, 1, 1, 1, 1, 1, 1, 1,\n",
              "       1, 1, 1, 1, 1, 1, 1, 1, 1, 1, 1, 1, 1, 1, 1, 1, 1, 1, 1, 1, 1, 1,\n",
              "       1, 1, 1, 1, 1, 1, 1, 1, 1, 1, 1, 1, 2, 2, 2, 2, 2, 2, 2, 2, 2, 2,\n",
              "       2, 2, 2, 2, 2, 2, 2, 2, 2, 2, 2, 2, 2, 2, 2, 2, 2, 2, 2, 2, 2, 2,\n",
              "       2, 2, 2, 2, 2, 2, 2, 2, 2, 2, 2, 2, 2, 2, 2, 2, 2, 2, 2, 2, 2])"
            ]
          },
          "metadata": {},
          "execution_count": 46
        }
      ]
    },
    {
      "cell_type": "code",
      "metadata": {
        "id": "h4EgltdJTYUq"
      },
      "source": [
        "scaler = StandardScaler().fit(m)\n",
        "x_scaled = scaler.transform(m)"
      ],
      "execution_count": 47,
      "outputs": []
    },
    {
      "cell_type": "code",
      "metadata": {
        "colab": {
          "base_uri": "https://localhost:8080/"
        },
        "id": "a32AKgBITimx",
        "outputId": "1ca7d93f-3d4a-42c2-99ad-3570413543b9"
      },
      "source": [
        "kmeans = KMeans(n_clusters = 3, init = 'random', max_iter = 300, n_init = 10, random_state = 0)\n",
        "y_kmeans = kmeans.fit_predict(x_scaled)\n",
        "purity_score(y,y_kmeans)"
      ],
      "execution_count": 48,
      "outputs": [
        {
          "output_type": "execute_result",
          "data": {
            "text/plain": [
              "0.673202614379085"
            ]
          },
          "metadata": {},
          "execution_count": 48
        }
      ]
    },
    {
      "cell_type": "code",
      "metadata": {
        "colab": {
          "base_uri": "https://localhost:8080/"
        },
        "id": "hsrndwHBTkI9",
        "outputId": "1bb9be40-de80-4809-8b15-59b4c329fd5d"
      },
      "source": [
        "kmedoids = KMedoids(n_clusters=3, random_state=0).fit(x_scaled)\n",
        "y_kmed = kmedoids.fit_predict(x_scaled)\n",
        "purity_score(y,y_kmed)"
      ],
      "execution_count": 49,
      "outputs": [
        {
          "output_type": "execute_result",
          "data": {
            "text/plain": [
              "0.8627450980392157"
            ]
          },
          "metadata": {},
          "execution_count": 49
        }
      ]
    },
    {
      "cell_type": "code",
      "metadata": {
        "colab": {
          "base_uri": "https://localhost:8080/",
          "height": 282
        },
        "id": "NNpqugHtTpCj",
        "outputId": "8819c443-d610-4602-882b-bc4cfb2a736f"
      },
      "source": [
        "#visual\n",
        "plt.scatter(x_scaled[y_kmeans == 0, 0], x_scaled[y_kmeans == 0, 1], s = 100, c = 'red', label = 'C1')\n",
        "plt.scatter(x_scaled[y_kmeans  == 1, 0], x_scaled[y_kmeans  == 1, 1], s = 100, c = 'blue', label = 'C2')\n",
        "plt.scatter(x_scaled[y_kmeans  == 2, 0], x_scaled[y_kmeans== 2, 1], s = 100, c = 'green', label = 'C3')\n",
        "plt.scatter(kmeans.cluster_centers_[:, 0], kmeans.cluster_centers_[:,1], s = 100, c = 'yellow', label = 'Centroids')\n",
        "plt.legend()"
      ],
      "execution_count": 50,
      "outputs": [
        {
          "output_type": "execute_result",
          "data": {
            "text/plain": [
              "<matplotlib.legend.Legend at 0x7f5a252e5f50>"
            ]
          },
          "metadata": {},
          "execution_count": 50
        },
        {
          "output_type": "display_data",
          "data": {
            "image/png": "[encoded data removed]",
            "text/plain": [
              "<Figure size 432x288 with 1 Axes>"
            ]
          },
          "metadata": {
            "needs_background": "light"
          }
        }
      ]
    },
    {
      "cell_type": "code",
      "metadata": {
        "id": "vtHTLO9DTuj1"
      },
      "source": [
        "import pandas as pd\n",
        "data = [['k-Means', 0.81], ['k-Means with Outliers', 0.67], ['k-Medoid', 0.84],['K Medoid with outliers', 0.86]] \n",
        "df = pd.DataFrame(data, columns = ['Method', 'Purity']) "
      ],
      "execution_count": 29,
      "outputs": []
    },
    {
      "cell_type": "code",
      "metadata": {
        "colab": {
          "base_uri": "https://localhost:8080/",
          "height": 413
        },
        "id": "Y0bxveAHTz2W",
        "outputId": "44caea4a-7f71-4eae-9230-7883b8f7a643"
      },
      "source": [
        "df.plot.bar(x='Method',y='Purity',title='Cluster Quality')"
      ],
      "execution_count": 30,
      "outputs": [
        {
          "output_type": "execute_result",
          "data": {
            "text/plain": [
              "<matplotlib.axes._subplots.AxesSubplot at 0x7f5a25478510>"
            ]
          },
          "metadata": {},
          "execution_count": 30
        },
        {
          "output_type": "display_data",
          "data": {
            "image/png": "[encoded data removed]",
            "text/plain": [
              "<Figure size 432x288 with 1 Axes>"
            ]
          },
          "metadata": {
            "needs_background": "light"
          }
        }
      ]
    }
  ]
}