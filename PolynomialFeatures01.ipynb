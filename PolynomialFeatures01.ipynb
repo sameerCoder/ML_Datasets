{
  "nbformat": 4,
  "nbformat_minor": 0,
  "metadata": {
    "colab": {
      "name": "PolynomialFeatures01.ipynb",
      "provenance": []
    },
    "kernelspec": {
      "name": "python3",
      "display_name": "Python 3"
    },
    "language_info": {
      "name": "python"
    }
  },
  "cells": [
    {
      "cell_type": "code",
      "execution_count": 5,
      "metadata": {
        "colab": {
          "base_uri": "https://localhost:8080/"
        },
        "id": "QBJfx6H-iaxh",
        "outputId": "081ee1c0-83f1-4a46-c982-c38f0831c1b9"
      },
      "outputs": [
        {
          "output_type": "execute_result",
          "data": {
            "text/plain": [
              "array([[ 1.,  1.,  2.,  1.,  2.,  4.],\n",
              "       [ 1.,  3.,  4.,  9., 12., 16.],\n",
              "       [ 1.,  5.,  6., 25., 30., 36.]])"
            ]
          },
          "metadata": {},
          "execution_count": 5
        }
      ],
      "source": [
        "import numpy as np\n",
        "from sklearn.preprocessing import PolynomialFeatures\n",
        "x=np.array([[1,2],[3,4],[5,6]])\n",
        "poly=PolynomialFeatures(degree=2)\n",
        "poly.fit(x)\n",
        "poly.transform(x)"
      ]
    },
    {
      "cell_type": "code",
      "source": [
        "import numpy as np\n",
        "from sklearn.preprocessing import PolynomialFeatures\n",
        "x=np.array([[1,2],[3,4],[5,6]])\n",
        "poly=PolynomialFeatures(degree=3)\n",
        "poly.fit(x)\n",
        "poly.transform(x)"
      ],
      "metadata": {
        "colab": {
          "base_uri": "https://localhost:8080/"
        },
        "id": "_VK-J_LYkeGF",
        "outputId": "dfcdec51-11fe-4c87-c018-18fb7dc5cefa"
      },
      "execution_count": 6,
      "outputs": [
        {
          "output_type": "execute_result",
          "data": {
            "text/plain": [
              "array([[  1.,   1.,   2.,   1.,   2.,   4.,   1.,   2.,   4.,   8.],\n",
              "       [  1.,   3.,   4.,   9.,  12.,  16.,  27.,  36.,  48.,  64.],\n",
              "       [  1.,   5.,   6.,  25.,  30.,  36., 125., 150., 180., 216.]])"
            ]
          },
          "metadata": {},
          "execution_count": 6
        }
      ]
    },
    {
      "cell_type": "code",
      "source": [
        ""
      ],
      "metadata": {
        "id": "CUO4GhrqkiRA"
      },
      "execution_count": null,
      "outputs": []
    }
  ]
}