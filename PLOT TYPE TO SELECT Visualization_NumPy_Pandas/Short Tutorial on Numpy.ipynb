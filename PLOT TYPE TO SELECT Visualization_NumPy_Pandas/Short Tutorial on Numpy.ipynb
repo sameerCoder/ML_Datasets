{
 "cells": [
  {
   "cell_type": "markdown",
   "id": "5656f906",
   "metadata": {},
   "source": [
    "References:\n",
    "1. https://numpy.org/doc/stable/\n",
    "2. https://numpy.org/doc/stable/reference/index.html#reference\n",
    "3. https://www.learndatasci.com/tutorials/applied-introduction-to-numpy-python-tutorial/\n",
    "4. https://www.analyticsvidhya.com/blog/2020/04/the-ultimate-numpy-tutorial-for-data-science-beginners/\n",
    "5. https://jakevdp.github.io/PythonDataScienceHandbook/02.00-introduction-to-numpy.html\n",
    "6. https://www.dataquest.io/blog/numpy-tutorial-python/\n",
    "7. https://github.com/rougier/numpy-100\n",
    "8. https://github.com/santoshswansi/Data-Analysis-With-Python/blob/main/NUMPY%20MODULE.ipynb\n",
    "9. https://github.com/nrbnbs/Python_libraries/blob/main/PythonLibraries.ipynb"
   ]
  },
  {
   "cell_type": "markdown",
   "id": "d1bcbb6a",
   "metadata": {},
   "source": [
    "## NumPy Tutorial based on Official [Documentation of Numpy](https://numpy.org/doc/stable/) \n",
    "\n",
    "### NumPy is a short form of <u>Num</u>erical <u>Py</u>thon\n",
    "\n",
    "- NumPy is the [fundamental library for scientific computing](https://numpy.org/doc/stable/) in Python. \n",
    "- It provides a **multidimensional array object**, various **derived objects** (such as masked arrays and matrices), and an many **routines** for fast operations on arrays, including mathematical, logical, shape manipulation, sorting, selecting, I/O, discrete Fourier transforms, basic linear algebra, basic statistical operations, random simulation and much more.\n",
    "- At the core of the NumPy package, is the ndarray object. This encapsulates n-dimensional arrays of homogeneous data types, with many operations being performed in compiled code for performance. NumPy fully supports an object-oriented approach, starting, with the class \"ndarray\". \n",
    "\n",
    "**Differences between ndarrays and python sequences:**\n",
    "\n",
    "1. NumPy arrays have a fixed size at creation, unlike Python lists (which can grow dynamically). Changing the size of an ndarray will create a new array and delete the original.\n",
    "\n",
    "2. All elements in NumPy array need to be of same datatype hence of same size in memory. However, a NumPy array of Python objects can have different sized objects. \n",
    "\n",
    "3. Operations on NumPy arrays are faster.\n",
    "\n",
    "4. Many advanced scientific and mathematical python packages use NumPy arrays for efficient data manipulation. \n",
    "\n",
    "\n",
    "\n",
    "**Why is NumPy Fast?**\n",
    "\n",
    "NumPy is fast due to **Vectorization**. \n",
    "Vectorization means that the user code does not have to use any explicit looping, indexing, etc.. The loops and indexing takes place behind the scenes in pre-compiled C code. Thus user code is more readable, concise and less prone to bugs.\n",
    "\n",
    "NumPy is fast due to **Broadcasting**. \n",
    "Broadcasting means implicit element-by-element behavior of operations; i.e., all NumPy operations behave in element-by-element fashion, i.e., they broadcast. \n",
    "\n",
    "\n",
    "**NumPy's array class: ndarray**\n",
    "\n",
    "**ndarray** or **array** is the class that encapsulates a multidimensional array. Some of its important attributes are:\n",
    "\n",
    "1. ndarray.ndim - the number of axes (dimensions) of the array.\n",
    "2. ndarray.shape - a tuple of integers indicating the size of the array in each dimension. the dimensions of the array. This is a tuple of integers indicating the size of the array in each dimension. The length of the shape tuple is the number of axes, ndim.\n",
    "3. ndarray.size - the total number of elements of the array. \n",
    "4. ndarray.dtype - an object describing the type of the elements in the array. \n",
    "5. ndarray.itemsize - the size in bytes of each element of the array. \n",
    "6. ndarray.data - the buffer containing the actual elements of the array. \n"
   ]
  },
  {
   "cell_type": "markdown",
   "id": "41293907",
   "metadata": {},
   "source": [
    "### Creation of numpy array. \n",
    "There are numerous methods to create a numpy array.\n",
    "We are assuming that you already have installed NumPy in your Python environment. "
   ]
  },
  {
   "cell_type": "code",
   "execution_count": 174,
   "id": "ba4c4a9d",
   "metadata": {},
   "outputs": [
    {
     "data": {
      "text/plain": [
       "array([2, 3, 4])"
      ]
     },
     "execution_count": 174,
     "metadata": {},
     "output_type": "execute_result"
    }
   ],
   "source": [
    "# Importing numpy and creating an ndarray using numpy function array()\n",
    "import numpy as np\n",
    "# Lets create a 1-Dimensional array\n",
    "a = np.array([2, 3, 4])\n",
    "a"
   ]
  },
  {
   "cell_type": "code",
   "execution_count": 175,
   "id": "f19b8cb8",
   "metadata": {},
   "outputs": [
    {
     "data": {
      "text/plain": [
       "array([[1.5, 2. , 3. ],\n",
       "       [4. , 5. , 6. ]])"
      ]
     },
     "execution_count": 175,
     "metadata": {},
     "output_type": "execute_result"
    }
   ],
   "source": [
    "# 2-D array, two rows, three columns\n",
    "b = np.array([(1.5, 2, 3), (4, 5, 6)])\n",
    "b"
   ]
  },
  {
   "cell_type": "code",
   "execution_count": 2,
   "id": "fdf9dc87",
   "metadata": {},
   "outputs": [
    {
     "data": {
      "text/plain": [
       "array([[ 0,  1,  2,  3,  4],\n",
       "       [ 5,  6,  7,  8,  9],\n",
       "       [10, 11, 12, 13, 14]])"
      ]
     },
     "execution_count": 2,
     "metadata": {},
     "output_type": "execute_result"
    }
   ],
   "source": [
    "# Creating ndarray using another numpy function arange()\n",
    "import numpy as np\n",
    "a = np.arange(15).reshape(3, 5)  # Reshape the 15 values produced by arange(15) into 3 rows and 5 columns\n",
    "a"
   ]
  },
  {
   "cell_type": "code",
   "execution_count": 6,
   "id": "3da8d37f",
   "metadata": {},
   "outputs": [
    {
     "data": {
      "text/plain": [
       "array([[0., 0., 0., 0.],\n",
       "       [0., 0., 0., 0.],\n",
       "       [0., 0., 0., 0.]])"
      ]
     },
     "execution_count": 6,
     "metadata": {},
     "output_type": "execute_result"
    }
   ],
   "source": [
    "np.zeros((3, 4)) # Create a 2D array of all zeros arranged in three rows, four columns"
   ]
  },
  {
   "cell_type": "code",
   "execution_count": 176,
   "id": "1c481202",
   "metadata": {},
   "outputs": [
    {
     "data": {
      "text/plain": [
       "array([[[1, 1, 1, 1],\n",
       "        [1, 1, 1, 1],\n",
       "        [1, 1, 1, 1]],\n",
       "\n",
       "       [[1, 1, 1, 1],\n",
       "        [1, 1, 1, 1],\n",
       "        [1, 1, 1, 1]]], dtype=int16)"
      ]
     },
     "execution_count": 176,
     "metadata": {},
     "output_type": "execute_result"
    }
   ],
   "source": [
    "# Create a 3D array of two 2D arrays , each 2D array has 3 rows, 4 columns. Data type of each element is 16 bit Integer\n",
    "np.ones((2, 3, 4), dtype=np.int16) "
   ]
  },
  {
   "cell_type": "code",
   "execution_count": 177,
   "id": "18151049",
   "metadata": {},
   "outputs": [
    {
     "data": {
      "text/plain": [
       "array([[1.5, 2. , 3. ],\n",
       "       [4. , 5. , 6. ]])"
      ]
     },
     "execution_count": 177,
     "metadata": {},
     "output_type": "execute_result"
    }
   ],
   "source": [
    "# Create an array with arbitary values arranged as two rows and 3 columns\n",
    "np.empty((2, 3))"
   ]
  },
  {
   "cell_type": "code",
   "execution_count": 180,
   "id": "9423cf7e",
   "metadata": {},
   "outputs": [
    {
     "data": {
      "text/plain": [
       "array([[-1, -1, -1, -1],\n",
       "       [-1, -1, -1, -1],\n",
       "       [-1, -1, -1, -1]])"
      ]
     },
     "execution_count": 180,
     "metadata": {},
     "output_type": "execute_result"
    }
   ],
   "source": [
    "# Create a 3x4 array containing -1 as elements in all positions\n",
    "np.full((3,4),-1)"
   ]
  },
  {
   "cell_type": "code",
   "execution_count": 181,
   "id": "5277c288",
   "metadata": {},
   "outputs": [
    {
     "data": {
      "text/plain": [
       "array([13, 11, 19, 10, 17])"
      ]
     },
     "execution_count": 181,
     "metadata": {},
     "output_type": "execute_result"
    }
   ],
   "source": [
    "# Create an array containing random 5 integers between 10 and 20\n",
    "a=np.random.randint(10,20,5)\n",
    "a"
   ]
  },
  {
   "cell_type": "markdown",
   "id": "af3fef71",
   "metadata": {},
   "source": [
    "### Universal Functions \"ufuncs\"\n",
    "NumPy provides mathematical functions such as add, sub, sqrt, exp, sin, cos , all, any, apply_along_axis, argmax, argmin, argsort, average, bincount, ceil, clip, conj, corrcoef, cov, cross, cumprod, cumsum, diff, dot, floor, inner, invert, lexsort, max, maximum, mean, median, min, minimum, nonzero, outer, prod, re, round, sort, std, sum, trace, transpose, var, vdot, vectorize, where etc. These functions operate elementwise on an array and produce an array as output. "
   ]
  },
  {
   "cell_type": "code",
   "execution_count": 182,
   "id": "f13c25bf",
   "metadata": {},
   "outputs": [
    {
     "data": {
      "text/plain": [
       "array([0, 1, 2])"
      ]
     },
     "execution_count": 182,
     "metadata": {},
     "output_type": "execute_result"
    }
   ],
   "source": [
    "#arange() is a numpy function similar in functionality to Python core library's range() function\n",
    "b = np.arange(3)\n",
    "b"
   ]
  },
  {
   "cell_type": "code",
   "execution_count": 183,
   "id": "4c4f6f3c",
   "metadata": {},
   "outputs": [
    {
     "data": {
      "text/plain": [
       "array([1.        , 2.71828183, 7.3890561 ])"
      ]
     },
     "execution_count": 183,
     "metadata": {},
     "output_type": "execute_result"
    }
   ],
   "source": [
    "np.exp(b) # exponent of every value in array b"
   ]
  },
  {
   "cell_type": "code",
   "execution_count": 184,
   "id": "7cc51988",
   "metadata": {},
   "outputs": [
    {
     "data": {
      "text/plain": [
       "array([2., 0., 6.])"
      ]
     },
     "execution_count": 184,
     "metadata": {},
     "output_type": "execute_result"
    }
   ],
   "source": [
    "c = np.array([2., -1., 4.])\n",
    "np.add(c, b) #add arrays c and b"
   ]
  },
  {
   "cell_type": "code",
   "execution_count": 187,
   "id": "e7425c78",
   "metadata": {},
   "outputs": [
    {
     "name": "stdout",
     "output_type": "stream",
     "text": [
      "[4 5]\n",
      "[1 2 3]\n"
     ]
    }
   ],
   "source": [
    "# Set operations - intersection and difference on two arrays\n",
    "a=np.array([1, 2, 3, 4, 5])\n",
    "b=np.array([4, 5, 6, 7, 8])\n",
    "print(np.intersect1d(a,b))\n",
    "print(np.setdiff1d(a,b))"
   ]
  },
  {
   "cell_type": "code",
   "execution_count": 192,
   "id": "ef00f9c7",
   "metadata": {},
   "outputs": [
    {
     "name": "stdout",
     "output_type": "stream",
     "text": [
      "3.0\n",
      "3.0\n",
      "3.0\n",
      "1.4142135623730951\n"
     ]
    }
   ],
   "source": [
    "# Mean,  median, standard deviation\n",
    "print(a.mean())\n",
    "print(np.mean(a))\n",
    "print(np.median(a))\n",
    "print(np.std(a))"
   ]
  },
  {
   "cell_type": "code",
   "execution_count": 195,
   "id": "0505dc0d",
   "metadata": {},
   "outputs": [
    {
     "data": {
      "text/plain": [
       "array([1, 2, 3, 4, 5])"
      ]
     },
     "execution_count": 195,
     "metadata": {},
     "output_type": "execute_result"
    }
   ],
   "source": [
    "# Saving an ndarray to a file and loading an ndarray from a file\n",
    "# extension of these files is .npy\n",
    "np.save('a_arr_file',a)\n",
    "a_fromfile = np.load('a_arr_file.npy')\n",
    "a_fromfile"
   ]
  },
  {
   "cell_type": "markdown",
   "id": "619b9e9f",
   "metadata": {},
   "source": [
    "#### Using magic command %load to display contents of a text file in jupyter notebook"
   ]
  },
  {
   "cell_type": "code",
   "execution_count": null,
   "id": "27eccffd",
   "metadata": {},
   "outputs": [],
   "source": [
    "# %load data_file.txt\n",
    "1, 2, 3, 4, 5, 6, 7"
   ]
  },
  {
   "cell_type": "markdown",
   "id": "be830232",
   "metadata": {},
   "source": [
    "#### Generating a numpy array by loading data from a text file"
   ]
  },
  {
   "cell_type": "code",
   "execution_count": 227,
   "id": "b0b8ba88",
   "metadata": {},
   "outputs": [
    {
     "name": "stdout",
     "output_type": "stream",
     "text": [
      "[1 2 3 4 5 6 7]\n"
     ]
    }
   ],
   "source": [
    "# Generating a numpy array by loading data from a text file\n",
    "file_text = np.genfromtxt('data_file.txt', delimiter=',')\n",
    "file_text = file_text.astype('int16')  # to convert it to type int16\n",
    "print(file_text)"
   ]
  },
  {
   "cell_type": "markdown",
   "id": "bdd2bff3",
   "metadata": {},
   "source": [
    "#### Copying an array - using copy() function and using assignment operator"
   ]
  },
  {
   "cell_type": "code",
   "execution_count": 199,
   "id": "940b9efd",
   "metadata": {},
   "outputs": [
    {
     "name": "stdout",
     "output_type": "stream",
     "text": [
      "a: \n",
      " [[1 2 3]\n",
      " [4 5 6]]\n",
      "b: \n",
      " [[1 2 3]\n",
      " [4 5 6]]\n",
      "a: \n",
      " [[1 2 3]\n",
      " [4 5 6]]\n",
      "b: \n",
      " [[89 89 89]\n",
      " [ 4  5  6]]\n",
      "a: \n",
      " [[1 2 3]\n",
      " [4 5 6]]\n",
      "b: \n",
      " [[1 2 3]\n",
      " [4 5 6]]\n",
      "a: \n",
      " [[67 67 67]\n",
      " [ 4  5  6]]\n",
      "b: \n",
      " [[67 67 67]\n",
      " [ 4  5  6]]\n"
     ]
    }
   ],
   "source": [
    "# Copying an array - using copy() function and using assignment operator\n",
    "# Deep copy Using copy()\n",
    "a = np.array([[1,2,3], [4,5,6]])\n",
    "b = a.copy()\n",
    "print('a: \\n', a)\n",
    "print('b: \\n',b)\n",
    "b[0] = 89\n",
    "print('a: \\n', a) # Change in b doesn't change a\n",
    "print('b: \\n',b)\n",
    "\n",
    "\n",
    "# Shallow copy , 'b' is just a reference for 'a'\n",
    "a = np.array([[1,2,3], [4,5,6]])\n",
    "b = a\n",
    "print('a: \\n', a)\n",
    "print('b: \\n',b)\n",
    "b[0] = 67\n",
    "print('a: \\n', a) # Change in b changes a\n",
    "print('b: \\n',b)"
   ]
  },
  {
   "cell_type": "markdown",
   "id": "b0ee76d0",
   "metadata": {},
   "source": [
    "#### Indexing, Slicing \n",
    "One-dimensional arrays can be indexed, sliced and iterated over, much like lists and other Python sequences.\n",
    "Multidimensional arrays can have one index per axis. These indices are given in a tuple separated by commas."
   ]
  },
  {
   "cell_type": "code",
   "execution_count": 2,
   "id": "3a11e578",
   "metadata": {},
   "outputs": [
    {
     "data": {
      "text/plain": [
       "array([   0,    1,   16,   81,  256,  625, 1296, 2401, 4096, 6561])"
      ]
     },
     "execution_count": 2,
     "metadata": {},
     "output_type": "execute_result"
    }
   ],
   "source": [
    "# THis creates an array of size 10\n",
    "import numpy as np\n",
    "a = np.array([   0,    1,   16,   81,  256,  625, 1296, 2401, 4096, 6561])\n",
    "a"
   ]
  },
  {
   "cell_type": "code",
   "execution_count": 3,
   "id": "e472da31",
   "metadata": {},
   "outputs": [
    {
     "data": {
      "text/plain": [
       "625"
      ]
     },
     "execution_count": 3,
     "metadata": {},
     "output_type": "execute_result"
    }
   ],
   "source": [
    "# print element at index 5\n",
    "a[5]"
   ]
  },
  {
   "cell_type": "code",
   "execution_count": 4,
   "id": "3e725034",
   "metadata": {},
   "outputs": [
    {
     "data": {
      "text/plain": [
       "array([  81,  256,  625, 1296])"
      ]
     },
     "execution_count": 4,
     "metadata": {},
     "output_type": "execute_result"
    }
   ],
   "source": [
    "# print slice of elements at indices 3, 4, 5, 6. notice that last index is excluded\n",
    "a[3:7]"
   ]
  },
  {
   "cell_type": "code",
   "execution_count": 5,
   "id": "3a872bf8",
   "metadata": {},
   "outputs": [
    {
     "data": {
      "text/plain": [
       "array([ -78,    1,  -78,   81,  -78,  625, 1296, 2401, 4096, 6561])"
      ]
     },
     "execution_count": 5,
     "metadata": {},
     "output_type": "execute_result"
    }
   ],
   "source": [
    "# replace every alternate element starting at index 0 to index 5, with -78\n",
    "a[:6:2] = -78\n",
    "a"
   ]
  },
  {
   "cell_type": "code",
   "execution_count": 6,
   "id": "787f78e8",
   "metadata": {},
   "outputs": [
    {
     "data": {
      "text/plain": [
       "array([6561, 4096, 2401, 1296,  625,  -78,   81,  -78,    1,  -78])"
      ]
     },
     "execution_count": 6,
     "metadata": {},
     "output_type": "execute_result"
    }
   ],
   "source": [
    "# Reverse the elements in a\n",
    "a[::-1]  "
   ]
  },
  {
   "cell_type": "code",
   "execution_count": 229,
   "id": "94696027",
   "metadata": {},
   "outputs": [
    {
     "data": {
      "text/plain": [
       "array([[2, 3, 4],\n",
       "       [3, 4, 5],\n",
       "       [4, 5, 6]])"
      ]
     },
     "execution_count": 229,
     "metadata": {},
     "output_type": "execute_result"
    }
   ],
   "source": [
    "# Multidimensional array indexing\n",
    "b = np.array([[2, 3, 4],\n",
    "       [3, 4, 5],\n",
    "       [4, 5, 6]])\n",
    "\n",
    "b"
   ]
  },
  {
   "cell_type": "code",
   "execution_count": 230,
   "id": "58381cee",
   "metadata": {},
   "outputs": [
    {
     "data": {
      "text/plain": [
       "6"
      ]
     },
     "execution_count": 230,
     "metadata": {},
     "output_type": "execute_result"
    }
   ],
   "source": [
    "# Element in row 2, col 2\n",
    "b[2, 2]"
   ]
  },
  {
   "cell_type": "code",
   "execution_count": 44,
   "id": "644d241d",
   "metadata": {},
   "outputs": [
    {
     "data": {
      "text/plain": [
       "array([3, 4, 5])"
      ]
     },
     "execution_count": 44,
     "metadata": {},
     "output_type": "execute_result"
    }
   ],
   "source": [
    "# Elements in rows 0, 1, and 2 in column 1\n",
    "b[0:3, 1]  "
   ]
  },
  {
   "cell_type": "code",
   "execution_count": 45,
   "id": "35c26afd",
   "metadata": {},
   "outputs": [
    {
     "data": {
      "text/plain": [
       "array([[3, 4, 5]])"
      ]
     },
     "execution_count": 45,
     "metadata": {},
     "output_type": "execute_result"
    }
   ],
   "source": [
    "# Elements in row 1 in each column of b\n",
    "b[1:2, :]  "
   ]
  },
  {
   "cell_type": "code",
   "execution_count": 231,
   "id": "4f2ad674",
   "metadata": {},
   "outputs": [
    {
     "data": {
      "text/plain": [
       "array([3, 4, 5])"
      ]
     },
     "execution_count": 231,
     "metadata": {},
     "output_type": "execute_result"
    }
   ],
   "source": [
    "# second last row\n",
    "b[-2]  "
   ]
  },
  {
   "cell_type": "code",
   "execution_count": 232,
   "id": "9fdfe457",
   "metadata": {},
   "outputs": [
    {
     "data": {
      "text/plain": [
       "array([4, 5, 6])"
      ]
     },
     "execution_count": 232,
     "metadata": {},
     "output_type": "execute_result"
    }
   ],
   "source": [
    "#  last row\n",
    "b[-1]  "
   ]
  },
  {
   "cell_type": "code",
   "execution_count": 113,
   "id": "ea4ed1e7",
   "metadata": {},
   "outputs": [
    {
     "name": "stdout",
     "output_type": "stream",
     "text": [
      "\n",
      " Array a:\n",
      " [[ 3 22 33 34]\n",
      " [35 26 27 38]\n",
      " [39 12 13  1]\n",
      " [ 4  5  6  7]]\n",
      "\n",
      " Shape of a: (4, 4)\n",
      "\n",
      " Element at index [0, 1] is  22\n"
     ]
    }
   ],
   "source": [
    "# Another example of indezing in multidimensional array\n",
    "a = np.array([[3, 22, 33, 34], [35, 26, 27,38], [39, 12, 13, 1], [4, 5, 6, 7]])\n",
    "print(\"\\n Array a:\\n\",  a)\n",
    "print(\"\\n Shape of a:\", a.shape)\n",
    "print(\"\\n Element at index [0, 1] is \", a[0, 1])"
   ]
  },
  {
   "cell_type": "code",
   "execution_count": 117,
   "id": "ea55fb48",
   "metadata": {},
   "outputs": [
    {
     "name": "stdout",
     "output_type": "stream",
     "text": [
      "[[ 3 22]\n",
      " [35 26]] \n",
      "\n",
      "[[26 27]] \n",
      "\n",
      "[[ 3 22 33 34]\n",
      " [35 26 27 38]\n",
      " [39 12 13  1]\n",
      " [ 4  5  6  7]] \n",
      "\n"
     ]
    }
   ],
   "source": [
    "# Subsetting rows and columns of 'a' into another array 'b'\n",
    "\n",
    "b = a[0:2, 0:2]\n",
    "print(b, '\\n')\n",
    "\n",
    "b = a[1:2, 1:3]\n",
    "print(b, '\\n')\n",
    "\n",
    "b = a[:, :]\n",
    "print(b, '\\n')"
   ]
  },
  {
   "cell_type": "code",
   "execution_count": 124,
   "id": "90acade7",
   "metadata": {},
   "outputs": [
    {
     "name": "stdout",
     "output_type": "stream",
     "text": [
      "a : \n",
      " [[ 1  2  3]\n",
      " [ 4  5  6]\n",
      " [ 7  8  9]\n",
      " [10 11 12]] \n",
      "\n",
      "Elements at index (0,2) and (1, 2) in a:  [3 6]\n"
     ]
    }
   ],
   "source": [
    "a = np.array([[1, 2, 3], [4, 5, 6], [7, 8, 9], [10, 11, 12]])\n",
    "print('a : \\n', a , '\\n')\n",
    "print(\"Elements at index (0,2) and (1, 2) in a: \", a[[0, 1],[2, 2]])\n"
   ]
  },
  {
   "cell_type": "code",
   "execution_count": 140,
   "id": "2e030459",
   "metadata": {},
   "outputs": [
    {
     "name": "stdout",
     "output_type": "stream",
     "text": [
      "Boolean Mask of Elements that satisfy the condition a > 4 or a<3:\n",
      " [[ True  True False]\n",
      " [ True False False]\n",
      " [False  True  True]]\n",
      "\n",
      "\n",
      "Elements that satisfy the cond a>4 or a<3:\n",
      " [1 2 1 5 6]\n",
      "\n",
      "\n",
      "Also elements that satisfy the cond a>4 or a<3:\n",
      " [1 2 1 5 6]\n"
     ]
    }
   ],
   "source": [
    "# Boolean Indexing to identify elements that satisfy some conditions\n",
    "a = np.array([[1, 2, 3], [1, 3, 4], [3, 5, 6]])\n",
    "# Condition is that the element in a should be greater than 4 or less than 3\n",
    "cond = np.logical_or(a > 4, a<3)\n",
    "print('Boolean Mask of Elements that satisfy the condition a > 4 or a<3:\\n', cond)\n",
    "\n",
    "print('\\n\\nElements that satisfy the cond a>4 or a<3:\\n', a[cond])\n",
    "print('\\n\\nAlso elements that satisfy the cond a>4 or a<3:\\n',a[np.logical_or(a>4, a<3)])"
   ]
  },
  {
   "cell_type": "markdown",
   "id": "a7a6c542",
   "metadata": {},
   "source": [
    "### numpy [where()](https://numpy.org/doc/stable/reference/generated/numpy.where.html)\n",
    "##The where() function of numpy returns the indices of elements that satisfy a given condition(s)\n",
    "\n",
    "numpy.where(condition, [x, y, ]/)\n",
    "\n",
    "Return elements chosen from x or y depending on condition.\n",
    "\n",
    "####  where() outputs an array with elements from x where condition is True, and elements from y elsewhere"
   ]
  },
  {
   "cell_type": "code",
   "execution_count": 26,
   "id": "0d67f63f",
   "metadata": {},
   "outputs": [
    {
     "name": "stdout",
     "output_type": "stream",
     "text": [
      "[[ 1  2  3  5]\n",
      " [14 15 16 17]] \n",
      " a.shape\n",
      " (2, 4)\n",
      "indices where elements are >15 : (array([1, 1], dtype=int64), array([2, 3], dtype=int64))\n",
      "indices:  (array([1, 1], dtype=int64), array([2, 3], dtype=int64))\n",
      "\n",
      "Elements which are >15 [16 17]\n",
      "\n",
      "\n",
      "Index of 1 is (array([0], dtype=int64), array([0], dtype=int64))\n",
      "Index of 2 is (array([0], dtype=int64), array([1], dtype=int64))\n",
      "Index of 3 is (array([0], dtype=int64), array([2], dtype=int64))\n",
      "Index of 5 is (array([0], dtype=int64), array([3], dtype=int64))\n",
      "Index of 14 is (array([1], dtype=int64), array([0], dtype=int64))\n",
      "Index of 15 is (array([1], dtype=int64), array([1], dtype=int64))\n",
      "Index of 16 is (array([1], dtype=int64), array([2], dtype=int64))\n",
      "Index of 17 is (array([1], dtype=int64), array([3], dtype=int64))\n"
     ]
    }
   ],
   "source": [
    "##The where() function of numpy returns the indices of elements that satisfy a given condition(s)\n",
    "\n",
    "a = np.array([[1, 2, 3, 5], [14, 15, 16, 17]])\n",
    "print(a, '\\n a.shape\\n', a.shape )\n",
    "print(\"indices where elements are >15 :\", np.where(a>15))\n",
    "\n",
    "b = np.where(a>15)\n",
    "print('indices: ', b)\n",
    "  \n",
    "print(\"\\nElements which are >15\" , a[b])\n",
    "print('\\n')\n",
    "\n",
    "# Printing index of every element, iterating row by row\n",
    "n_rows = a.shape[0]  # number of rows in a\n",
    "for s in range(n_rows): # for each row\n",
    "    for i in a[s]:  # for each column in that row\n",
    "        print('Index of {} is {}'.format(i, np.where(a==i)))# print the index of the element\n",
    "    "
   ]
  },
  {
   "cell_type": "markdown",
   "id": "6c0a241c",
   "metadata": {},
   "source": [
    "### Changing the shape of an array\n",
    "An array has a shape given by the number of elements along each axis:"
   ]
  },
  {
   "cell_type": "code",
   "execution_count": 47,
   "id": "c40060a8",
   "metadata": {},
   "outputs": [
    {
     "data": {
      "text/plain": [
       "array([   0,    1,   16,   81,  256,  625, 1296, 2401, 4096, 6561],\n",
       "      dtype=int32)"
      ]
     },
     "execution_count": 47,
     "metadata": {},
     "output_type": "execute_result"
    }
   ],
   "source": [
    "a = a = np.arange(10)**4\n",
    "a"
   ]
  },
  {
   "cell_type": "code",
   "execution_count": 48,
   "id": "19e1689a",
   "metadata": {},
   "outputs": [
    {
     "data": {
      "text/plain": [
       "(10,)"
      ]
     },
     "execution_count": 48,
     "metadata": {},
     "output_type": "execute_result"
    }
   ],
   "source": [
    "a.shape"
   ]
  },
  {
   "cell_type": "code",
   "execution_count": 55,
   "id": "637907cb",
   "metadata": {},
   "outputs": [
    {
     "data": {
      "text/plain": [
       "array([[   0,    1],\n",
       "       [  16,   81],\n",
       "       [ 256,  625],\n",
       "       [1296, 2401],\n",
       "       [4096, 6561]], dtype=int32)"
      ]
     },
     "execution_count": 55,
     "metadata": {},
     "output_type": "execute_result"
    }
   ],
   "source": [
    "a = a.reshape(5, 2) # Changes the shape of your array to 5 rows, 2 columns\n",
    "a"
   ]
  },
  {
   "cell_type": "code",
   "execution_count": 56,
   "id": "9caa7242",
   "metadata": {},
   "outputs": [
    {
     "data": {
      "text/plain": [
       "(5, 2)"
      ]
     },
     "execution_count": 56,
     "metadata": {},
     "output_type": "execute_result"
    }
   ],
   "source": [
    "a.shape"
   ]
  },
  {
   "cell_type": "code",
   "execution_count": 57,
   "id": "e2aa5469",
   "metadata": {},
   "outputs": [],
   "source": [
    "a= a.ravel()  # flattens array to single dimension"
   ]
  },
  {
   "cell_type": "code",
   "execution_count": 58,
   "id": "f7e923a9",
   "metadata": {},
   "outputs": [
    {
     "data": {
      "text/plain": [
       "(10,)"
      ]
     },
     "execution_count": 58,
     "metadata": {},
     "output_type": "execute_result"
    }
   ],
   "source": [
    "a.shape"
   ]
  },
  {
   "cell_type": "code",
   "execution_count": 63,
   "id": "e6e9592a",
   "metadata": {},
   "outputs": [
    {
     "data": {
      "text/plain": [
       "array([[   0,    1,   16,   81,  256],\n",
       "       [ 625, 1296, 2401, 4096, 6561]], dtype=int32)"
      ]
     },
     "execution_count": 63,
     "metadata": {},
     "output_type": "execute_result"
    }
   ],
   "source": [
    "a = a.reshape(2, 5)# 2 rows, 5 columns\n",
    "a"
   ]
  },
  {
   "cell_type": "code",
   "execution_count": 64,
   "id": "e20bd032",
   "metadata": {},
   "outputs": [
    {
     "data": {
      "text/plain": [
       "array([[   0,  625],\n",
       "       [   1, 1296],\n",
       "       [  16, 2401],\n",
       "       [  81, 4096],\n",
       "       [ 256, 6561]], dtype=int32)"
      ]
     },
     "execution_count": 64,
     "metadata": {},
     "output_type": "execute_result"
    }
   ],
   "source": [
    "a_transpose = a.T\n",
    "a_transpose"
   ]
  },
  {
   "cell_type": "markdown",
   "id": "2d05f100",
   "metadata": {},
   "source": [
    "The reshape function returns its argument with a modified shape, whereas the ndarray.resize method modifies the array itself"
   ]
  },
  {
   "cell_type": "code",
   "execution_count": 66,
   "id": "b55728df",
   "metadata": {},
   "outputs": [
    {
     "data": {
      "text/plain": [
       "array([[   0,    1],\n",
       "       [  16,   81],\n",
       "       [ 256,  625],\n",
       "       [1296, 2401],\n",
       "       [4096, 6561]], dtype=int32)"
      ]
     },
     "execution_count": 66,
     "metadata": {},
     "output_type": "execute_result"
    }
   ],
   "source": [
    "a.resize((5, 2))\n",
    "a"
   ]
  },
  {
   "cell_type": "markdown",
   "id": "0a0b6eed",
   "metadata": {},
   "source": [
    "Several arrays can be stacked together along different axes:"
   ]
  },
  {
   "cell_type": "code",
   "execution_count": 73,
   "id": "8077bf3c",
   "metadata": {},
   "outputs": [
    {
     "name": "stdout",
     "output_type": "stream",
     "text": [
      "a\n",
      " [[0 1]\n",
      " [2 3]\n",
      " [4 5]\n",
      " [6 7]\n",
      " [8 9]]\n",
      "\n",
      "\n",
      " b\n",
      " [[ 0  1]\n",
      " [ 2  3]\n",
      " [ 4  5]\n",
      " [ 6  7]\n",
      " [ 8  9]\n",
      " [10 11]\n",
      " [12 13]\n",
      " [14 15]]\n"
     ]
    }
   ],
   "source": [
    "# Let us create 2 arrays, of different shapes\n",
    "a = np.arange(10).reshape(5,2)\n",
    "print(\"a\\n\", a)\n",
    "b = np.arange(16).reshape(8,2)\n",
    "print(\"\\n\\n b\\n\", b)"
   ]
  },
  {
   "cell_type": "code",
   "execution_count": 74,
   "id": "4622bb9f",
   "metadata": {},
   "outputs": [
    {
     "data": {
      "text/plain": [
       "array([[ 0,  1],\n",
       "       [ 2,  3],\n",
       "       [ 4,  5],\n",
       "       [ 6,  7],\n",
       "       [ 8,  9],\n",
       "       [ 0,  1],\n",
       "       [ 2,  3],\n",
       "       [ 4,  5],\n",
       "       [ 6,  7],\n",
       "       [ 8,  9],\n",
       "       [10, 11],\n",
       "       [12, 13],\n",
       "       [14, 15]])"
      ]
     },
     "execution_count": 74,
     "metadata": {},
     "output_type": "execute_result"
    }
   ],
   "source": [
    "# both arrays have same number of columns so they are vertically stacked without error\n",
    "np.vstack((a, b))"
   ]
  },
  {
   "cell_type": "markdown",
   "id": "9617db97",
   "metadata": {},
   "source": [
    "#### Since a and b have different number of rows, they cannot be horizontally stacked\n",
    "np.hstack((a, b))  will throw an error"
   ]
  },
  {
   "cell_type": "markdown",
   "id": "b443e542",
   "metadata": {},
   "source": [
    "####  Mathematical Operations on Numpy arrays"
   ]
  },
  {
   "cell_type": "code",
   "execution_count": 215,
   "id": "1dea0a4d",
   "metadata": {},
   "outputs": [
    {
     "name": "stdout",
     "output_type": "stream",
     "text": [
      "Sum of a and b: \n",
      " [[12 14]\n",
      " [16 18]\n",
      " [20 22]\n",
      " [24 26]]\n",
      "Sum of a and b using ufunc add: \n",
      " [[12 14]\n",
      " [16 18]\n",
      " [20 22]\n",
      " [24 26]]\n",
      "Division of a and b using ufunc divide: \n",
      " [[0.09090909 0.16666667]\n",
      " [0.23076923 0.28571429]\n",
      " [0.33333333 0.375     ]\n",
      " [0.41176471 0.44444444]]\n",
      " Sum of elements in array a: \n",
      " 36\n",
      " Rowwise Sum of elements in array a: \n",
      " [16 20]\n",
      " Columnwise Sum of elements in array a: \n",
      " [ 3  7 11 15]\n"
     ]
    }
   ],
   "source": [
    "a = np.array([[1, 2], [3, 4], [5,6], [7,8]])\n",
    "b = np.arange(11, 19).reshape(4, 2)\n",
    "print('Sum of a and b: \\n', a + b)\n",
    "print('Sum of a and b using ufunc add: \\n',np.add(a, b))\n",
    "\n",
    "print('Division of a and b using ufunc divide: \\n',np.divide(a, b))\n",
    "\n",
    "print(' Sum of elements in array a: \\n', np.sum(a))\n",
    "print(' Rowwise Sum of elements in array a: \\n',np.sum(a, axis=0))\n",
    "print(' Columnwise Sum of elements in array a: \\n',np.sum(a, axis=1))\n"
   ]
  },
  {
   "cell_type": "code",
   "execution_count": 213,
   "id": "2383f131",
   "metadata": {},
   "outputs": [
    {
     "name": "stdout",
     "output_type": "stream",
     "text": [
      " Multiplication of two arrays using np.matmul() :\n",
      " [ 8 18]\n",
      " Multiplication of two arrays using * operator:\n",
      " [[ 2  6]\n",
      " [ 6 12]]\n",
      " Dot product:\n",
      " [ 8 18]\n",
      " Determinant of matrix :\n",
      " -2.0000000000000004\n"
     ]
    }
   ],
   "source": [
    "# Multiplication of two arrays, arrays must have compatible dimensions to allow multiplication, just like in case of matrix multiplication\n",
    "m1 = np.array([[1, 2], [3, 4]])\n",
    "m2 = np.array([2, 3])\n",
    "print(' Multiplication of two arrays using np.matmul() :\\n', np.matmul(m1,m2))\n",
    "print(' Multiplication of two arrays using * operator:\\n', m1*m2)\n",
    "\n",
    "#Dot product\n",
    "print(' Dot product:\\n', np.dot(m1,m2))\n",
    "\n",
    "# Determinant of matrix (two dimensional array)\n",
    "print(' Determinant of matrix :\\n', np.linalg.det(m1)) \n"
   ]
  },
  {
   "cell_type": "code",
   "execution_count": 218,
   "id": "9012458a",
   "metadata": {},
   "outputs": [
    {
     "name": "stdout",
     "output_type": "stream",
     "text": [
      "Min of a:  1\n",
      "Min of row1:  1\n",
      "Min of col2:  2\n",
      "Max of entire a:  10\n",
      "Max of row1:  10\n"
     ]
    }
   ],
   "source": [
    "# Minimum and maximum of array\n",
    "# minimum of entire array\n",
    "print('Min of a: ', np.min(a))\n",
    "# minimum of row 1\n",
    "print('Min of row1: ', np.min(a[0,:]))\n",
    "# minimum of col 2\n",
    "print('Min of col2: ', np.min(a[:,1]))\n",
    "\n",
    "print('Max of entire a: ', np.max(a))\n",
    "print('Max of row1: ', np.max(a[1,:]))\n"
   ]
  },
  {
   "cell_type": "code",
   "execution_count": 216,
   "id": "e28d263d",
   "metadata": {},
   "outputs": [
    {
     "name": "stdout",
     "output_type": "stream",
     "text": [
      "[[     1     32    243   1024   3125]\n",
      " [  7776  16807  32768  59049 100000]]\n",
      "[[0 0 0 0 1]\n",
      " [1 1 1 1 2]]\n",
      "[[1 2 3 4 0]\n",
      " [1 2 3 4 0]]\n",
      "[[ 0.84147098  0.90929743  0.14112001 -0.7568025  -0.95892427]\n",
      " [-0.2794155   0.6569866   0.98935825  0.41211849 -0.54402111]]\n",
      "[[ 0.54030231 -0.41614684 -0.9899925  -0.65364362  0.28366219]\n",
      " [ 0.96017029  0.75390225 -0.14550003 -0.91113026 -0.83907153]]\n"
     ]
    }
   ],
   "source": [
    "# Operations on single array\n",
    "a =np.array([[1,2,3,4,5], [6, 7, 8, 9, 10]])\n",
    "print(a**5)   # every element of a is raised to power 5\n",
    "print(a//5)   # every element of a is divided by 5\n",
    "print(a%5)    # modulus\n",
    "print(np.sin(a))  # sine of all elements in a\n",
    "print(np.cos(a))  # cosine of all the elements in a "
   ]
  },
  {
   "cell_type": "markdown",
   "id": "950187c1",
   "metadata": {},
   "source": [
    "### Applying numpy functions to titanic.csv dataset.\n",
    "#### https://www.learndatasci.com/tutorials/applied-introduction-to-numpy-python-tutorial/\n",
    "##### Data is present here https://github.com/datasciencedojo/datasets/blob/master/titanic.csv"
   ]
  },
  {
   "cell_type": "code",
   "execution_count": 35,
   "id": "a460bdaf",
   "metadata": {},
   "outputs": [],
   "source": [
    "# Example on datset\n",
    "# SInce the input file is a csv, we use csv module\n",
    "import csv\n",
    "data = [] # an empty list\n",
    "\n",
    "with open(\"titanic.csv\", 'r') as csvfile:\n",
    "    file_reader = csv.reader(csvfile, delimiter=',') # delimiter for file is comma, file is read row by row\n",
    "    for row in file_reader:\n",
    "        data.append(row) # append rows to data list\n",
    "        \n",
    "data = np.array(data) #convert the data to ndarray\n",
    "\n"
   ]
  },
  {
   "cell_type": "code",
   "execution_count": 36,
   "id": "0165f31d",
   "metadata": {},
   "outputs": [
    {
     "name": "stdout",
     "output_type": "stream",
     "text": [
      "Number of rows is 892, number of columns is 12\n"
     ]
    }
   ],
   "source": [
    "print(\"Number of rows is {}, number of columns is {}\".format(data.shape[0], data.shape[1]))"
   ]
  },
  {
   "cell_type": "code",
   "execution_count": 38,
   "id": "dc9df8bb",
   "metadata": {},
   "outputs": [
    {
     "name": "stdout",
     "output_type": "stream",
     "text": [
      "Headers of all columns ['PassengerId' 'Survived' 'Pclass' 'Name' 'Sex' 'Age' 'SibSp' 'Parch'\n",
      " 'Ticket' 'Fare' 'Cabin' 'Embarked']\n"
     ]
    }
   ],
   "source": [
    "print(\"Headers of all columns :\", data[0, :]) #first row is the header or column names row"
   ]
  },
  {
   "cell_type": "code",
   "execution_count": 44,
   "id": "f7512fa7",
   "metadata": {},
   "outputs": [
    {
     "name": "stdout",
     "output_type": "stream",
     "text": [
      "Only names:  ['Braund, Mr. Owen Harris'\n",
      " 'Cumings, Mrs. John Bradley (Florence Briggs Thayer)'\n",
      " 'Heikkinen, Miss. Laina' 'Futrelle, Mrs. Jacques Heath (Lily May Peel)'\n",
      " 'Allen, Mr. William Henry' 'Moran, Mr. James' 'McCarthy, Mr. Timothy J'\n",
      " 'Palsson, Master. Gosta Leonard'\n",
      " 'Johnson, Mrs. Oscar W (Elisabeth Vilhelmina Berg)'\n",
      " 'Nasser, Mrs. Nicholas (Adele Achem)']\n"
     ]
    }
   ],
   "source": [
    "print(\"Only names: \", data[1:11, 3]) # 10 rows of column 3, i.e. name column"
   ]
  },
  {
   "cell_type": "code",
   "execution_count": 70,
   "id": "94e34c34",
   "metadata": {},
   "outputs": [
    {
     "data": {
      "text/plain": [
       "array([['Name', 'Sex', 'Survived'],\n",
       "       ['Braund, Mr. Owen Harris', 'male', '0'],\n",
       "       ['Cumings, Mrs. John Bradley (Florence Briggs Thayer)', 'female',\n",
       "        '1'],\n",
       "       ['Heikkinen, Miss. Laina', 'female', '1'],\n",
       "       ['Futrelle, Mrs. Jacques Heath (Lily May Peel)', 'female', '1'],\n",
       "       ['Allen, Mr. William Henry', 'male', '0'],\n",
       "       ['Moran, Mr. James', 'male', '0'],\n",
       "       ['McCarthy, Mr. Timothy J', 'male', '0'],\n",
       "       ['Palsson, Master. Gosta Leonard', 'male', '0'],\n",
       "       ['Johnson, Mrs. Oscar W (Elisabeth Vilhelmina Berg)', 'female',\n",
       "        '1'],\n",
       "       ['Nasser, Mrs. Nicholas (Adele Achem)', 'female', '1'],\n",
       "       ['Sandstrom, Miss. Marguerite Rut', 'female', '1'],\n",
       "       ['Bonnell, Miss. Elizabeth', 'female', '1'],\n",
       "       ['Saundercock, Mr. William Henry', 'male', '0'],\n",
       "       ['Andersson, Mr. Anders Johan', 'male', '0'],\n",
       "       ['Vestrom, Miss. Hulda Amanda Adolfina', 'female', '0'],\n",
       "       ['Hewlett, Mrs. (Mary D Kingcome) ', 'female', '1'],\n",
       "       ['Rice, Master. Eugene', 'male', '0'],\n",
       "       ['Williams, Mr. Charles Eugene', 'male', '1'],\n",
       "       ['Vander Planke, Mrs. Julius (Emelia Maria Vandemoortele)',\n",
       "        'female', '0'],\n",
       "       ['Masselmani, Mrs. Fatima', 'female', '1'],\n",
       "       ['Fynney, Mr. Joseph J', 'male', '0'],\n",
       "       ['Beesley, Mr. Lawrence', 'male', '1'],\n",
       "       ['McGowan, Miss. Anna \"Annie\"', 'female', '1'],\n",
       "       ['Sloper, Mr. William Thompson', 'male', '1']], dtype='<U82')"
      ]
     },
     "execution_count": 70,
     "metadata": {},
     "output_type": "execute_result"
    }
   ],
   "source": [
    "# Subsetting data first 25 rows of columns 3, 4, and 1(name, sex and survived), first row is the header or column names row\n",
    "namesexsurvived25 = data[0:25, [3, 4, 1]]\n",
    "namesexsurvived25"
   ]
  },
  {
   "cell_type": "code",
   "execution_count": 71,
   "id": "a7c025c6",
   "metadata": {},
   "outputs": [
    {
     "data": {
      "text/plain": [
       "(25, 3)"
      ]
     },
     "execution_count": 71,
     "metadata": {},
     "output_type": "execute_result"
    }
   ],
   "source": [
    "namesexsurvived25.shape"
   ]
  },
  {
   "cell_type": "code",
   "execution_count": 72,
   "id": "a3359747",
   "metadata": {},
   "outputs": [
    {
     "data": {
      "text/plain": [
       "array(['Name', 'Sex', 'Survived'], dtype='<U82')"
      ]
     },
     "execution_count": 72,
     "metadata": {},
     "output_type": "execute_result"
    }
   ],
   "source": [
    "namesexsurvived25[0]"
   ]
  },
  {
   "cell_type": "code",
   "execution_count": 81,
   "id": "687d4912",
   "metadata": {},
   "outputs": [
    {
     "name": "stdout",
     "output_type": "stream",
     "text": [
      "Males who survived in first 25 rows ['Williams, Mr. Charles Eugene' 'Beesley, Mr. Lawrence'\n",
      " 'Sloper, Mr. William Thompson']\n"
     ]
    }
   ],
   "source": [
    "# Males in first 25 rows who survived\n",
    "\n",
    "sex25 = namesexsurvived25[:,1]\n",
    "survived25 = namesexsurvived25[:,2]\n",
    "names23 = namesexsurvived25[:,0]\n",
    "\n",
    "onlymales_mask = np.where(sex25 == 'male', True, False)\n",
    "onlysurvived_mask = np.where(survived25 == '1', True, False)\n",
    "maleandsurvived = np.logical_and(onlysurvived_mask, onlymales_mask)\n",
    "maleandsurvived\n",
    "namesofmaleswhosurvived = names23[maleandsurvived]\n",
    "print(\"Males who survived in first 25 rows\", namesofmaleswhosurvived)"
   ]
  },
  {
   "cell_type": "code",
   "execution_count": 95,
   "id": "3368c6ff",
   "metadata": {},
   "outputs": [
    {
     "name": "stdout",
     "output_type": "stream",
     "text": [
      "Total number of passengers who survived 342\n"
     ]
    }
   ],
   "source": [
    "#Total number of passengers who survived \n",
    "# since data type of elements in array data is str, we extract the survived column and type cast it into integer\n",
    "survived = data[1:, 1].astype(int)\n",
    "survived\n",
    "print(\"Total number of passengers who survived\" , survived.sum())"
   ]
  }
 ],
 "metadata": {
  "kernelspec": {
   "display_name": "Python 3 (ipykernel)",
   "language": "python",
   "name": "python3"
  },
  "language_info": {
   "codemirror_mode": {
    "name": "ipython",
    "version": 3
   },
   "file_extension": ".py",
   "mimetype": "text/x-python",
   "name": "python",
   "nbconvert_exporter": "python",
   "pygments_lexer": "ipython3",
   "version": "3.9.7"
  }
 },
 "nbformat": 4,
 "nbformat_minor": 5
}
