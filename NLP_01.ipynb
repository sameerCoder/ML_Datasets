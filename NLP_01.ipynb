{
  "nbformat": 4,
  "nbformat_minor": 0,
  "metadata": {
    "colab": {
      "name": "NLP_01.ipynb",
      "provenance": []
    },
    "kernelspec": {
      "name": "python3",
      "display_name": "Python 3"
    },
    "language_info": {
      "name": "python"
    },
    "accelerator": "GPU"
  },
  "cells": [
    {
      "cell_type": "code",
      "metadata": {
        "id": "OJsafA0HV-k_"
      },
      "source": [
        "import nltk\n",
        "import nltk.corpus"
      ],
      "execution_count": 2,
      "outputs": []
    },
    {
      "cell_type": "code",
      "metadata": {
        "colab": {
          "base_uri": "https://localhost:8080/"
        },
        "id": "nM9PSaUiXM5x",
        "outputId": "41abaa61-fbcb-4502-af9d-7a8263ca7817"
      },
      "source": [
        "nltk.download('punkt')"
      ],
      "execution_count": 6,
      "outputs": [
        {
          "output_type": "stream",
          "name": "stdout",
          "text": [
            "[nltk_data] Downloading package punkt to /root/nltk_data...\n",
            "[nltk_data]   Unzipping tokenizers/punkt.zip.\n"
          ]
        },
        {
          "output_type": "execute_result",
          "data": {
            "text/plain": [
              "True"
            ]
          },
          "metadata": {},
          "execution_count": 6
        }
      ]
    },
    {
      "cell_type": "code",
      "metadata": {
        "id": "TlzOjHJXWf4Y"
      },
      "source": [
        "from nltk.tokenize import word_tokenize"
      ],
      "execution_count": 3,
      "outputs": []
    },
    {
      "cell_type": "code",
      "metadata": {
        "id": "HeDDGLT5WnPE"
      },
      "source": [
        "sen1=\"This is a NLP class and learn the topic very nicely and become a succesfully\""
      ],
      "execution_count": 4,
      "outputs": []
    },
    {
      "cell_type": "code",
      "metadata": {
        "colab": {
          "base_uri": "https://localhost:8080/"
        },
        "id": "aGy3P4EdW4Ne",
        "outputId": "91f7d49d-fec8-4622-d5ef-1e53e604b890"
      },
      "source": [
        "sen1_token=word_tokenize(sen1)\n",
        "sen1_token"
      ],
      "execution_count": 7,
      "outputs": [
        {
          "output_type": "execute_result",
          "data": {
            "text/plain": [
              "['This',\n",
              " 'is',\n",
              " 'a',\n",
              " 'NLP',\n",
              " 'class',\n",
              " 'and',\n",
              " 'learn',\n",
              " 'the',\n",
              " 'topic',\n",
              " 'very',\n",
              " 'nicely',\n",
              " 'and',\n",
              " 'become',\n",
              " 'a',\n",
              " 'succesfully']"
            ]
          },
          "metadata": {},
          "execution_count": 7
        }
      ]
    },
    {
      "cell_type": "code",
      "metadata": {
        "colab": {
          "base_uri": "https://localhost:8080/"
        },
        "id": "4iRtGu7RXEHx",
        "outputId": "7a03b024-d332-4c46-c606-a932b818fe22"
      },
      "source": [
        "type(sen1_token)"
      ],
      "execution_count": 8,
      "outputs": [
        {
          "output_type": "execute_result",
          "data": {
            "text/plain": [
              "list"
            ]
          },
          "metadata": {},
          "execution_count": 8
        }
      ]
    },
    {
      "cell_type": "code",
      "metadata": {
        "colab": {
          "base_uri": "https://localhost:8080/"
        },
        "id": "AGvuLMLpXWrV",
        "outputId": "e9d4e224-0790-4a6a-9ef8-02660d17b2c9"
      },
      "source": [
        "# occurance\n",
        "from nltk.probability import FreqDist\n",
        "freq1=FreqDist()\n",
        "\n",
        "for i in sen1_token:\n",
        "  freq1[i]=freq1[i]+1\n",
        "\n",
        "freq1"
      ],
      "execution_count": 19,
      "outputs": [
        {
          "output_type": "execute_result",
          "data": {
            "text/plain": [
              "FreqDist({'NLP': 1,\n",
              "          'This': 1,\n",
              "          'a': 2,\n",
              "          'and': 2,\n",
              "          'become': 1,\n",
              "          'class': 1,\n",
              "          'is': 1,\n",
              "          'learn': 1,\n",
              "          'nicely': 1,\n",
              "          'succesfull': 1,\n",
              "          'the': 1,\n",
              "          'topic': 1,\n",
              "          'very': 1})"
            ]
          },
          "metadata": {},
          "execution_count": 19
        }
      ]
    },
    {
      "cell_type": "code",
      "metadata": {
        "colab": {
          "base_uri": "https://localhost:8080/"
        },
        "id": "M8wMMgMyYsxp",
        "outputId": "562283f2-6130-4a46-adf1-bfc266081333"
      },
      "source": [
        "top_5=freq1.most_common(5)\n",
        "top_5"
      ],
      "execution_count": 20,
      "outputs": [
        {
          "output_type": "execute_result",
          "data": {
            "text/plain": [
              "[('a', 2), ('and', 2), ('This', 1), ('is', 1), ('NLP', 1)]"
            ]
          },
          "metadata": {},
          "execution_count": 20
        }
      ]
    },
    {
      "cell_type": "code",
      "metadata": {
        "id": "HU35YPWPY7n8"
      },
      "source": [
        "#https://drive.google.com/file/d/1HV1sSIlxoAMfwuU1TahnZe2BXmIFjROp/view?usp=sharing"
      ],
      "execution_count": null,
      "outputs": []
    },
    {
      "cell_type": "markdown",
      "metadata": {
        "id": "WUkFZeBTcBUC"
      },
      "source": [
        "![picture](https://drive.google.com/uc?export=view&id=1HV1sSIlxoAMfwuU1TahnZe2BXmIFjROp)"
      ]
    },
    {
      "cell_type": "code",
      "metadata": {
        "colab": {
          "base_uri": "https://localhost:8080/"
        },
        "id": "4enARK7sYNqY",
        "outputId": "b8394e76-f463-40d9-8a1b-38186766c542"
      },
      "source": [
        "gram=word_tokenize(sen1)\n",
        "gram"
      ],
      "execution_count": 9,
      "outputs": [
        {
          "output_type": "execute_result",
          "data": {
            "text/plain": [
              "['This',\n",
              " 'is',\n",
              " 'a',\n",
              " 'NLP',\n",
              " 'class',\n",
              " 'and',\n",
              " 'learn',\n",
              " 'the',\n",
              " 'topic',\n",
              " 'very',\n",
              " 'nicely',\n",
              " 'and',\n",
              " 'become',\n",
              " 'a',\n",
              " 'succesfully']"
            ]
          },
          "metadata": {},
          "execution_count": 9
        }
      ]
    },
    {
      "cell_type": "code",
      "metadata": {
        "colab": {
          "base_uri": "https://localhost:8080/"
        },
        "id": "_VEmoqk1c6M2",
        "outputId": "e718cc11-251c-46cf-d8a0-16c3203b4aad"
      },
      "source": [
        "list(nltk.bigrams(gram))"
      ],
      "execution_count": 10,
      "outputs": [
        {
          "output_type": "execute_result",
          "data": {
            "text/plain": [
              "[('This', 'is'),\n",
              " ('is', 'a'),\n",
              " ('a', 'NLP'),\n",
              " ('NLP', 'class'),\n",
              " ('class', 'and'),\n",
              " ('and', 'learn'),\n",
              " ('learn', 'the'),\n",
              " ('the', 'topic'),\n",
              " ('topic', 'very'),\n",
              " ('very', 'nicely'),\n",
              " ('nicely', 'and'),\n",
              " ('and', 'become'),\n",
              " ('become', 'a'),\n",
              " ('a', 'succesfully')]"
            ]
          },
          "metadata": {},
          "execution_count": 10
        }
      ]
    },
    {
      "cell_type": "code",
      "metadata": {
        "colab": {
          "base_uri": "https://localhost:8080/"
        },
        "id": "fsL2I63_dM5V",
        "outputId": "02e28508-11a4-42e9-fbcc-38501e2488dc"
      },
      "source": [
        "list(nltk.trigrams(gram))"
      ],
      "execution_count": 11,
      "outputs": [
        {
          "output_type": "execute_result",
          "data": {
            "text/plain": [
              "[('This', 'is', 'a'),\n",
              " ('is', 'a', 'NLP'),\n",
              " ('a', 'NLP', 'class'),\n",
              " ('NLP', 'class', 'and'),\n",
              " ('class', 'and', 'learn'),\n",
              " ('and', 'learn', 'the'),\n",
              " ('learn', 'the', 'topic'),\n",
              " ('the', 'topic', 'very'),\n",
              " ('topic', 'very', 'nicely'),\n",
              " ('very', 'nicely', 'and'),\n",
              " ('nicely', 'and', 'become'),\n",
              " ('and', 'become', 'a'),\n",
              " ('become', 'a', 'succesfully')]"
            ]
          },
          "metadata": {},
          "execution_count": 11
        }
      ]
    },
    {
      "cell_type": "code",
      "metadata": {
        "colab": {
          "base_uri": "https://localhost:8080/"
        },
        "id": "S5i7AgxddmBN",
        "outputId": "1b5fc45c-4689-48ae-fd9a-0e430d6ee680"
      },
      "source": [
        "list(nltk.ngrams(gram,5))"
      ],
      "execution_count": 12,
      "outputs": [
        {
          "output_type": "execute_result",
          "data": {
            "text/plain": [
              "[('This', 'is', 'a', 'NLP', 'class'),\n",
              " ('is', 'a', 'NLP', 'class', 'and'),\n",
              " ('a', 'NLP', 'class', 'and', 'learn'),\n",
              " ('NLP', 'class', 'and', 'learn', 'the'),\n",
              " ('class', 'and', 'learn', 'the', 'topic'),\n",
              " ('and', 'learn', 'the', 'topic', 'very'),\n",
              " ('learn', 'the', 'topic', 'very', 'nicely'),\n",
              " ('the', 'topic', 'very', 'nicely', 'and'),\n",
              " ('topic', 'very', 'nicely', 'and', 'become'),\n",
              " ('very', 'nicely', 'and', 'become', 'a'),\n",
              " ('nicely', 'and', 'become', 'a', 'succesfully')]"
            ]
          },
          "metadata": {},
          "execution_count": 12
        }
      ]
    },
    {
      "cell_type": "code",
      "metadata": {
        "id": "Ez0m58VneYe6"
      },
      "source": [
        "#https://drive.google.com/file/d/1MKbFFcnsuNKHKoTEQpPSM8J59StvImo7/view?usp=sharing"
      ],
      "execution_count": null,
      "outputs": []
    },
    {
      "cell_type": "markdown",
      "metadata": {
        "id": "UP2M71IQebuV"
      },
      "source": [
        "![picture](https://drive.google.com/uc?export=view&id=1MKbFFcnsuNKHKoTEQpPSM8J59StvImo7)"
      ]
    },
    {
      "cell_type": "code",
      "metadata": {
        "id": "UYsjK9gWdQcw"
      },
      "source": [
        "#steming- CAN OR CAN NOT HAVE A MEANING.\n",
        "from nltk.stem import PorterStemmer\n",
        "pst=PorterStemmer()"
      ],
      "execution_count": 14,
      "outputs": []
    },
    {
      "cell_type": "code",
      "metadata": {
        "colab": {
          "base_uri": "https://localhost:8080/",
          "height": 35
        },
        "id": "MWkmskI-dZ_o",
        "outputId": "4be9b639-064d-4ede-f281-e3a8b4bf4aed"
      },
      "source": [
        "pst.stem(\"Buying\"); \n",
        "pst.stem(\"Giving\")"
      ],
      "execution_count": 16,
      "outputs": [
        {
          "output_type": "execute_result",
          "data": {
            "application/vnd.google.colaboratory.intrinsic+json": {
              "type": "string"
            },
            "text/plain": [
              "'give'"
            ]
          },
          "metadata": {},
          "execution_count": 16
        }
      ]
    },
    {
      "cell_type": "code",
      "metadata": {
        "id": "Z2XtFLn3esU1"
      },
      "source": [
        "#https://drive.google.com/file/d/1_J1VC2agRFH-W-2T6_ouMw0zos0_jU7L/view?usp=sharing"
      ],
      "execution_count": null,
      "outputs": []
    },
    {
      "cell_type": "markdown",
      "metadata": {
        "id": "1mAKxQvefCoC"
      },
      "source": [
        "![picture](https://drive.google.com/uc?export=view&id=1_J1VC2agRFH-W-2T6_ouMw0zos0_jU7L)"
      ]
    },
    {
      "cell_type": "code",
      "metadata": {
        "colab": {
          "base_uri": "https://localhost:8080/"
        },
        "id": "mPKQS_rygMsl",
        "outputId": "22bca3c5-e2bf-41ac-d78a-05d8fb0da102"
      },
      "source": [
        "nltk.download('wordnet')"
      ],
      "execution_count": 20,
      "outputs": [
        {
          "output_type": "stream",
          "name": "stdout",
          "text": [
            "[nltk_data] Downloading package wordnet to /root/nltk_data...\n",
            "[nltk_data]   Unzipping corpora/wordnet.zip.\n"
          ]
        },
        {
          "output_type": "execute_result",
          "data": {
            "text/plain": [
              "True"
            ]
          },
          "metadata": {},
          "execution_count": 20
        }
      ]
    },
    {
      "cell_type": "code",
      "metadata": {
        "id": "62VoXBRIfIey"
      },
      "source": [
        "# LEMMATISATION - SHORT WORD AFTER OPERATION MUST HAVE A MEANING.\n",
        "from nltk.stem import wordnet,WordNetLemmatizer\n",
        "lem1=WordNetLemmatizer()"
      ],
      "execution_count": 17,
      "outputs": []
    },
    {
      "cell_type": "code",
      "metadata": {
        "id": "EWY1YOf3fqFz"
      },
      "source": [
        "word2=[\"raining\", \"dancings\",\"washing\",\"cook\",\"studies\"]"
      ],
      "execution_count": 18,
      "outputs": []
    },
    {
      "cell_type": "code",
      "metadata": {
        "colab": {
          "base_uri": "https://localhost:8080/"
        },
        "id": "SWagpTSff2_L",
        "outputId": "cd5bc8b6-3be6-44a6-f1fb-f2f727d35a6a"
      },
      "source": [
        "for i in word2:\n",
        "  print(i+\"---\"+lem1.lemmatize(i))"
      ],
      "execution_count": 21,
      "outputs": [
        {
          "output_type": "stream",
          "name": "stdout",
          "text": [
            "raining---raining\n",
            "dancings---dancing\n",
            "washing---washing\n",
            "cook---cook\n",
            "studies---study\n"
          ]
        }
      ]
    },
    {
      "cell_type": "code",
      "metadata": {
        "id": "RXlzzNNhf8WB"
      },
      "source": [
        "# Noun pronoun verb preposition"
      ],
      "execution_count": 1,
      "outputs": []
    },
    {
      "cell_type": "code",
      "metadata": {
        "colab": {
          "base_uri": "https://localhost:8080/"
        },
        "id": "K6TjyfbXv7b2",
        "outputId": "cea0821b-4787-4951-eae1-be23d7acbbac"
      },
      "source": [
        "nltk.download('averaged_perceptron_tagger')"
      ],
      "execution_count": 23,
      "outputs": [
        {
          "output_type": "stream",
          "name": "stdout",
          "text": [
            "[nltk_data] Downloading package averaged_perceptron_tagger to\n",
            "[nltk_data]     /root/nltk_data...\n",
            "[nltk_data]   Unzipping taggers/averaged_perceptron_tagger.zip.\n"
          ]
        },
        {
          "output_type": "execute_result",
          "data": {
            "text/plain": [
              "True"
            ]
          },
          "metadata": {},
          "execution_count": 23
        }
      ]
    },
    {
      "cell_type": "code",
      "metadata": {
        "colab": {
          "base_uri": "https://localhost:8080/"
        },
        "id": "2eDf82EGvYtK",
        "outputId": "e9a42441-2563-4fb8-8d92-321e25db8d9e"
      },
      "source": [
        "for i in sen1_token:\n",
        "  print(nltk.pos_tag([i]))\n"
      ],
      "execution_count": 24,
      "outputs": [
        {
          "output_type": "stream",
          "name": "stdout",
          "text": [
            "[('This', 'DT')]\n",
            "[('is', 'VBZ')]\n",
            "[('a', 'DT')]\n",
            "[('NLP', 'NN')]\n",
            "[('class', 'NN')]\n",
            "[('and', 'CC')]\n",
            "[('learn', 'NN')]\n",
            "[('the', 'DT')]\n",
            "[('topic', 'NN')]\n",
            "[('very', 'RB')]\n",
            "[('nicely', 'RB')]\n",
            "[('and', 'CC')]\n",
            "[('become', 'NN')]\n",
            "[('a', 'DT')]\n",
            "[('succesfully', 'RB')]\n"
          ]
        }
      ]
    },
    {
      "cell_type": "code",
      "metadata": {
        "colab": {
          "base_uri": "https://localhost:8080/"
        },
        "id": "OyNrul9Uxjv-",
        "outputId": "f5b07cab-3d26-42de-f9ef-11cbf7d2e1e9"
      },
      "source": [
        "nltk.download('maxent_ne_chunker')"
      ],
      "execution_count": 28,
      "outputs": [
        {
          "output_type": "stream",
          "name": "stdout",
          "text": [
            "[nltk_data] Downloading package maxent_ne_chunker to\n",
            "[nltk_data]     /root/nltk_data...\n",
            "[nltk_data]   Unzipping chunkers/maxent_ne_chunker.zip.\n"
          ]
        },
        {
          "output_type": "execute_result",
          "data": {
            "text/plain": [
              "True"
            ]
          },
          "metadata": {},
          "execution_count": 28
        }
      ]
    },
    {
      "cell_type": "code",
      "metadata": {
        "id": "gfB7PxiWx047"
      },
      "source": [
        "sen2=\"Google is the best company to work and Robin work here\"\n",
        "sen2_token=word_tokenize(sen2)"
      ],
      "execution_count": 25,
      "outputs": []
    },
    {
      "cell_type": "code",
      "metadata": {
        "colab": {
          "base_uri": "https://localhost:8080/"
        },
        "id": "fruYEIf_xWS3",
        "outputId": "900e42cd-8659-4919-803d-7843f0379276"
      },
      "source": [
        "tags=nltk.pos_tag(sen2_token)\n",
        "nltk.download('words')"
      ],
      "execution_count": 26,
      "outputs": [
        {
          "output_type": "stream",
          "name": "stdout",
          "text": [
            "[nltk_data] Downloading package words to /root/nltk_data...\n",
            "[nltk_data]   Unzipping corpora/words.zip.\n"
          ]
        },
        {
          "output_type": "execute_result",
          "data": {
            "text/plain": [
              "True"
            ]
          },
          "metadata": {},
          "execution_count": 26
        }
      ]
    },
    {
      "cell_type": "code",
      "metadata": {
        "id": "WVH1FlNIxgPj"
      },
      "source": [
        "import matplotlib\n",
        "matplotlib.use('Agg')"
      ],
      "execution_count": 29,
      "outputs": []
    },
    {
      "cell_type": "code",
      "metadata": {
        "colab": {
          "base_uri": "https://localhost:8080/",
          "height": 412
        },
        "id": "-iaGFHP4vp5r",
        "outputId": "e9d60450-5f2a-470d-8016-7cbb5d74b4b4"
      },
      "source": [
        "from nltk import ne_chunk\n",
        "chunk=ne_chunk(tags)\n",
        "chunk"
      ],
      "execution_count": 29,
      "outputs": [
        {
          "output_type": "error",
          "ename": "TclError",
          "evalue": "ignored",
          "traceback": [
            "\u001b[0;31m---------------------------------------------------------------------------\u001b[0m",
            "\u001b[0;31mTclError\u001b[0m                                  Traceback (most recent call last)",
            "\u001b[0;32m/usr/local/lib/python3.7/dist-packages/IPython/core/formatters.py\u001b[0m in \u001b[0;36m__call__\u001b[0;34m(self, obj)\u001b[0m\n\u001b[1;32m    336\u001b[0m             \u001b[0mmethod\u001b[0m \u001b[0;34m=\u001b[0m \u001b[0mget_real_method\u001b[0m\u001b[0;34m(\u001b[0m\u001b[0mobj\u001b[0m\u001b[0;34m,\u001b[0m \u001b[0mself\u001b[0m\u001b[0;34m.\u001b[0m\u001b[0mprint_method\u001b[0m\u001b[0;34m)\u001b[0m\u001b[0;34m\u001b[0m\u001b[0;34m\u001b[0m\u001b[0m\n\u001b[1;32m    337\u001b[0m             \u001b[0;32mif\u001b[0m \u001b[0mmethod\u001b[0m \u001b[0;32mis\u001b[0m \u001b[0;32mnot\u001b[0m \u001b[0;32mNone\u001b[0m\u001b[0;34m:\u001b[0m\u001b[0;34m\u001b[0m\u001b[0;34m\u001b[0m\u001b[0m\n\u001b[0;32m--> 338\u001b[0;31m                 \u001b[0;32mreturn\u001b[0m \u001b[0mmethod\u001b[0m\u001b[0;34m(\u001b[0m\u001b[0;34m)\u001b[0m\u001b[0;34m\u001b[0m\u001b[0;34m\u001b[0m\u001b[0m\n\u001b[0m\u001b[1;32m    339\u001b[0m             \u001b[0;32mreturn\u001b[0m \u001b[0;32mNone\u001b[0m\u001b[0;34m\u001b[0m\u001b[0;34m\u001b[0m\u001b[0m\n\u001b[1;32m    340\u001b[0m         \u001b[0;32melse\u001b[0m\u001b[0;34m:\u001b[0m\u001b[0;34m\u001b[0m\u001b[0;34m\u001b[0m\u001b[0m\n",
            "\u001b[0;32m/usr/local/lib/python3.7/dist-packages/nltk/tree.py\u001b[0m in \u001b[0;36m_repr_png_\u001b[0;34m(self)\u001b[0m\n\u001b[1;32m    717\u001b[0m         \u001b[0;32mfrom\u001b[0m \u001b[0mnltk\u001b[0m\u001b[0;34m.\u001b[0m\u001b[0mdraw\u001b[0m\u001b[0;34m.\u001b[0m\u001b[0mutil\u001b[0m \u001b[0;32mimport\u001b[0m \u001b[0mCanvasFrame\u001b[0m\u001b[0;34m\u001b[0m\u001b[0;34m\u001b[0m\u001b[0m\n\u001b[1;32m    718\u001b[0m         \u001b[0;32mfrom\u001b[0m \u001b[0mnltk\u001b[0m\u001b[0;34m.\u001b[0m\u001b[0minternals\u001b[0m \u001b[0;32mimport\u001b[0m \u001b[0mfind_binary\u001b[0m\u001b[0;34m\u001b[0m\u001b[0;34m\u001b[0m\u001b[0m\n\u001b[0;32m--> 719\u001b[0;31m         \u001b[0m_canvas_frame\u001b[0m \u001b[0;34m=\u001b[0m \u001b[0mCanvasFrame\u001b[0m\u001b[0;34m(\u001b[0m\u001b[0;34m)\u001b[0m\u001b[0;34m\u001b[0m\u001b[0;34m\u001b[0m\u001b[0m\n\u001b[0m\u001b[1;32m    720\u001b[0m         \u001b[0mwidget\u001b[0m \u001b[0;34m=\u001b[0m \u001b[0mtree_to_treesegment\u001b[0m\u001b[0;34m(\u001b[0m\u001b[0m_canvas_frame\u001b[0m\u001b[0;34m.\u001b[0m\u001b[0mcanvas\u001b[0m\u001b[0;34m(\u001b[0m\u001b[0;34m)\u001b[0m\u001b[0;34m,\u001b[0m \u001b[0mself\u001b[0m\u001b[0;34m)\u001b[0m\u001b[0;34m\u001b[0m\u001b[0;34m\u001b[0m\u001b[0m\n\u001b[1;32m    721\u001b[0m         \u001b[0m_canvas_frame\u001b[0m\u001b[0;34m.\u001b[0m\u001b[0madd_widget\u001b[0m\u001b[0;34m(\u001b[0m\u001b[0mwidget\u001b[0m\u001b[0;34m)\u001b[0m\u001b[0;34m\u001b[0m\u001b[0;34m\u001b[0m\u001b[0m\n",
            "\u001b[0;32m/usr/local/lib/python3.7/dist-packages/nltk/draw/util.py\u001b[0m in \u001b[0;36m__init__\u001b[0;34m(self, parent, **kw)\u001b[0m\n\u001b[1;32m   1651\u001b[0m         \u001b[0;31m# If no parent was given, set up a top-level window.\u001b[0m\u001b[0;34m\u001b[0m\u001b[0;34m\u001b[0m\u001b[0;34m\u001b[0m\u001b[0m\n\u001b[1;32m   1652\u001b[0m         \u001b[0;32mif\u001b[0m \u001b[0mparent\u001b[0m \u001b[0;32mis\u001b[0m \u001b[0;32mNone\u001b[0m\u001b[0;34m:\u001b[0m\u001b[0;34m\u001b[0m\u001b[0;34m\u001b[0m\u001b[0m\n\u001b[0;32m-> 1653\u001b[0;31m             \u001b[0mself\u001b[0m\u001b[0;34m.\u001b[0m\u001b[0m_parent\u001b[0m \u001b[0;34m=\u001b[0m \u001b[0mTk\u001b[0m\u001b[0;34m(\u001b[0m\u001b[0;34m)\u001b[0m\u001b[0;34m\u001b[0m\u001b[0;34m\u001b[0m\u001b[0m\n\u001b[0m\u001b[1;32m   1654\u001b[0m             \u001b[0mself\u001b[0m\u001b[0;34m.\u001b[0m\u001b[0m_parent\u001b[0m\u001b[0;34m.\u001b[0m\u001b[0mtitle\u001b[0m\u001b[0;34m(\u001b[0m\u001b[0;34m'NLTK'\u001b[0m\u001b[0;34m)\u001b[0m\u001b[0;34m\u001b[0m\u001b[0;34m\u001b[0m\u001b[0m\n\u001b[1;32m   1655\u001b[0m             \u001b[0mself\u001b[0m\u001b[0;34m.\u001b[0m\u001b[0m_parent\u001b[0m\u001b[0;34m.\u001b[0m\u001b[0mbind\u001b[0m\u001b[0;34m(\u001b[0m\u001b[0;34m'<Control-p>'\u001b[0m\u001b[0;34m,\u001b[0m \u001b[0;32mlambda\u001b[0m \u001b[0me\u001b[0m\u001b[0;34m:\u001b[0m \u001b[0mself\u001b[0m\u001b[0;34m.\u001b[0m\u001b[0mprint_to_file\u001b[0m\u001b[0;34m(\u001b[0m\u001b[0;34m)\u001b[0m\u001b[0;34m)\u001b[0m\u001b[0;34m\u001b[0m\u001b[0;34m\u001b[0m\u001b[0m\n",
            "\u001b[0;32m/usr/lib/python3.7/tkinter/__init__.py\u001b[0m in \u001b[0;36m__init__\u001b[0;34m(self, screenName, baseName, className, useTk, sync, use)\u001b[0m\n\u001b[1;32m   2021\u001b[0m                 \u001b[0mbaseName\u001b[0m \u001b[0;34m=\u001b[0m \u001b[0mbaseName\u001b[0m \u001b[0;34m+\u001b[0m \u001b[0mext\u001b[0m\u001b[0;34m\u001b[0m\u001b[0;34m\u001b[0m\u001b[0m\n\u001b[1;32m   2022\u001b[0m         \u001b[0minteractive\u001b[0m \u001b[0;34m=\u001b[0m \u001b[0;36m0\u001b[0m\u001b[0;34m\u001b[0m\u001b[0;34m\u001b[0m\u001b[0m\n\u001b[0;32m-> 2023\u001b[0;31m         \u001b[0mself\u001b[0m\u001b[0;34m.\u001b[0m\u001b[0mtk\u001b[0m \u001b[0;34m=\u001b[0m \u001b[0m_tkinter\u001b[0m\u001b[0;34m.\u001b[0m\u001b[0mcreate\u001b[0m\u001b[0;34m(\u001b[0m\u001b[0mscreenName\u001b[0m\u001b[0;34m,\u001b[0m \u001b[0mbaseName\u001b[0m\u001b[0;34m,\u001b[0m \u001b[0mclassName\u001b[0m\u001b[0;34m,\u001b[0m \u001b[0minteractive\u001b[0m\u001b[0;34m,\u001b[0m \u001b[0mwantobjects\u001b[0m\u001b[0;34m,\u001b[0m \u001b[0museTk\u001b[0m\u001b[0;34m,\u001b[0m \u001b[0msync\u001b[0m\u001b[0;34m,\u001b[0m \u001b[0muse\u001b[0m\u001b[0;34m)\u001b[0m\u001b[0;34m\u001b[0m\u001b[0;34m\u001b[0m\u001b[0m\n\u001b[0m\u001b[1;32m   2024\u001b[0m         \u001b[0;32mif\u001b[0m \u001b[0museTk\u001b[0m\u001b[0;34m:\u001b[0m\u001b[0;34m\u001b[0m\u001b[0;34m\u001b[0m\u001b[0m\n\u001b[1;32m   2025\u001b[0m             \u001b[0mself\u001b[0m\u001b[0;34m.\u001b[0m\u001b[0m_loadtk\u001b[0m\u001b[0;34m(\u001b[0m\u001b[0;34m)\u001b[0m\u001b[0;34m\u001b[0m\u001b[0;34m\u001b[0m\u001b[0m\n",
            "\u001b[0;31mTclError\u001b[0m: no display name and no $DISPLAY environment variable"
          ]
        },
        {
          "output_type": "execute_result",
          "data": {
            "text/plain": [
              "Tree('S', [Tree('GPE', [('Google', 'NNP')]), ('is', 'VBZ'), ('the', 'DT'), ('best', 'JJS'), ('company', 'NN'), ('to', 'TO'), ('work', 'VB'), ('and', 'CC'), Tree('PERSON', [('Robin', 'NNP')]), ('work', 'NN'), ('here', 'RB')])"
            ]
          },
          "metadata": {},
          "execution_count": 29
        }
      ]
    }
  ]
}