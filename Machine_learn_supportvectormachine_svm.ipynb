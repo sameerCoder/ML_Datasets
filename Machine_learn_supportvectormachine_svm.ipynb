{
  "nbformat": 4,
  "nbformat_minor": 0,
  "metadata": {
    "colab": {
      "name": "Machine_learn_supportvectormachine_svm.ipynb",
      "provenance": []
    },
    "kernelspec": {
      "name": "python3",
      "display_name": "Python 3"
    },
    "language_info": {
      "name": "python"
    }
  },
  "cells": [
    {
      "cell_type": "code",
      "metadata": {
        "id": "5vDWYEFiLq-D"
      },
      "source": [
        "import pandas as pd\n",
        "import matplotlib.pyplot as plt\n",
        "import seaborn as sns"
      ],
      "execution_count": 1,
      "outputs": []
    },
    {
      "cell_type": "code",
      "metadata": {
        "colab": {
          "base_uri": "https://localhost:8080/"
        },
        "id": "CHB7lMBuJy-t",
        "outputId": "43499b75-a8b3-4259-d277-219368696486"
      },
      "source": [
        "\n",
        "dfchunk=pd.read_csv(\"https://raw.githubusercontent.com/sameerCoder/ML_Datasets/main/billing.csv\")\n",
        "print(dfchunk.head())"
      ],
      "execution_count": 2,
      "outputs": [
        {
          "output_type": "stream",
          "name": "stdout",
          "text": [
            "   customerID        Contract  ... TotalCharges Churn\n",
            "0  7590-VHVEG  Month-to-month  ...        29.85    No\n",
            "1  5575-GNVDE        One year  ...       1889.5    No\n",
            "2  3668-QPYBK  Month-to-month  ...       108.15   Yes\n",
            "3  7795-CFOCW        One year  ...      1840.75    No\n",
            "4  9237-HQITU  Month-to-month  ...       151.65   Yes\n",
            "\n",
            "[5 rows x 7 columns]\n"
          ]
        }
      ]
    },
    {
      "cell_type": "code",
      "metadata": {
        "colab": {
          "base_uri": "https://localhost:8080/"
        },
        "id": "YiuDUCR6L1Rt",
        "outputId": "9480cb85-79b4-4ca4-9724-e6802b8ed4bd"
      },
      "source": [
        "print(dfchunk.columns)"
      ],
      "execution_count": 4,
      "outputs": [
        {
          "output_type": "stream",
          "name": "stdout",
          "text": [
            "Index(['customerID', 'Contract', 'PaperlessBilling', 'PaymentMethod',\n",
            "       'MonthlyCharges', 'TotalCharges', 'Churn'],\n",
            "      dtype='object')\n"
          ]
        }
      ]
    },
    {
      "cell_type": "code",
      "metadata": {
        "colab": {
          "base_uri": "https://localhost:8080/"
        },
        "id": "x7-XgqJVM8-Q",
        "outputId": "0c86c021-d895-4e45-e126-7e16126f2586"
      },
      "source": [
        "print(dfchunk['PaymentMethod'].value_counts())"
      ],
      "execution_count": 5,
      "outputs": [
        {
          "output_type": "stream",
          "name": "stdout",
          "text": [
            "Electronic check             2365\n",
            "Mailed check                 1612\n",
            "Bank transfer (automatic)    1544\n",
            "Credit card (automatic)      1522\n",
            "Name: PaymentMethod, dtype: int64\n"
          ]
        }
      ]
    },
    {
      "cell_type": "code",
      "metadata": {
        "colab": {
          "base_uri": "https://localhost:8080/"
        },
        "id": "_yJwnKpJNEKy",
        "outputId": "d25a9cd3-ea51-4739-e52f-ff82bb527553"
      },
      "source": [
        "print(dfchunk['PaperlessBilling'].value_counts())\n",
        "#4171 number of user has opt yes for paperlessbilling.\n",
        "#2872 number of user has opt no for paperlessbilling."
      ],
      "execution_count": 7,
      "outputs": [
        {
          "output_type": "stream",
          "name": "stdout",
          "text": [
            "Yes    4171\n",
            "No     2872\n",
            "Name: PaperlessBilling, dtype: int64\n"
          ]
        }
      ]
    },
    {
      "cell_type": "code",
      "metadata": {
        "colab": {
          "base_uri": "https://localhost:8080/"
        },
        "id": "OOX3_D37NJlF",
        "outputId": "b77ee51e-c3fa-44a3-ae4d-60c2875e878b"
      },
      "source": [
        "print(dfchunk['PaperlessBilling'].value_counts().keys())"
      ],
      "execution_count": 8,
      "outputs": [
        {
          "output_type": "stream",
          "name": "stdout",
          "text": [
            "Index(['Yes', 'No'], dtype='object')\n"
          ]
        }
      ]
    },
    {
      "cell_type": "code",
      "metadata": {
        "colab": {
          "base_uri": "https://localhost:8080/"
        },
        "id": "40llOEfaNsak",
        "outputId": "82b9cb89-2c33-4499-f289-e51ae5495a38"
      },
      "source": [
        "print(dfchunk['PaperlessBilling'].value_counts().values)\n",
        "#4171 yes\n",
        "#2872 no"
      ],
      "execution_count": 10,
      "outputs": [
        {
          "output_type": "stream",
          "name": "stdout",
          "text": [
            "[4171 2872]\n"
          ]
        }
      ]
    },
    {
      "cell_type": "code",
      "metadata": {
        "id": "HGIq5hANp5xy"
      },
      "source": [
        "plt.plot(x=, y=)"
      ],
      "execution_count": null,
      "outputs": []
    },
    {
      "cell_type": "code",
      "metadata": {
        "colab": {
          "base_uri": "https://localhost:8080/",
          "height": 265
        },
        "id": "3_z-bUWsNvPE",
        "outputId": "cd7fe787-5190-4c5b-9632-e560b31e2462"
      },
      "source": [
        "plt.bar(x=dfchunk['PaperlessBilling'].value_counts().keys(), height=dfchunk['PaperlessBilling'].value_counts())\n",
        "plt.show()"
      ],
      "execution_count": 13,
      "outputs": [
        {
          "output_type": "display_data",
          "data": {
            "image/png": "[encoded data removed]",
            "text/plain": [
              "<Figure size 432x288 with 1 Axes>"
            ]
          },
          "metadata": {
            "needs_background": "light"
          }
        }
      ]
    },
    {
      "cell_type": "code",
      "metadata": {
        "colab": {
          "base_uri": "https://localhost:8080/",
          "height": 265
        },
        "id": "isv04wHDODeg",
        "outputId": "fea0cb94-de46-4e01-b3a7-2d90d784d2d2"
      },
      "source": [
        "plt.bar(x=dfchunk['PaperlessBilling'].value_counts().keys(), height=dfchunk['PaperlessBilling'].value_counts(),color=['green','red'])\n",
        "plt.show()"
      ],
      "execution_count": 14,
      "outputs": [
        {
          "output_type": "display_data",
          "data": {
            "image/png": "[encoded data removed]",
            "text/plain": [
              "<Figure size 432x288 with 1 Axes>"
            ]
          },
          "metadata": {
            "needs_background": "light"
          }
        }
      ]
    },
    {
      "cell_type": "code",
      "metadata": {
        "colab": {
          "base_uri": "https://localhost:8080/"
        },
        "id": "tdvKlwRsOiux",
        "outputId": "374a3a62-27c0-458b-93c7-39f8a9f2dc99"
      },
      "source": [
        "pd.set_option('display.max_columns', None)\n",
        "print(dfchunk.head(2))\n",
        "print()\n",
        "print(dfchunk.columns)"
      ],
      "execution_count": 19,
      "outputs": [
        {
          "output_type": "stream",
          "name": "stdout",
          "text": [
            "   customerID        Contract PaperlessBilling     PaymentMethod  \\\n",
            "0  7590-VHVEG  Month-to-month              Yes  Electronic check   \n",
            "1  5575-GNVDE        One year               No      Mailed check   \n",
            "\n",
            "   MonthlyCharges TotalCharges Churn  \n",
            "0           29.85        29.85    No  \n",
            "1           56.95       1889.5    No  \n",
            "\n",
            "Index(['customerID', 'Contract', 'PaperlessBilling', 'PaymentMethod',\n",
            "       'MonthlyCharges', 'TotalCharges', 'Churn'],\n",
            "      dtype='object')\n"
          ]
        }
      ]
    },
    {
      "cell_type": "code",
      "metadata": {
        "id": "JVRRdSYqPUmJ"
      },
      "source": [
        "x=dfchunk[['MonthlyCharges']] # independent source variable\n",
        "y=dfchunk[['Churn']] # dependent target variable"
      ],
      "execution_count": 34,
      "outputs": []
    },
    {
      "cell_type": "code",
      "metadata": {
        "colab": {
          "base_uri": "https://localhost:8080/"
        },
        "id": "RhyJhVELTmwz",
        "outputId": "78553b96-b00a-47b0-b9f5-e821efaef10c"
      },
      "source": [
        "dfchunk['Churn'].unique()"
      ],
      "execution_count": 33,
      "outputs": [
        {
          "output_type": "execute_result",
          "data": {
            "text/plain": [
              "array(['No', 'Yes'], dtype=object)"
            ]
          },
          "metadata": {},
          "execution_count": 33
        }
      ]
    },
    {
      "cell_type": "code",
      "metadata": {
        "colab": {
          "base_uri": "https://localhost:8080/"
        },
        "id": "JWmhgtm_Rl5S",
        "outputId": "c56802d4-9f98-48d8-ee74-4438a91f405d"
      },
      "source": [
        "from sklearn.model_selection import train_test_split\n",
        "x_train,x_test,y_train,y_test=train_test_split(x,y,test_size=0.30)\n",
        "\n",
        "from sklearn.svm import SVC # support vector classifier.\n",
        "s1=SVC()\n",
        "s1.fit(x_train,y_train)"
      ],
      "execution_count": 37,
      "outputs": [
        {
          "output_type": "stream",
          "name": "stderr",
          "text": [
            "/usr/local/lib/python3.7/dist-packages/sklearn/utils/validation.py:760: DataConversionWarning: A column-vector y was passed when a 1d array was expected. Please change the shape of y to (n_samples, ), for example using ravel().\n",
            "  y = column_or_1d(y, warn=True)\n"
          ]
        },
        {
          "output_type": "execute_result",
          "data": {
            "text/plain": [
              "SVC(C=1.0, break_ties=False, cache_size=200, class_weight=None, coef0=0.0,\n",
              "    decision_function_shape='ovr', degree=3, gamma='scale', kernel='rbf',\n",
              "    max_iter=-1, probability=False, random_state=None, shrinking=True,\n",
              "    tol=0.001, verbose=False)"
            ]
          },
          "metadata": {},
          "execution_count": 37
        }
      ]
    },
    {
      "cell_type": "code",
      "metadata": {
        "colab": {
          "base_uri": "https://localhost:8080/"
        },
        "id": "dm9r5yK1R6wh",
        "outputId": "e1b5b4e7-e89a-46e7-ce08-9ddcfeab07ee"
      },
      "source": [
        "y_predict=s1.predict(x_test)\n",
        "print(y_predict)"
      ],
      "execution_count": 39,
      "outputs": [
        {
          "output_type": "stream",
          "name": "stdout",
          "text": [
            "['No' 'No' 'No' ... 'No' 'No' 'No']\n"
          ]
        }
      ]
    },
    {
      "cell_type": "code",
      "metadata": {
        "colab": {
          "base_uri": "https://localhost:8080/"
        },
        "id": "bRnaUWJySKCB",
        "outputId": "74eb8008-40a4-4bd4-cb80-4b2eb79f5041"
      },
      "source": [
        "from sklearn.metrics import confusion_matrix\n",
        "print(confusion_matrix(y_test,y_predict))"
      ],
      "execution_count": 41,
      "outputs": [
        {
          "output_type": "stream",
          "name": "stdout",
          "text": [
            "[[1540    0]\n",
            " [ 573    0]]\n"
          ]
        }
      ]
    },
    {
      "cell_type": "code",
      "metadata": {
        "id": "cY2HyCUTUCeT"
      },
      "source": [
        "# so the correct found out is 1540\n",
        "# wrong found out is 573"
      ],
      "execution_count": 42,
      "outputs": []
    },
    {
      "cell_type": "code",
      "metadata": {
        "id": "J0Q0WxIIUSvb"
      },
      "source": [
        ""
      ],
      "execution_count": null,
      "outputs": []
    }
  ]
}