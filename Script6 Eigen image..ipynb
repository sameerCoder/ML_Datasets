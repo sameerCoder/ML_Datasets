{
 "cells": [
  {
   "cell_type": "code",
   "execution_count": 1,
   "id": "4792e155",
   "metadata": {},
   "outputs": [],
   "source": [
    "import pandas as pd\n",
    "import numpy as np\n",
    "import matplotlib.pyplot as plt\n",
    "import PIL.Image as imgg\n",
    "import cv2"
   ]
  },
  {
   "cell_type": "code",
   "execution_count": 2,
   "id": "1ae47e20",
   "metadata": {},
   "outputs": [],
   "source": [
    "from glob import glob"
   ]
  },
  {
   "cell_type": "code",
   "execution_count": 8,
   "id": "4b738790",
   "metadata": {},
   "outputs": [],
   "source": [
    "# loading numpy zip\n",
    "data=np.load('./output_crop/data_10000_norm.npz')"
   ]
  },
  {
   "cell_type": "code",
   "execution_count": 9,
   "id": "34ae1ad5",
   "metadata": {},
   "outputs": [
    {
     "name": "stdout",
     "output_type": "stream",
     "text": [
      "(5458, 10000)\n",
      "(5458,)\n"
     ]
    },
    {
     "data": {
      "text/plain": [
       "(None, None)"
      ]
     },
     "execution_count": 9,
     "metadata": {},
     "output_type": "execute_result"
    }
   ],
   "source": [
    "x=data['arr_0']\n",
    "y=data['arr_1']\n",
    "print(x.shape),print(y.shape)"
   ]
  },
  {
   "cell_type": "markdown",
   "id": "13195cf8",
   "metadata": {},
   "source": [
    "# Eigen Image"
   ]
  },
  {
   "cell_type": "code",
   "execution_count": 16,
   "id": "6e3319ad",
   "metadata": {},
   "outputs": [],
   "source": [
    "import sklearn\n",
    "x1=x-x.mean(axis=0)\n",
    "from sklearn.decomposition import PCA\n",
    "pca=PCA(n_components=None,whiten=True,svd_solver='auto')\n",
    "x_pca=pca.fit_transform(x1)"
   ]
  },
  {
   "cell_type": "code",
   "execution_count": 17,
   "id": "c43f9c1f",
   "metadata": {},
   "outputs": [
    {
     "data": {
      "text/plain": [
       "(5458, 5458)"
      ]
     },
     "execution_count": 17,
     "metadata": {},
     "output_type": "execute_result"
    }
   ],
   "source": [
    "x_pca.shape"
   ]
  },
  {
   "cell_type": "code",
   "execution_count": 19,
   "id": "1ad72b98",
   "metadata": {},
   "outputs": [],
   "source": [
    "eigen_ratio=pca.explained_variance_ratio_\n",
    "eigen_ratio_cum=np.cumsum(eigen_ratio)"
   ]
  },
  {
   "cell_type": "code",
   "execution_count": 21,
   "id": "aa987940",
   "metadata": {},
   "outputs": [
    {
     "data": {
      "text/plain": [
       "[<matplotlib.lines.Line2D at 0x2500306e220>]"
      ]
     },
     "execution_count": 21,
     "metadata": {},
     "output_type": "execute_result"
    },
    {
     "data": {
      "image/png": "[encoded data removed]",
      "text/plain": [
       "<Figure size 720x288 with 2 Axes>"
      ]
     },
     "metadata": {
      "needs_background": "light"
     },
     "output_type": "display_data"
    }
   ],
   "source": [
    "plt.figure(figsize=(10,4))\n",
    "plt.subplot(1,2,1)\n",
    "plt.plot(eigen_ratio[:200],'r>--')\n",
    "plt.xlabel('no. of components')\n",
    "plt.ylabel('Explanied Variance ratio')\n",
    "plt.subplot(1,2,2)\n",
    "plt.xlabel('no. of components')\n",
    "plt.ylabel('cumulative Explained variance ratio')\n",
    "plt.plot(eigen_ratio_cum[:200],'r>--')"
   ]
  },
  {
   "cell_type": "code",
   "execution_count": null,
   "id": "3706a8d3",
   "metadata": {},
   "outputs": [],
   "source": [
    "# From chart using elbow method we can see number of components 25,30 xaxis value.\n",
    "# explained variance is 75% yaxis. "
   ]
  },
  {
   "cell_type": "code",
   "execution_count": 22,
   "id": "10d922f4",
   "metadata": {},
   "outputs": [],
   "source": [
    "pca_50=PCA(n_components=50,whiten=True,svd_solver='auto')\n",
    "x_pca_50=pca_50.fit_transform(x1)"
   ]
  },
  {
   "cell_type": "code",
   "execution_count": 23,
   "id": "18f74cde",
   "metadata": {},
   "outputs": [
    {
     "data": {
      "text/plain": [
       "(5458, 50)"
      ]
     },
     "execution_count": 23,
     "metadata": {},
     "output_type": "execute_result"
    }
   ],
   "source": [
    "x_pca_50.shape"
   ]
  },
  {
   "cell_type": "code",
   "execution_count": 25,
   "id": "11f2be26",
   "metadata": {},
   "outputs": [],
   "source": [
    "#saving the result\n",
    "import pickle\n",
    "pickle.dump(pca_50,open('./output_crop/pca_50.pickle','wb'))"
   ]
  },
  {
   "cell_type": "code",
   "execution_count": null,
   "id": "8baf014f",
   "metadata": {},
   "outputs": [],
   "source": []
  }
 ],
 "metadata": {
  "kernelspec": {
   "display_name": "Python 3 (ipykernel)",
   "language": "python",
   "name": "python3"
  },
  "language_info": {
   "codemirror_mode": {
    "name": "ipython",
    "version": 3
   },
   "file_extension": ".py",
   "mimetype": "text/x-python",
   "name": "python",
   "nbconvert_exporter": "python",
   "pygments_lexer": "ipython3",
   "version": "3.9.7"
  }
 },
 "nbformat": 4,
 "nbformat_minor": 5
}
