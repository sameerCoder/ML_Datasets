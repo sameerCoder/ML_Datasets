{
  "cells": [
    {
      "cell_type": "markdown",
      "metadata": {
        "id": "9-vUtTzyzCsj"
      },
      "source": [
        "# Support vector regression\n"
      ]
    },
    {
      "cell_type": "code",
      "execution_count": null,
      "metadata": {
        "id": "wKYbx3y6zCsp"
      },
      "outputs": [],
      "source": [
        "import numpy as np\n",
        "import pandas as pd\n",
        "import matplotlib.pyplot as plt"
      ]
    },
    {
      "cell_type": "markdown",
      "metadata": {
        "id": "NQslXRxhzCss"
      },
      "source": [
        "### A simple nonlinear function\n",
        "The aim is to create some synthetic data which is not very amenable for linear regression models. We will show how a Support Vector regressor enhances the predictive performance."
      ]
    },
    {
      "cell_type": "code",
      "execution_count": null,
      "metadata": {
        "id": "W0V84I9jzCst"
      },
      "outputs": [],
      "source": [
        "def nonlinear(array):\n",
        "    return (10*array[:,0]-np.exp(0.01*array[:,1]+np.log(1+array[:,2]**2)))/(array[:,3]**2+5)"
      ]
    },
    {
      "cell_type": "markdown",
      "metadata": {
        "id": "-8WktQdZzCst"
      },
      "source": [
        "### Generate features and target data for regression"
      ]
    },
    {
      "cell_type": "code",
      "execution_count": null,
      "metadata": {
        "id": "hhtjQ0y9zCsu"
      },
      "outputs": [],
      "source": [
        "n_samples = 200\n",
        "n_features = 4"
      ]
    },
    {
      "cell_type": "code",
      "execution_count": null,
      "metadata": {
        "id": "xI6Ay48-zCsv"
      },
      "outputs": [],
      "source": [
        "x = 5*np.random.rand(n_samples,n_features)"
      ]
    },
    {
      "cell_type": "code",
      "execution_count": null,
      "metadata": {
        "id": "x9wy56x9zCsw"
      },
      "outputs": [],
      "source": [
        "y = nonlinear(x)+np.random.randn(n_samples)"
      ]
    },
    {
      "cell_type": "code",
      "execution_count": null,
      "metadata": {
        "id": "yDsAMXJqzCsx"
      },
      "outputs": [],
      "source": [
        "y=y.reshape(n_samples,1)"
      ]
    },
    {
      "cell_type": "code",
      "execution_count": null,
      "metadata": {
        "id": "hBKd7E9zzCsy"
      },
      "outputs": [],
      "source": [
        "df = pd.DataFrame(data=np.hstack((x,y)),columns=['X1','X2','X3','X4','y'])"
      ]
    },
    {
      "cell_type": "code",
      "execution_count": null,
      "metadata": {
        "colab": {
          "base_uri": "https://localhost:8080/",
          "height": 206
        },
        "id": "0HtM3bphzCsy",
        "outputId": "731bfee7-0ad9-46b2-8fc8-db00241cfd4f"
      },
      "outputs": [
        {
          "output_type": "execute_result",
          "data": {
            "text/plain": [
              "         X1        X2        X3        X4         y\n",
              "0  1.907224  1.328947  1.047234  2.527116  1.128095\n",
              "1  0.882490  0.826344  3.179604  0.623295 -0.370606\n",
              "2  2.453914  3.600630  2.036933  1.906195  1.272873\n",
              "3  0.874339  3.009759  1.052716  0.415990  2.343820\n",
              "4  4.427946  2.031486  3.634871  0.308979  6.650635"
            ],
            "text/html": [
              "\n",
              "  <div id=\"df-fd9affaa-1246-4b51-a882-464d882487b6\">\n",
              "    <div class=\"colab-df-container\">\n",
              "      <div>\n",
              "<style scoped>\n",
              "    .dataframe tbody tr th:only-of-type {\n",
              "        vertical-align: middle;\n",
              "    }\n",
              "\n",
              "    .dataframe tbody tr th {\n",
              "        vertical-align: top;\n",
              "    }\n",
              "\n",
              "    .dataframe thead th {\n",
              "        text-align: right;\n",
              "    }\n",
              "</style>\n",
              "<table border=\"1\" class=\"dataframe\">\n",
              "  <thead>\n",
              "    <tr style=\"text-align: right;\">\n",
              "      <th></th>\n",
              "      <th>X1</th>\n",
              "      <th>X2</th>\n",
              "      <th>X3</th>\n",
              "      <th>X4</th>\n",
              "      <th>y</th>\n",
              "    </tr>\n",
              "  </thead>\n",
              "  <tbody>\n",
              "    <tr>\n",
              "      <th>0</th>\n",
              "      <td>1.907224</td>\n",
              "      <td>1.328947</td>\n",
              "      <td>1.047234</td>\n",
              "      <td>2.527116</td>\n",
              "      <td>1.128095</td>\n",
              "    </tr>\n",
              "    <tr>\n",
              "      <th>1</th>\n",
              "      <td>0.882490</td>\n",
              "      <td>0.826344</td>\n",
              "      <td>3.179604</td>\n",
              "      <td>0.623295</td>\n",
              "      <td>-0.370606</td>\n",
              "    </tr>\n",
              "    <tr>\n",
              "      <th>2</th>\n",
              "      <td>2.453914</td>\n",
              "      <td>3.600630</td>\n",
              "      <td>2.036933</td>\n",
              "      <td>1.906195</td>\n",
              "      <td>1.272873</td>\n",
              "    </tr>\n",
              "    <tr>\n",
              "      <th>3</th>\n",
              "      <td>0.874339</td>\n",
              "      <td>3.009759</td>\n",
              "      <td>1.052716</td>\n",
              "      <td>0.415990</td>\n",
              "      <td>2.343820</td>\n",
              "    </tr>\n",
              "    <tr>\n",
              "      <th>4</th>\n",
              "      <td>4.427946</td>\n",
              "      <td>2.031486</td>\n",
              "      <td>3.634871</td>\n",
              "      <td>0.308979</td>\n",
              "      <td>6.650635</td>\n",
              "    </tr>\n",
              "  </tbody>\n",
              "</table>\n",
              "</div>\n",
              "      <button class=\"colab-df-convert\" onclick=\"convertToInteractive('df-fd9affaa-1246-4b51-a882-464d882487b6')\"\n",
              "              title=\"Convert this dataframe to an interactive table.\"\n",
              "              style=\"display:none;\">\n",
              "        \n",
              "  <svg xmlns=\"http://www.w3.org/2000/svg\" height=\"24px\"viewBox=\"0 0 24 24\"\n",
              "       width=\"24px\">\n",
              "    <path d=\"M0 0h24v24H0V0z\" fill=\"none\"/>\n",
              "    <path d=\"M18.56 5.44l.94 2.06.94-2.06 2.06-.94-2.06-.94-.94-2.06-.94 2.06-2.06.94zm-11 1L8.5 8.5l.94-2.06 2.06-.94-2.06-.94L8.5 2.5l-.94 2.06-2.06.94zm10 10l.94 2.06.94-2.06 2.06-.94-2.06-.94-.94-2.06-.94 2.06-2.06.94z\"/><path d=\"M17.41 7.96l-1.37-1.37c-.4-.4-.92-.59-1.43-.59-.52 0-1.04.2-1.43.59L10.3 9.45l-7.72 7.72c-.78.78-.78 2.05 0 2.83L4 21.41c.39.39.9.59 1.41.59.51 0 1.02-.2 1.41-.59l7.78-7.78 2.81-2.81c.8-.78.8-2.07 0-2.86zM5.41 20L4 18.59l7.72-7.72 1.47 1.35L5.41 20z\"/>\n",
              "  </svg>\n",
              "      </button>\n",
              "      \n",
              "  <style>\n",
              "    .colab-df-container {\n",
              "      display:flex;\n",
              "      flex-wrap:wrap;\n",
              "      gap: 12px;\n",
              "    }\n",
              "\n",
              "    .colab-df-convert {\n",
              "      background-color: #E8F0FE;\n",
              "      border: none;\n",
              "      border-radius: 50%;\n",
              "      cursor: pointer;\n",
              "      display: none;\n",
              "      fill: #1967D2;\n",
              "      height: 32px;\n",
              "      padding: 0 0 0 0;\n",
              "      width: 32px;\n",
              "    }\n",
              "\n",
              "    .colab-df-convert:hover {\n",
              "      background-color: #E2EBFA;\n",
              "      box-shadow: 0px 1px 2px rgba(60, 64, 67, 0.3), 0px 1px 3px 1px rgba(60, 64, 67, 0.15);\n",
              "      fill: #174EA6;\n",
              "    }\n",
              "\n",
              "    [theme=dark] .colab-df-convert {\n",
              "      background-color: #3B4455;\n",
              "      fill: #D2E3FC;\n",
              "    }\n",
              "\n",
              "    [theme=dark] .colab-df-convert:hover {\n",
              "      background-color: #434B5C;\n",
              "      box-shadow: 0px 1px 3px 1px rgba(0, 0, 0, 0.15);\n",
              "      filter: drop-shadow(0px 1px 2px rgba(0, 0, 0, 0.3));\n",
              "      fill: #FFFFFF;\n",
              "    }\n",
              "  </style>\n",
              "\n",
              "      <script>\n",
              "        const buttonEl =\n",
              "          document.querySelector('#df-fd9affaa-1246-4b51-a882-464d882487b6 button.colab-df-convert');\n",
              "        buttonEl.style.display =\n",
              "          google.colab.kernel.accessAllowed ? 'block' : 'none';\n",
              "\n",
              "        async function convertToInteractive(key) {\n",
              "          const element = document.querySelector('#df-fd9affaa-1246-4b51-a882-464d882487b6');\n",
              "          const dataTable =\n",
              "            await google.colab.kernel.invokeFunction('convertToInteractive',\n",
              "                                                     [key], {});\n",
              "          if (!dataTable) return;\n",
              "\n",
              "          const docLinkHtml = 'Like what you see? Visit the ' +\n",
              "            '<a target=\"_blank\" href=https://colab.research.google.com/notebooks/data_table.ipynb>data table notebook</a>'\n",
              "            + ' to learn more about interactive tables.';\n",
              "          element.innerHTML = '';\n",
              "          dataTable['output_type'] = 'display_data';\n",
              "          await google.colab.output.renderOutput(dataTable, element);\n",
              "          const docLink = document.createElement('div');\n",
              "          docLink.innerHTML = docLinkHtml;\n",
              "          element.appendChild(docLink);\n",
              "        }\n",
              "      </script>\n",
              "    </div>\n",
              "  </div>\n",
              "  "
            ]
          },
          "metadata": {},
          "execution_count": 8
        }
      ],
      "source": [
        "df.head()"
      ]
    },
    {
      "cell_type": "markdown",
      "metadata": {
        "id": "eVQBxcjFzCs0"
      },
      "source": [
        "### Plotting the data"
      ]
    },
    {
      "cell_type": "code",
      "execution_count": null,
      "metadata": {
        "colab": {
          "base_uri": "https://localhost:8080/",
          "height": 500
        },
        "id": "nEAngFydzCs1",
        "outputId": "c1bfe7a2-7403-42e9-b3e1-145018b1bfbc"
      },
      "outputs": [
        {
          "output_type": "display_data",
          "data": {
            "text/plain": [
              "<Figure size 720x576 with 4 Axes>"
            ],
            "image/png": "[encoded data removed]"
          },
          "metadata": {
            "needs_background": "light"
          }
        }
      ],
      "source": [
        "fig,ax = plt.subplots(2,2,figsize=(10,8))\n",
        "ax = ax.ravel()\n",
        "for i in range(4):\n",
        "    ax[i].scatter(df[df.columns[i]],df['y'],edgecolor='k',color='red',alpha=0.75)\n",
        "    ax[i].set_title(f\"{df.columns[i]} vs. y\",fontsize=14)\n",
        "    ax[i].grid(True)\n",
        "plt.show()"
      ]
    },
    {
      "cell_type": "markdown",
      "metadata": {
        "id": "PP2QL9QXzCs2"
      },
      "source": [
        "### Test/train split"
      ]
    },
    {
      "cell_type": "code",
      "execution_count": null,
      "metadata": {
        "id": "-eSEHbFezCs2"
      },
      "outputs": [],
      "source": [
        "X = df[['X1','X2','X3','X4']]\n",
        "y = df['y']"
      ]
    },
    {
      "cell_type": "code",
      "execution_count": null,
      "metadata": {
        "id": "AH03V-bCzCs3"
      },
      "outputs": [],
      "source": [
        "from sklearn.model_selection import train_test_split"
      ]
    },
    {
      "cell_type": "code",
      "execution_count": null,
      "metadata": {
        "id": "eLvzkUq7zCs3"
      },
      "outputs": [],
      "source": [
        "X_train, X_test, y_train, y_test = train_test_split(X, y, test_size=0.33, random_state=42)"
      ]
    },
    {
      "cell_type": "code",
      "source": [
        "# IMportant of Random State fixed(random_state=42):\n",
        "#1- You will select random row order data.\n",
        "# Give same Random value every time."
      ],
      "metadata": {
        "id": "nO4ITjcuot-t"
      },
      "execution_count": 1,
      "outputs": []
    },
    {
      "cell_type": "markdown",
      "metadata": {
        "id": "RbPEAWi0zCs4"
      },
      "source": [
        "### Support vector regressor with linear kernel\n",
        "\n",
        "Here is scikit-learn's SVR doc: https://scikit-learn.org/stable/modules/generated/sklearn.svm.SVR.html"
      ]
    },
    {
      "cell_type": "code",
      "execution_count": null,
      "metadata": {
        "colab": {
          "base_uri": "https://localhost:8080/"
        },
        "id": "qZjITiexzCs4",
        "outputId": "ae955075-5cfc-418c-b9c1-e024da39693c"
      },
      "outputs": [
        {
          "output_type": "execute_result",
          "data": {
            "text/plain": [
              "SVR(kernel='linear')"
            ]
          },
          "metadata": {},
          "execution_count": 13
        }
      ],
      "source": [
        "from sklearn.svm import SVR\n",
        "svr_linear = SVR(kernel='linear',gamma='scale', C=1.0, epsilon=0.1)\n",
        "svr_linear.fit(X_train, y_train) "
      ]
    },
    {
      "cell_type": "markdown",
      "metadata": {
        "id": "g4oXtACGzCs5"
      },
      "source": [
        "### Test score"
      ]
    },
    {
      "cell_type": "code",
      "execution_count": null,
      "metadata": {
        "colab": {
          "base_uri": "https://localhost:8080/"
        },
        "id": "CHIT-zDNzCs6",
        "outputId": "bae0e452-c158-4529-c3fe-ba1b3f99e013"
      },
      "outputs": [
        {
          "output_type": "execute_result",
          "data": {
            "text/plain": [
              "0.6956708387854955"
            ]
          },
          "metadata": {},
          "execution_count": 14
        }
      ],
      "source": [
        "svr_linear.score(X_test,y_test)"
      ]
    },
    {
      "cell_type": "markdown",
      "metadata": {
        "id": "UY7MJcpdzCs6"
      },
      "source": [
        "### Linear regression as a baseline"
      ]
    },
    {
      "cell_type": "code",
      "execution_count": null,
      "metadata": {
        "id": "nj-sQclFzCs6"
      },
      "outputs": [],
      "source": [
        "from sklearn.linear_model import LinearRegression"
      ]
    },
    {
      "cell_type": "code",
      "execution_count": null,
      "metadata": {
        "id": "68CANM7szCs7"
      },
      "outputs": [],
      "source": [
        "linear = LinearRegression()"
      ]
    },
    {
      "cell_type": "code",
      "execution_count": null,
      "metadata": {
        "colab": {
          "base_uri": "https://localhost:8080/"
        },
        "id": "aMmm3IXCzCs8",
        "outputId": "262cabfe-8691-4e79-c9d4-4f77058c3d7c"
      },
      "outputs": [
        {
          "output_type": "execute_result",
          "data": {
            "text/plain": [
              "LinearRegression()"
            ]
          },
          "metadata": {},
          "execution_count": 17
        }
      ],
      "source": [
        "linear.fit(X_train,y_train)"
      ]
    },
    {
      "cell_type": "code",
      "execution_count": null,
      "metadata": {
        "colab": {
          "base_uri": "https://localhost:8080/"
        },
        "id": "Ic63H_JJzCs8",
        "outputId": "4327a29e-3e6b-450a-8b21-96fb47bc63f7"
      },
      "outputs": [
        {
          "output_type": "execute_result",
          "data": {
            "text/plain": [
              "0.6911519814092009"
            ]
          },
          "metadata": {},
          "execution_count": 18
        }
      ],
      "source": [
        "linear.score(X_test,y_test)"
      ]
    },
    {
      "cell_type": "markdown",
      "metadata": {
        "id": "Bp3Se90jzCs8"
      },
      "source": [
        "### Support vector regressor with Gaussian (radial basis function) kernel"
      ]
    },
    {
      "cell_type": "code",
      "execution_count": null,
      "metadata": {
        "colab": {
          "base_uri": "https://localhost:8080/"
        },
        "id": "OYTHd4JfzCs8",
        "outputId": "5a7138bf-a047-4812-ae7c-e31e47d2ca16"
      },
      "outputs": [
        {
          "output_type": "execute_result",
          "data": {
            "text/plain": [
              "SVR()"
            ]
          },
          "metadata": {},
          "execution_count": 19
        }
      ],
      "source": [
        "svr_rbf = SVR(kernel='rbf',gamma='scale', C=1.0, epsilon=0.1)\n",
        "svr_rbf.fit(X_train, y_train) "
      ]
    },
    {
      "cell_type": "code",
      "execution_count": null,
      "metadata": {
        "colab": {
          "base_uri": "https://localhost:8080/"
        },
        "id": "jqV7VSt8zCs9",
        "outputId": "d40f841a-1a8e-4e35-cf1d-6cb74014fcad"
      },
      "outputs": [
        {
          "output_type": "execute_result",
          "data": {
            "text/plain": [
              "0.7036282692764892"
            ]
          },
          "metadata": {},
          "execution_count": 20
        }
      ],
      "source": [
        "svr_rbf.score(X_test,y_test)"
      ]
    },
    {
      "cell_type": "markdown",
      "metadata": {
        "id": "Jn9Rc6GGzCs9"
      },
      "source": [
        "So, clearly, the RBF kernel showed better accuracy on the test set"
      ]
    },
    {
      "cell_type": "code",
      "execution_count": null,
      "metadata": {
        "id": "33qHN-iuzCs9"
      },
      "outputs": [],
      "source": [
        "from sklearn.metrics import mean_squared_error"
      ]
    },
    {
      "cell_type": "code",
      "execution_count": null,
      "metadata": {
        "colab": {
          "base_uri": "https://localhost:8080/"
        },
        "id": "pEG2zlJtzCs9",
        "outputId": "40159f3f-358c-480d-8fcd-d6c94c24476b"
      },
      "outputs": [
        {
          "output_type": "stream",
          "name": "stdout",
          "text": [
            "RMSE for linear SVR: 1.203030574254529\n",
            "RMSE for RBF kernelized SVR: 1.1871983065494902\n"
          ]
        }
      ],
      "source": [
        "print(\"RMSE for linear SVR:\",np.sqrt(mean_squared_error(y_test,svr_linear.predict(X_test))))\n",
        "print(\"RMSE for RBF kernelized SVR:\",np.sqrt(mean_squared_error(y_test,svr_rbf.predict(X_test))))"
      ]
    }
  ],
  "metadata": {
    "kernelspec": {
      "display_name": "Python 3",
      "language": "python",
      "name": "python3"
    },
    "language_info": {
      "codemirror_mode": {
        "name": "ipython",
        "version": 3
      },
      "file_extension": ".py",
      "mimetype": "text/x-python",
      "name": "python",
      "nbconvert_exporter": "python",
      "pygments_lexer": "ipython3",
      "version": "3.7.0"
    },
    "colab": {
      "name": "Support vector regression_01.ipynb.txt",
      "provenance": []
    }
  },
  "nbformat": 4,
  "nbformat_minor": 0
}