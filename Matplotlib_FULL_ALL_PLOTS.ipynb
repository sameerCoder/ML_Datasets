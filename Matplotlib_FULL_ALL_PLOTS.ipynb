{
  "cells": [
    {
      "cell_type": "code",
      "execution_count": null,
      "metadata": {
        "colab": {
          "base_uri": "https://localhost:8080/",
          "height": 87
        },
        "id": "fekLecL6Qkkq",
        "outputId": "40d96d92-b878-4b71-b4f6-e2c2915e0330"
      },
      "outputs": [
        {
          "data": {
            "application/vnd.google.colaboratory.intrinsic+json": {
              "type": "string"
            },
            "text/plain": [
              "'\\nMatplotlib is a library in Python and it is numerical – mathematical extension for NumPy library. \\nPyplot is a state-based interface to a Matplotlib module which provides a MATLAB-like interface. \\nThere are various plots which can be used in Pyplot are Line Plot, Contour, Histogram, Scatter, 3D Plot, etc.\\n\\nMatplotlib is probably the most used Python package for 2D-graphics.\\nIt provides both a quick way to visualize data from Python and publication-quality figures in many formats. '"
            ]
          },
          "execution_count": 1,
          "metadata": {},
          "output_type": "execute_result"
        }
      ],
      "source": [
        "'''\n",
        "Matplotlib is a library in Python and it is numerical – mathematical extension for NumPy library. \n",
        "Pyplot is a state-based interface to a Matplotlib module which provides a MATLAB-like interface. \n",
        "There are various plots which can be used in Pyplot are Line Plot, Contour, Histogram, Scatter, 3D Plot, etc.\n",
        "\n",
        "Matplotlib is probably the most used Python package for 2D-graphics.\n",
        "It provides both a quick way to visualize data from Python and publication-quality figures in many formats. '''"
      ]
    },
    {
      "cell_type": "code",
      "execution_count": null,
      "metadata": {
        "colab": {
          "base_uri": "https://localhost:8080/",
          "height": 131
        },
        "id": "PxsF9EW1RbGt",
        "outputId": "35ad638d-3234-4fb8-ceab-4f051ccb7413"
      },
      "outputs": [
        {
          "ename": "SyntaxError",
          "evalue": "ignored",
          "output_type": "error",
          "traceback": [
            "\u001b[0;36m  File \u001b[0;32m\"<ipython-input-2-1d3e0d307950>\"\u001b[0;36m, line \u001b[0;32m1\u001b[0m\n\u001b[0;31m    When using the IPython console, use:\u001b[0m\n\u001b[0m             ^\u001b[0m\n\u001b[0;31mSyntaxError\u001b[0m\u001b[0;31m:\u001b[0m invalid syntax\n"
          ]
        }
      ],
      "source": [
        "When using the IPython console, use:\n",
        "\n",
        "In [1]: %matplotlib\n",
        "In the notebook, insert, at the beginning of the notebook the following magic:\n",
        "\n",
        "%matplotlib inline"
      ]
    },
    {
      "cell_type": "code",
      "execution_count": null,
      "metadata": {
        "colab": {
          "base_uri": "https://localhost:8080/",
          "height": 300
        },
        "id": "qH6FtcaXRnB5",
        "outputId": "7a8ccddd-efc0-4bf6-856e-4dc86b4177fe"
      },
      "outputs": [
        {
          "name": "stdout",
          "output_type": "stream",
          "text": [
            "x: [0, 1, 2, 3, 4]\n",
            "y: [10, 12, 14, 16, 18]\n"
          ]
        },
        {
          "data": {
            "image/png": "[encoded data removed]",
            "text/plain": [
              "<Figure size 432x288 with 1 Axes>"
            ]
          },
          "metadata": {},
          "output_type": "display_data"
        }
      ],
      "source": [
        "import matplotlib.pyplot as plt\n",
        "x=[i for i in range(5)]\n",
        "y=[i for i in range(10,20,2)]\n",
        "print(\"x:\",x)\n",
        "print(\"y:\",y)\n",
        "plt.plot(x,y)\n",
        "plt.show()"
      ]
    },
    {
      "cell_type": "code",
      "execution_count": null,
      "metadata": {
        "colab": {
          "base_uri": "https://localhost:8080/",
          "height": 300
        },
        "id": "tMjAtFAvRrNs",
        "outputId": "cd036e38-f155-4229-fcb5-6b043175a1e1"
      },
      "outputs": [
        {
          "name": "stdout",
          "output_type": "stream",
          "text": [
            "x: [0, 1, 2, 3, 4]\n",
            "y: [10, 12, 14, 16, 18]\n"
          ]
        },
        {
          "data": {
            "image/png": "[encoded data removed]",
            "text/plain": [
              "<Figure size 432x288 with 1 Axes>"
            ]
          },
          "metadata": {},
          "output_type": "display_data"
        }
      ],
      "source": [
        "import matplotlib.pyplot as plt\n",
        "x=[i for i in range(5)]\n",
        "y=[i for i in range(10,20,2)]\n",
        "print(\"x:\",x)\n",
        "print(\"y:\",y)\n",
        "plt.scatter(x,y)\n",
        "plt.show()"
      ]
    },
    {
      "cell_type": "code",
      "execution_count": null,
      "metadata": {
        "colab": {
          "base_uri": "https://localhost:8080/",
          "height": 300
        },
        "id": "csuNoo5gSFf4",
        "outputId": "0fb4f2bb-b85c-4b99-ee89-e3d3e76ecc8b"
      },
      "outputs": [
        {
          "name": "stdout",
          "output_type": "stream",
          "text": [
            "x: [0, 1, 2, 3, 4]\n",
            "y: [10, 12, 14, 16, 18]\n"
          ]
        },
        {
          "data": {
            "image/png": "[encoded data removed]",
            "text/plain": [
              "<Figure size 432x288 with 1 Axes>"
            ]
          },
          "metadata": {},
          "output_type": "display_data"
        }
      ],
      "source": [
        "import matplotlib.pyplot as plt\n",
        "x=[i for i in range(5)]\n",
        "y=[i for i in range(10,20,2)]\n",
        "print(\"x:\",x)\n",
        "print(\"y:\",y)\n",
        "plt.bar(x,y)\n",
        "plt.show()"
      ]
    },
    {
      "cell_type": "code",
      "execution_count": null,
      "metadata": {
        "colab": {
          "base_uri": "https://localhost:8080/",
          "height": 300
        },
        "id": "dK0NG8xRSIJY",
        "outputId": "ee14df9a-073e-4818-d4b9-0c8cab0c5f3d"
      },
      "outputs": [
        {
          "name": "stdout",
          "output_type": "stream",
          "text": [
            "x: [0, 1, 2, 3, 4]\n",
            "y: [10, 12, 14, 16, 18]\n"
          ]
        },
        {
          "data": {
            "image/png": "[encoded data removed]",
            "text/plain": [
              "<Figure size 432x288 with 1 Axes>"
            ]
          },
          "metadata": {},
          "output_type": "display_data"
        }
      ],
      "source": [
        "import matplotlib.pyplot as plt\n",
        "x1=[i for i in range(5)]\n",
        "y=[i for i in range(10,20,2)]\n",
        "x2=[i for i in range(5,10)]\n",
        "print(\"x:\",x)\n",
        "print(\"y:\",y)\n",
        "plt.plot(x1,y)\n",
        "plt.plot(x2,y)\n",
        "plt.show()"
      ]
    },
    {
      "cell_type": "code",
      "execution_count": null,
      "metadata": {
        "colab": {
          "base_uri": "https://localhost:8080/",
          "height": 300
        },
        "id": "2werTbW6SY42",
        "outputId": "7bc6ac94-68c8-46a7-9fb8-825637252e18"
      },
      "outputs": [
        {
          "name": "stdout",
          "output_type": "stream",
          "text": [
            "x: [0, 1, 2, 3, 4]\n",
            "y: [10, 12, 14, 16, 18]\n"
          ]
        },
        {
          "data": {
            "image/png": "[encoded data removed]",
            "text/plain": [
              "<Figure size 432x288 with 1 Axes>"
            ]
          },
          "metadata": {},
          "output_type": "display_data"
        }
      ],
      "source": [
        "import matplotlib.pyplot as plt\n",
        "x1=[i for i in range(5)]\n",
        "y=[i for i in range(10,20,2)]\n",
        "x2=[i for i in range(5,10)]\n",
        "print(\"x:\",x)\n",
        "print(\"y:\",y)\n",
        "plt.plot(x1,y,color='red')\n",
        "plt.plot(x2,y,color='yellow')\n",
        "plt.show()"
      ]
    },
    {
      "cell_type": "code",
      "execution_count": 40,
      "metadata": {
        "id": "2HeUAcUJSdpu",
        "colab": {
          "base_uri": "https://localhost:8080/",
          "height": 300
        },
        "outputId": "d64fff91-1316-4186-c200-ac1b2eda0c35"
      },
      "outputs": [
        {
          "output_type": "stream",
          "name": "stdout",
          "text": [
            "x: [0, 1, 2, 3, 4]\n",
            "y: [10, 12, 14, 16, 18]\n"
          ]
        },
        {
          "output_type": "display_data",
          "data": {
            "image/png": "[encoded data removed]",
            "text/plain": [
              "<Figure size 432x288 with 1 Axes>"
            ]
          },
          "metadata": {
            "needs_background": "light"
          }
        }
      ],
      "source": [
        "import matplotlib.pyplot as plt\n",
        "x1=[i for i in range(5)]\n",
        "y=[i for i in range(10,20,2)]\n",
        "x2=[i for i in range(5,10)]\n",
        "print(\"x:\",x1)\n",
        "print(\"y:\",y)\n",
        "plt.plot(x1,y,color='red')\n",
        "plt.plot(x2,y,color='yellow')\n",
        "plt.xlim(min(x1),max(x1))\n",
        "#only x1 data is visulize as we are limiting xlim\n",
        "#plt.ylim()\n",
        "plt.show()"
      ]
    },
    {
      "cell_type": "code",
      "execution_count": 41,
      "metadata": {
        "id": "sAEBtzdUA4uk",
        "colab": {
          "base_uri": "https://localhost:8080/",
          "height": 300
        },
        "outputId": "ae7eb4bb-381b-4a8f-b380-9d878ec8a5c3"
      },
      "outputs": [
        {
          "output_type": "stream",
          "name": "stdout",
          "text": [
            "x: [0, 1, 2, 3, 4]\n",
            "y: [10, 12, 14, 16, 18]\n"
          ]
        },
        {
          "output_type": "display_data",
          "data": {
            "image/png": "[encoded data removed]",
            "text/plain": [
              "<Figure size 432x288 with 1 Axes>"
            ]
          },
          "metadata": {
            "needs_background": "light"
          }
        }
      ],
      "source": [
        "import matplotlib.pyplot as plt\n",
        "x1=[i for i in range(5)]\n",
        "y=[i for i in range(10,20,2)]\n",
        "x2=[i for i in range(5,10)]\n",
        "print(\"x:\",x1)\n",
        "print(\"y:\",y)\n",
        "plt.plot(x1,y,color='red')\n",
        "plt.plot(x2,y,color='yellow')\n",
        "plt.xticks([i for i in range(10)])\n",
        "#plt.yticks([])\n",
        "plt.xlim(min(x1),10)\n",
        "#only x1 data is visulize as we are limiting xlim\n",
        "#plt.ylim()\n",
        "plt.show()"
      ]
    },
    {
      "cell_type": "code",
      "execution_count": 42,
      "metadata": {
        "id": "WcBrAJF0C3d1",
        "colab": {
          "base_uri": "https://localhost:8080/",
          "height": 314
        },
        "outputId": "3962d507-5b78-467a-9fc7-49286051431f"
      },
      "outputs": [
        {
          "output_type": "stream",
          "name": "stdout",
          "text": [
            "x: [0, 1, 2, 3, 4]\n",
            "y: [10, 12, 14, 16, 18]\n"
          ]
        },
        {
          "output_type": "display_data",
          "data": {
            "image/png": "[encoded data removed]",
            "text/plain": [
              "<Figure size 432x288 with 1 Axes>"
            ]
          },
          "metadata": {
            "needs_background": "light"
          }
        }
      ],
      "source": [
        "#ADD XLABEL\n",
        "import matplotlib.pyplot as plt\n",
        "x1=[i for i in range(5)]\n",
        "y=[i for i in range(10,20,2)]\n",
        "x2=[i for i in range(5,10)]\n",
        "print(\"x:\",x1)\n",
        "print(\"y:\",y)\n",
        "plt.plot(x1,y,color='red')\n",
        "plt.plot(x2,y,color='yellow')\n",
        "plt.xticks([i for i in range(10)])\n",
        "plt.xlabel(\"X VALUES HERE\",COLOR='BLUE')\n",
        "#plt.yticks([])\n",
        "plt.xlim(min(x1),10)\n",
        "#only x1 data is visulize as we are limiting xlim\n",
        "#plt.ylim()\n",
        "plt.show()"
      ]
    },
    {
      "cell_type": "code",
      "execution_count": 43,
      "metadata": {
        "id": "M5-2KQNbD30f",
        "colab": {
          "base_uri": "https://localhost:8080/",
          "height": 314
        },
        "outputId": "95409bcb-38fd-4ed2-9023-68774d537f75"
      },
      "outputs": [
        {
          "output_type": "stream",
          "name": "stdout",
          "text": [
            "x: [0, 1, 2, 3, 4]\n",
            "y: [10, 12, 14, 16, 18]\n"
          ]
        },
        {
          "output_type": "display_data",
          "data": {
            "image/png": "[encoded data removed]",
            "text/plain": [
              "<Figure size 432x288 with 1 Axes>"
            ]
          },
          "metadata": {
            "needs_background": "light"
          }
        }
      ],
      "source": [
        "# ADD LEGEND\n",
        "import matplotlib.pyplot as plt\n",
        "x1=[i for i in range(5)]\n",
        "y=[i for i in range(10,20,2)]\n",
        "x2=[i for i in range(5,10)]\n",
        "print(\"x:\",x1)\n",
        "print(\"y:\",y)\n",
        "plt.plot(x1,y,color='red',label='First x axis values.')\n",
        "plt.plot(x2,y,color='yellow',label='Second x axis values.')\n",
        "plt.xticks([i for i in range(10)])\n",
        "plt.xlabel(\"X VALUES HERE\",COLOR='BLUE')\n",
        "#plt.yticks([])\n",
        "plt.xlim(min(x1),10)\n",
        "#only x1 data is visulize as we are limiting xlim\n",
        "#plt.ylim()\n",
        "plt.legend(loc='upper center')\n",
        "plt.show()"
      ]
    },
    {
      "cell_type": "code",
      "execution_count": 44,
      "metadata": {
        "id": "jt0odL5nIEsb",
        "colab": {
          "base_uri": "https://localhost:8080/",
          "height": 314
        },
        "outputId": "84c61cec-7a06-4d8b-a85e-bec9e4b7e21a"
      },
      "outputs": [
        {
          "output_type": "stream",
          "name": "stdout",
          "text": [
            "x: [0, 1, 2, 3, 4]\n",
            "y: [10, 12, 14, 16, 18]\n"
          ]
        },
        {
          "output_type": "display_data",
          "data": {
            "image/png": "[encoded data removed]",
            "text/plain": [
              "<Figure size 432x288 with 1 Axes>"
            ]
          },
          "metadata": {
            "needs_background": "light"
          }
        }
      ],
      "source": [
        "import matplotlib.pyplot as plt\n",
        "x1=[i for i in range(5)]\n",
        "y=[i for i in range(10,20,2)]\n",
        "x2=[i for i in range(5,10)]\n",
        "print(\"x:\",x1)\n",
        "print(\"y:\",y)\n",
        "plt.plot(x1,y,color='red',label='First x axis values.')\n",
        "plt.plot(x2,y,color='yellow',label='Second x axis values.')\n",
        "plt.xticks([i for i in range(10)])\n",
        "plt.xlabel(\"X VALUES HERE\",COLOR='BLUE')\n",
        "#plt.yticks([])\n",
        "plt.xlim(min(x1),10)\n",
        "#only x1 data is visulize as we are limiting xlim\n",
        "#plt.ylim()\n",
        "plt.legend(loc='upper center')\n",
        "plt.annotate('HIgh Sales point xy=(8,15)',xy=(8,15))\n",
        "plt.show()"
      ]
    },
    {
      "cell_type": "code",
      "execution_count": null,
      "metadata": {
        "colab": {
          "base_uri": "https://localhost:8080/",
          "height": 131
        },
        "id": "t1KG0-nJIWl_",
        "outputId": "3dff2554-a1e0-455a-d216-fd9d32e6b18a"
      },
      "outputs": [
        {
          "ename": "SyntaxError",
          "evalue": "ignored",
          "output_type": "error",
          "traceback": [
            "\u001b[0;36m  File \u001b[0;32m\"<ipython-input-13-7aaae5eebab9>\"\u001b[0;36m, line \u001b[0;32m1\u001b[0m\n\u001b[0;31m    A “figure” in matplotlib means the whole window in the user interface.\u001b[0m\n\u001b[0m             ^\u001b[0m\n\u001b[0;31mSyntaxError\u001b[0m\u001b[0;31m:\u001b[0m invalid character in identifier\n"
          ]
        }
      ],
      "source": [
        "A “figure” in matplotlib means the whole window in the user interface. \n",
        "Within this figure there can be “subplots”.\n",
        "\n",
        "So far we have used implicit figure and axes creation. \n",
        "This is handy for fast plots. We can have more control over the display using figure, subplot, and \n",
        "axes explicitly. While subplot positions the plots in a regular grid, axes allows free placement within \n",
        "the figure. Both can be useful depending on your intention."
      ]
    },
    {
      "cell_type": "code",
      "execution_count": null,
      "metadata": {
        "id": "5ZprSjijNlRa"
      },
      "outputs": [],
      "source": [
        "#closing of plot\n",
        "When you work with the GUI you can close a figure by clicking on the x in the upper right corner.\n",
        "But you can close a figure programmatically by calling close. Depending on the argument it \n",
        "\n",
        "closes (1) the current figure (no argument), \n",
        "(2) a specific figure (figure number or figure instance as argument), or \n",
        "(3) all figures (\"all\" as argument).\n",
        "\n",
        "plt.close(1)     # Closes figure 1"
      ]
    },
    {
      "cell_type": "code",
      "execution_count": null,
      "metadata": {
        "id": "RVcJkkq4N5-f"
      },
      "outputs": [],
      "source": [
        "#subplots\n",
        "Subplots\n",
        "With subplot you can arrange plots in a regular grid. You need to specify the number of rows \n",
        "and columns and the number of the plot. Note that the gridspec command is a more powerful alternative."
      ]
    },
    {
      "cell_type": "code",
      "execution_count": null,
      "metadata": {
        "id": "rGdgVI5HOpdR"
      },
      "outputs": [],
      "source": [
        "#https://drive.google.com/file/d/1e-j2hW3vwDZb7g8iO-y5v-APxZ1eAKXa/view?usp=sharing"
      ]
    },
    {
      "cell_type": "markdown",
      "metadata": {
        "id": "z3-Lr7siO0ek"
      },
      "source": [
        "![picture](https://drive.google.com/uc?export=view&id=1e-j2hW3vwDZb7g8iO-y5v-APxZ1eAKXa)"
      ]
    },
    {
      "cell_type": "code",
      "execution_count": null,
      "metadata": {
        "colab": {
          "base_uri": "https://localhost:8080/",
          "height": 131
        },
        "id": "WTznP-CWO5Lu",
        "outputId": "dbf298bb-eb60-498f-ed22-67518c7a5152"
      },
      "outputs": [
        {
          "ename": "SyntaxError",
          "evalue": "ignored",
          "output_type": "error",
          "traceback": [
            "\u001b[0;36m  File \u001b[0;32m\"<ipython-input-14-b55dfef10e61>\"\u001b[0;36m, line \u001b[0;32m2\u001b[0m\n\u001b[0;31m    Axes are very similar to subplots but allow placement of plots at any location in the figure.\u001b[0m\n\u001b[0m           ^\u001b[0m\n\u001b[0;31mSyntaxError\u001b[0m\u001b[0;31m:\u001b[0m invalid syntax\n"
          ]
        }
      ],
      "source": [
        "#Axes\n",
        "Axes are very similar to subplots but allow placement of plots at any location in the figure. \n",
        "So if we want to put a smaller plot inside a bigger one we do so with axes.\n",
        "#https://drive.google.com/file/d/1x_9IoomMbzn7-OsmTM3crw04xGiZz-mY/view?usp=sharing"
      ]
    },
    {
      "cell_type": "markdown",
      "metadata": {
        "id": "pXGa9aauPtCR"
      },
      "source": [
        "![picture](https://drive.google.com/uc?export=view&id=1x_9IoomMbzn7-OsmTM3crw04xGiZz-mY)"
      ]
    },
    {
      "cell_type": "code",
      "execution_count": 45,
      "metadata": {
        "id": "cJY-DnUSPz-Z",
        "colab": {
          "base_uri": "https://localhost:8080/",
          "height": 282
        },
        "outputId": "6e6dfc8c-b97a-4efc-ed30-1eb4fb14ec37"
      },
      "outputs": [
        {
          "output_type": "execute_result",
          "data": {
            "text/plain": [
              "(-1.25, 1.25)"
            ]
          },
          "metadata": {},
          "execution_count": 45
        },
        {
          "output_type": "display_data",
          "data": {
            "image/png": "[encoded data removed]",
            "text/plain": [
              "<Figure size 432x288 with 1 Axes>"
            ]
          },
          "metadata": {
            "needs_background": "light"
          }
        }
      ],
      "source": [
        "#bar plot\n",
        "import numpy as np\n",
        "\n",
        "n = 12\n",
        "X = np.arange(n)\n",
        "Y1 = (1 - X / float(n)) * np.random.uniform(0.5, 1.0, n)\n",
        "Y2 = (1 - X / float(n)) * np.random.uniform(0.5, 1.0, n)\n",
        "\n",
        "plt.bar(X, +Y1, facecolor='#9999ff', edgecolor='white')\n",
        "plt.bar(X, -Y2, facecolor='#ff9999', edgecolor='white')\n",
        "\n",
        "for x, y in zip(X, Y1):\n",
        "    plt.text(x + 0.4, y + 0.05, '%.2f' % y, ha='center', va='bottom')\n",
        "\n",
        "plt.ylim(-1.25, +1.25)"
      ]
    },
    {
      "cell_type": "code",
      "execution_count": 49,
      "metadata": {
        "id": "Pkb2ur0zRV1A",
        "colab": {
          "base_uri": "https://localhost:8080/",
          "height": 1000
        },
        "outputId": "e8584ad5-421a-444f-bdd7-45cfc5b244c4"
      },
      "outputs": [
        {
          "output_type": "stream",
          "name": "stdout",
          "text": [
            "[-3.         -2.97647059 -2.95294118 -2.92941176 -2.90588235 -2.88235294\n",
            " -2.85882353 -2.83529412 -2.81176471 -2.78823529 -2.76470588 -2.74117647\n",
            " -2.71764706 -2.69411765 -2.67058824 -2.64705882 -2.62352941 -2.6\n",
            " -2.57647059 -2.55294118 -2.52941176 -2.50588235 -2.48235294 -2.45882353\n",
            " -2.43529412 -2.41176471 -2.38823529 -2.36470588 -2.34117647 -2.31764706\n",
            " -2.29411765 -2.27058824 -2.24705882 -2.22352941 -2.2        -2.17647059\n",
            " -2.15294118 -2.12941176 -2.10588235 -2.08235294 -2.05882353 -2.03529412\n",
            " -2.01176471 -1.98823529 -1.96470588 -1.94117647 -1.91764706 -1.89411765\n",
            " -1.87058824 -1.84705882 -1.82352941 -1.8        -1.77647059 -1.75294118\n",
            " -1.72941176 -1.70588235 -1.68235294 -1.65882353 -1.63529412 -1.61176471\n",
            " -1.58823529 -1.56470588 -1.54117647 -1.51764706 -1.49411765 -1.47058824\n",
            " -1.44705882 -1.42352941 -1.4        -1.37647059 -1.35294118 -1.32941176\n",
            " -1.30588235 -1.28235294 -1.25882353 -1.23529412 -1.21176471 -1.18823529\n",
            " -1.16470588 -1.14117647 -1.11764706 -1.09411765 -1.07058824 -1.04705882\n",
            " -1.02352941 -1.         -0.97647059 -0.95294118 -0.92941176 -0.90588235\n",
            " -0.88235294 -0.85882353 -0.83529412 -0.81176471 -0.78823529 -0.76470588\n",
            " -0.74117647 -0.71764706 -0.69411765 -0.67058824 -0.64705882 -0.62352941\n",
            " -0.6        -0.57647059 -0.55294118 -0.52941176 -0.50588235 -0.48235294\n",
            " -0.45882353 -0.43529412 -0.41176471 -0.38823529 -0.36470588 -0.34117647\n",
            " -0.31764706 -0.29411765 -0.27058824 -0.24705882 -0.22352941 -0.2\n",
            " -0.17647059 -0.15294118 -0.12941176 -0.10588235 -0.08235294 -0.05882353\n",
            " -0.03529412 -0.01176471  0.01176471  0.03529412  0.05882353  0.08235294\n",
            "  0.10588235  0.12941176  0.15294118  0.17647059  0.2         0.22352941\n",
            "  0.24705882  0.27058824  0.29411765  0.31764706  0.34117647  0.36470588\n",
            "  0.38823529  0.41176471  0.43529412  0.45882353  0.48235294  0.50588235\n",
            "  0.52941176  0.55294118  0.57647059  0.6         0.62352941  0.64705882\n",
            "  0.67058824  0.69411765  0.71764706  0.74117647  0.76470588  0.78823529\n",
            "  0.81176471  0.83529412  0.85882353  0.88235294  0.90588235  0.92941176\n",
            "  0.95294118  0.97647059  1.          1.02352941  1.04705882  1.07058824\n",
            "  1.09411765  1.11764706  1.14117647  1.16470588  1.18823529  1.21176471\n",
            "  1.23529412  1.25882353  1.28235294  1.30588235  1.32941176  1.35294118\n",
            "  1.37647059  1.4         1.42352941  1.44705882  1.47058824  1.49411765\n",
            "  1.51764706  1.54117647  1.56470588  1.58823529  1.61176471  1.63529412\n",
            "  1.65882353  1.68235294  1.70588235  1.72941176  1.75294118  1.77647059\n",
            "  1.8         1.82352941  1.84705882  1.87058824  1.89411765  1.91764706\n",
            "  1.94117647  1.96470588  1.98823529  2.01176471  2.03529412  2.05882353\n",
            "  2.08235294  2.10588235  2.12941176  2.15294118  2.17647059  2.2\n",
            "  2.22352941  2.24705882  2.27058824  2.29411765  2.31764706  2.34117647\n",
            "  2.36470588  2.38823529  2.41176471  2.43529412  2.45882353  2.48235294\n",
            "  2.50588235  2.52941176  2.55294118  2.57647059  2.6         2.62352941\n",
            "  2.64705882  2.67058824  2.69411765  2.71764706  2.74117647  2.76470588\n",
            "  2.78823529  2.81176471  2.83529412  2.85882353  2.88235294  2.90588235\n",
            "  2.92941176  2.95294118  2.97647059  3.        ]\n",
            "Grid data\n",
            " [[-3.         -2.97647059 -2.95294118 ...  2.95294118  2.97647059\n",
            "   3.        ]\n",
            " [-3.         -2.97647059 -2.95294118 ...  2.95294118  2.97647059\n",
            "   3.        ]\n",
            " [-3.         -2.97647059 -2.95294118 ...  2.95294118  2.97647059\n",
            "   3.        ]\n",
            " ...\n",
            " [-3.         -2.97647059 -2.95294118 ...  2.95294118  2.97647059\n",
            "   3.        ]\n",
            " [-3.         -2.97647059 -2.95294118 ...  2.95294118  2.97647059\n",
            "   3.        ]\n",
            " [-3.         -2.97647059 -2.95294118 ...  2.95294118  2.97647059\n",
            "   3.        ]] [[-3.         -3.         -3.         ... -3.         -3.\n",
            "  -3.        ]\n",
            " [-2.97647059 -2.97647059 -2.97647059 ... -2.97647059 -2.97647059\n",
            "  -2.97647059]\n",
            " [-2.95294118 -2.95294118 -2.95294118 ... -2.95294118 -2.95294118\n",
            "  -2.95294118]\n",
            " ...\n",
            " [ 2.95294118  2.95294118  2.95294118 ...  2.95294118  2.95294118\n",
            "   2.95294118]\n",
            " [ 2.97647059  2.97647059  2.97647059 ...  2.97647059  2.97647059\n",
            "   2.97647059]\n",
            " [ 3.          3.          3.         ...  3.          3.\n",
            "   3.        ]]\n"
          ]
        },
        {
          "output_type": "stream",
          "name": "stderr",
          "text": [
            "/usr/local/lib/python3.7/dist-packages/ipykernel_launcher.py:12: UserWarning: The following kwargs were not used by contour: 'linewidth'\n",
            "  if sys.path[0] == '':\n"
          ]
        },
        {
          "output_type": "display_data",
          "data": {
            "image/png": "[encoded data removed]",
            "text/plain": [
              "<Figure size 432x288 with 1 Axes>"
            ]
          },
          "metadata": {
            "needs_background": "light"
          }
        }
      ],
      "source": [
        "#contourplot\n",
        "def f(x, y):\n",
        "    return (1 - x / 2 + x ** 5 + y ** 3) * np.exp(-x ** 2 -y ** 2)\n",
        "\n",
        "n = 256\n",
        "x = np.linspace(-3, 3, n)\n",
        "print(x)\n",
        "y = np.linspace(-3, 3, n)\n",
        "X, Y = np.meshgrid(x, y)\n",
        "print(\"Grid data\\n\",X,Y)\n",
        "plt.contourf(X, Y, f(X, Y), 8, alpha=.75, cmap='jet')\n",
        "C = plt.contour(X, Y, f(X, Y), 8, colors='black', linewidth=.5)"
      ]
    },
    {
      "cell_type": "code",
      "execution_count": 50,
      "metadata": {
        "id": "dbrgYayGRBOJ",
        "colab": {
          "base_uri": "https://localhost:8080/",
          "height": 283
        },
        "outputId": "8f494fb4-189d-4e4a-9bdf-52f79af98d62"
      },
      "outputs": [
        {
          "output_type": "execute_result",
          "data": {
            "text/plain": [
              "<matplotlib.image.AxesImage at 0x7fd46d8b5350>"
            ]
          },
          "metadata": {},
          "execution_count": 50
        },
        {
          "output_type": "display_data",
          "data": {
            "image/png": "[encoded data removed]",
            "text/plain": [
              "<Figure size 432x288 with 1 Axes>"
            ]
          },
          "metadata": {
            "needs_background": "light"
          }
        }
      ],
      "source": [
        "#meshgrid / imshow\n",
        "def f(x, y):\n",
        "    return (1 - x / 2 + x ** 5 + y ** 3) * np.exp(-x ** 2 - y ** 2)\n",
        "\n",
        "n = 10\n",
        "x = np.linspace(-3, 3, 4 * n)\n",
        "y = np.linspace(-3, 3, 3 * n)\n",
        "X, Y = np.meshgrid(x, y)\n",
        "plt.imshow(f(X, Y))"
      ]
    },
    {
      "cell_type": "code",
      "execution_count": null,
      "metadata": {
        "id": "tMb7AjvTSI6s"
      },
      "outputs": [],
      "source": [
        "The purpose of meshgrid is to create a rectangular grid out of an array of x values and\n",
        " an array of y values.\n",
        "\n",
        "So, for example, if we want to create a grid where we have a point at each integer value between 0 and 4\n",
        "in both the x and y directions. To create a rectangular grid, we need every combination of the x and y points.\n",
        "\n",
        "This is going to be 25 points, right? So if we wanted to create an x and y array \n",
        "for all of these points, we could do the following.\n",
        "\n",
        "x[0,0] = 0    y[0,0] = 0\n",
        "x[0,1] = 1    y[0,1] = 0\n",
        "x[0,2] = 2    y[0,2] = 0\n",
        "x[0,3] = 3    y[0,3] = 0\n",
        "x[0,4] = 4    y[0,4] = 0\n",
        "x[1,0] = 0    y[1,0] = 1\n",
        "x[1,1] = 1    y[1,1] = 1\n",
        "...\n",
        "x[4,3] = 3    y[4,3] = 4\n",
        "x[4,4] = 4    y[4,4] = 4\n",
        "This would result in the following x and y matrices, such that the pairing of the corresponding element in each matrix gives the x and y coordinates of a point in the grid."
      ]
    },
    {
      "cell_type": "code",
      "execution_count": 51,
      "metadata": {
        "id": "WkEei2cySV_1",
        "colab": {
          "base_uri": "https://localhost:8080/",
          "height": 942
        },
        "outputId": "698f4f34-9eb2-4567-bc4e-be582929f658"
      },
      "outputs": [
        {
          "output_type": "execute_result",
          "data": {
            "text/plain": [
              "([<matplotlib.patches.Wedge at 0x7fd46a528590>,\n",
              "  <matplotlib.patches.Wedge at 0x7fd46a5550d0>,\n",
              "  <matplotlib.patches.Wedge at 0x7fd46a555190>,\n",
              "  <matplotlib.patches.Wedge at 0x7fd46a555850>,\n",
              "  <matplotlib.patches.Wedge at 0x7fd46a5626d0>,\n",
              "  <matplotlib.patches.Wedge at 0x7fd46a562650>,\n",
              "  <matplotlib.patches.Wedge at 0x7fd46a562a50>,\n",
              "  <matplotlib.patches.Wedge at 0x7fd46a52a0d0>,\n",
              "  <matplotlib.patches.Wedge at 0x7fd46a562350>,\n",
              "  <matplotlib.patches.Wedge at 0x7fd46a52ac90>,\n",
              "  <matplotlib.patches.Wedge at 0x7fd46a528910>,\n",
              "  <matplotlib.patches.Wedge at 0x7fd46a7c0710>,\n",
              "  <matplotlib.patches.Wedge at 0x7fd46a7bf690>,\n",
              "  <matplotlib.patches.Wedge at 0x7fd46a7bf850>,\n",
              "  <matplotlib.patches.Wedge at 0x7fd46a7bfb10>,\n",
              "  <matplotlib.patches.Wedge at 0x7fd46a7d7350>,\n",
              "  <matplotlib.patches.Wedge at 0x7fd46a7d7410>,\n",
              "  <matplotlib.patches.Wedge at 0x7fd46a7d79d0>,\n",
              "  <matplotlib.patches.Wedge at 0x7fd46a7a94d0>,\n",
              "  <matplotlib.patches.Wedge at 0x7fd46a7a9590>],\n",
              " [Text(1.0803929923013473, 0.20676310644343862, ''),\n",
              "  Text(1.0039008118029362, 0.44964781781012353, ''),\n",
              "  Text(0.871364285830388, 0.6713600236678515, ''),\n",
              "  Text(0.5724139636126898, 0.9393307480654566, ''),\n",
              "  Text(0.33499286360600833, 1.0477498658234448, ''),\n",
              "  Text(-0.02184737247283741, 1.0997830205617984, ''),\n",
              "  Text(-0.49218183836830515, 0.9837464297167211, ''),\n",
              "  Text(-0.7368406815507431, 0.8167409687360103, ''),\n",
              "  Text(-0.8250045590688082, 0.7275764410119954, ''),\n",
              "  Text(-1.0043112007238226, 0.44873044481144103, ''),\n",
              "  Text(-1.0911494309738874, 0.13925846216787616, ''),\n",
              "  Text(-1.0950318358712452, -0.10442834111700805, ''),\n",
              "  Text(-0.937880052419777, -0.574787793253368, ''),\n",
              "  Text(-0.7038855844446886, -0.8453076860001685, ''),\n",
              "  Text(-0.3727619540874778, -1.0349147431479007, ''),\n",
              "  Text(-0.050731759704137847, -1.0988295084121658, ''),\n",
              "  Text(0.24820996088838523, -1.0716304471765379, ''),\n",
              "  Text(0.752776556841074, -0.8020769635580475, ''),\n",
              "  Text(1.02441078306786, -0.40072752280607604, ''),\n",
              "  Text(1.0937548412341562, -0.11704848259095975, '')])"
            ]
          },
          "metadata": {},
          "execution_count": 51
        },
        {
          "output_type": "display_data",
          "data": {
            "image/png": "[encoded data removed]",
            "text/plain": [
              "<Figure size 432x288 with 1 Axes>"
            ]
          },
          "metadata": {}
        }
      ],
      "source": [
        "#pie chart \n",
        "Z = np.random.uniform(0, 1, 20)\n",
        "plt.pie(Z)"
      ]
    },
    {
      "cell_type": "code",
      "execution_count": 52,
      "metadata": {
        "id": "FY7o3sd5SrVI",
        "colab": {
          "base_uri": "https://localhost:8080/",
          "height": 269
        },
        "outputId": "0488172c-08ab-4a8f-d460-95c05a7c18c5"
      },
      "outputs": [
        {
          "output_type": "display_data",
          "data": {
            "image/png": "[encoded data removed]",
            "text/plain": [
              "<Figure size 432x288 with 1 Axes>"
            ]
          },
          "metadata": {
            "needs_background": "light"
          }
        },
        {
          "output_type": "execute_result",
          "data": {
            "text/plain": [
              "[]"
            ]
          },
          "metadata": {},
          "execution_count": 52
        }
      ],
      "source": [
        "#grid\n",
        "axes = plt.gca()\n",
        "axes.set_xlim(0, 4)\n",
        "axes.set_ylim(0, 3)\n",
        "axes.set_xticklabels([])\n",
        "axes.set_yticklabels([])\n",
        "plt.show()\n",
        "axes.plot()"
      ]
    },
    {
      "cell_type": "code",
      "execution_count": 53,
      "metadata": {
        "id": "jx2IRr_4RlOr",
        "colab": {
          "base_uri": "https://localhost:8080/",
          "height": 300
        },
        "outputId": "1221c2f5-abf0-46bd-d604-b34749bed7cc"
      },
      "outputs": [
        {
          "output_type": "stream",
          "name": "stdout",
          "text": [
            "[0, 1, 2, 3, 4, 5, 6, 7, 8, 9, 10, 11, 12, 13, 14, 15, 16, 17, 18, 19]\n",
            "[40, 41, 42, 43, 44, 45, 46, 47, 48, 49, 50, 51, 52, 53, 54, 55, 56, 57, 58, 59]\n"
          ]
        },
        {
          "output_type": "display_data",
          "data": {
            "image/png": "[encoded data removed]",
            "text/plain": [
              "<Figure size 432x288 with 1 Axes>"
            ]
          },
          "metadata": {
            "needs_background": "light"
          }
        }
      ],
      "source": [
        "# Another module inside matplotlib.\n",
        "#! pip install pylab\n",
        "import pylab as pl\n",
        "x=[i for i in range(20)]\n",
        "print(x)\n",
        "y=[i for i in range(40,60)]\n",
        "print(y)\n",
        "pl.plot(x,y,c='k')\n",
        "pl.show()"
      ]
    },
    {
      "cell_type": "code",
      "execution_count": null,
      "metadata": {
        "id": "Q5PhLPg_hUNV"
      },
      "outputs": [],
      "source": [
        "# same above thing using matplotlib.\n",
        "from matplotlib import pyplot as plt\n",
        "x=[i for i in range(20)]\n",
        "y=[i for i in range(40,60)]\n",
        "plt.plot(x,y,c='k')\n",
        "plt.show()"
      ]
    },
    {
      "cell_type": "code",
      "execution_count": 56,
      "metadata": {
        "id": "PNen54Roh0cR",
        "colab": {
          "base_uri": "https://localhost:8080/",
          "height": 463
        },
        "outputId": "06e6592f-94fa-4cd6-d446-1d7f0c918415"
      },
      "outputs": [
        {
          "output_type": "stream",
          "name": "stdout",
          "text": [
            "Seed is used to fix the random Value.\n",
            "Min: 40.40806457877732 Max: 149.35302112869206 Mean: 101.48613846633367\n"
          ]
        },
        {
          "output_type": "display_data",
          "data": {
            "image/png": "[encoded data removed]",
            "text/plain": [
              "<Figure size 720x504 with 1 Axes>"
            ]
          },
          "metadata": {
            "needs_background": "light"
          }
        }
      ],
      "source": [
        "# Box plot\n",
        "import numpy as np\n",
        "import matplotlib.pyplot as plt\n",
        "np.random.seed(10)\n",
        "print(\"Seed is used to fix the random Value.\")\n",
        "data=np.random.normal(100,20,200)\n",
        "#print(\"Normal distribution \\n\",data,\"\\n\",data.shape)\n",
        "print(\"Min:\",data.min(),\"Max:\",data.max(),\"Mean:\",data.mean())\n",
        "fig=plt.figure(figsize=(10,7))\n",
        "plt.boxplot(data)\n",
        "plt.show()"
      ]
    },
    {
      "cell_type": "code",
      "execution_count": null,
      "metadata": {
        "colab": {
          "base_uri": "https://localhost:8080/",
          "height": 282
        },
        "id": "-uNjmTFyisrI",
        "outputId": "955e83f1-7cd7-4765-ce12-61d4abdadacc"
      },
      "outputs": [
        {
          "data": {
            "text/plain": [
              "<matplotlib.collections.PathCollection at 0x7fd46d69bfd0>"
            ]
          },
          "execution_count": 19,
          "metadata": {},
          "output_type": "execute_result"
        },
        {
          "data": {
            "image/png": "[encoded data removed]",
            "text/plain": [
              "<Figure size 432x288 with 1 Axes>"
            ]
          },
          "metadata": {},
          "output_type": "display_data"
        }
      ],
      "source": [
        "# join plots\n",
        "x1,y1=([i for i in range(10,20)],[j for j in range(40,50)])\n",
        "plt.scatter(x1,y1)\n"
      ]
    },
    {
      "cell_type": "code",
      "execution_count": null,
      "metadata": {
        "colab": {
          "base_uri": "https://localhost:8080/",
          "height": 282
        },
        "id": "NeHWiNsuLPio",
        "outputId": "c50c9db8-b672-4420-a2fd-df090617515f"
      },
      "outputs": [
        {
          "data": {
            "text/plain": [
              "[<matplotlib.lines.Line2D at 0x7fd46d6bf5d0>]"
            ]
          },
          "execution_count": 18,
          "metadata": {},
          "output_type": "execute_result"
        },
        {
          "data": {
            "image/png": "[encoded data removed]",
            "text/plain": [
              "<Figure size 432x288 with 1 Axes>"
            ]
          },
          "metadata": {},
          "output_type": "display_data"
        }
      ],
      "source": [
        "x1,y1=([i for i in range(10,20)],[j for j in range(40,50)])\n",
        "plt.plot(x1,y1)"
      ]
    },
    {
      "cell_type": "code",
      "execution_count": null,
      "metadata": {
        "colab": {
          "base_uri": "https://localhost:8080/",
          "height": 282
        },
        "id": "7OHhGT1TLPuP",
        "outputId": "05aa8c94-0c2d-4751-b4d3-7dfa0431bcd1"
      },
      "outputs": [
        {
          "data": {
            "text/plain": [
              "[<matplotlib.lines.Line2D at 0x7fd46d607dd0>]"
            ]
          },
          "execution_count": 20,
          "metadata": {},
          "output_type": "execute_result"
        },
        {
          "data": {
            "image/png": "[encoded data removed]",
            "text/plain": [
              "<Figure size 432x288 with 1 Axes>"
            ]
          },
          "metadata": {},
          "output_type": "display_data"
        }
      ],
      "source": [
        "#join plot\n",
        "x1,y1=([i for i in range(10,20)],[j for j in range(40,50)])\n",
        "plt.scatter(x1,y1)\n",
        "plt.plot(x1,y1)"
      ]
    },
    {
      "cell_type": "code",
      "execution_count": null,
      "metadata": {
        "colab": {
          "base_uri": "https://localhost:8080/",
          "height": 206
        },
        "id": "a0aO54AHis8l",
        "outputId": "9f1b4939-c44c-429b-fa57-7185d1999e65"
      },
      "outputs": [
        {
          "data": {
            "text/html": [
              "\n",
              "  <div id=\"df-061b80f4-e975-4cfa-8f84-06c8effe0e83\">\n",
              "    <div class=\"colab-df-container\">\n",
              "      <div>\n",
              "<style scoped>\n",
              "    .dataframe tbody tr th:only-of-type {\n",
              "        vertical-align: middle;\n",
              "    }\n",
              "\n",
              "    .dataframe tbody tr th {\n",
              "        vertical-align: top;\n",
              "    }\n",
              "\n",
              "    .dataframe thead th {\n",
              "        text-align: right;\n",
              "    }\n",
              "</style>\n",
              "<table border=\"1\" class=\"dataframe\">\n",
              "  <thead>\n",
              "    <tr style=\"text-align: right;\">\n",
              "      <th></th>\n",
              "      <th>Unnamed: 0</th>\n",
              "      <th>crim</th>\n",
              "      <th>zn</th>\n",
              "      <th>indus</th>\n",
              "      <th>chas</th>\n",
              "      <th>nox</th>\n",
              "      <th>rm</th>\n",
              "      <th>age</th>\n",
              "      <th>dis</th>\n",
              "      <th>rad</th>\n",
              "      <th>tax</th>\n",
              "      <th>ptratio</th>\n",
              "      <th>black</th>\n",
              "      <th>lstat</th>\n",
              "      <th>medv</th>\n",
              "    </tr>\n",
              "  </thead>\n",
              "  <tbody>\n",
              "    <tr>\n",
              "      <th>0</th>\n",
              "      <td>1</td>\n",
              "      <td>0.00632</td>\n",
              "      <td>18.0</td>\n",
              "      <td>2.31</td>\n",
              "      <td>0</td>\n",
              "      <td>0.538</td>\n",
              "      <td>6.575</td>\n",
              "      <td>65.2</td>\n",
              "      <td>4.0900</td>\n",
              "      <td>1</td>\n",
              "      <td>296</td>\n",
              "      <td>15.3</td>\n",
              "      <td>396.90</td>\n",
              "      <td>4.98</td>\n",
              "      <td>24.0</td>\n",
              "    </tr>\n",
              "    <tr>\n",
              "      <th>1</th>\n",
              "      <td>2</td>\n",
              "      <td>0.02731</td>\n",
              "      <td>0.0</td>\n",
              "      <td>7.07</td>\n",
              "      <td>0</td>\n",
              "      <td>0.469</td>\n",
              "      <td>6.421</td>\n",
              "      <td>78.9</td>\n",
              "      <td>4.9671</td>\n",
              "      <td>2</td>\n",
              "      <td>242</td>\n",
              "      <td>17.8</td>\n",
              "      <td>396.90</td>\n",
              "      <td>9.14</td>\n",
              "      <td>21.6</td>\n",
              "    </tr>\n",
              "    <tr>\n",
              "      <th>2</th>\n",
              "      <td>3</td>\n",
              "      <td>0.02729</td>\n",
              "      <td>0.0</td>\n",
              "      <td>7.07</td>\n",
              "      <td>0</td>\n",
              "      <td>0.469</td>\n",
              "      <td>7.185</td>\n",
              "      <td>61.1</td>\n",
              "      <td>4.9671</td>\n",
              "      <td>2</td>\n",
              "      <td>242</td>\n",
              "      <td>17.8</td>\n",
              "      <td>392.83</td>\n",
              "      <td>4.03</td>\n",
              "      <td>34.7</td>\n",
              "    </tr>\n",
              "    <tr>\n",
              "      <th>3</th>\n",
              "      <td>4</td>\n",
              "      <td>0.03237</td>\n",
              "      <td>0.0</td>\n",
              "      <td>2.18</td>\n",
              "      <td>0</td>\n",
              "      <td>0.458</td>\n",
              "      <td>6.998</td>\n",
              "      <td>45.8</td>\n",
              "      <td>6.0622</td>\n",
              "      <td>3</td>\n",
              "      <td>222</td>\n",
              "      <td>18.7</td>\n",
              "      <td>394.63</td>\n",
              "      <td>2.94</td>\n",
              "      <td>33.4</td>\n",
              "    </tr>\n",
              "    <tr>\n",
              "      <th>4</th>\n",
              "      <td>5</td>\n",
              "      <td>0.06905</td>\n",
              "      <td>0.0</td>\n",
              "      <td>2.18</td>\n",
              "      <td>0</td>\n",
              "      <td>0.458</td>\n",
              "      <td>7.147</td>\n",
              "      <td>54.2</td>\n",
              "      <td>6.0622</td>\n",
              "      <td>3</td>\n",
              "      <td>222</td>\n",
              "      <td>18.7</td>\n",
              "      <td>396.90</td>\n",
              "      <td>5.33</td>\n",
              "      <td>36.2</td>\n",
              "    </tr>\n",
              "  </tbody>\n",
              "</table>\n",
              "</div>\n",
              "      <button class=\"colab-df-convert\" onclick=\"convertToInteractive('df-061b80f4-e975-4cfa-8f84-06c8effe0e83')\"\n",
              "              title=\"Convert this dataframe to an interactive table.\"\n",
              "              style=\"display:none;\">\n",
              "        \n",
              "  <svg xmlns=\"http://www.w3.org/2000/svg\" height=\"24px\"viewBox=\"0 0 24 24\"\n",
              "       width=\"24px\">\n",
              "    <path d=\"M0 0h24v24H0V0z\" fill=\"none\"/>\n",
              "    <path d=\"M18.56 5.44l.94 2.06.94-2.06 2.06-.94-2.06-.94-.94-2.06-.94 2.06-2.06.94zm-11 1L8.5 8.5l.94-2.06 2.06-.94-2.06-.94L8.5 2.5l-.94 2.06-2.06.94zm10 10l.94 2.06.94-2.06 2.06-.94-2.06-.94-.94-2.06-.94 2.06-2.06.94z\"/><path d=\"M17.41 7.96l-1.37-1.37c-.4-.4-.92-.59-1.43-.59-.52 0-1.04.2-1.43.59L10.3 9.45l-7.72 7.72c-.78.78-.78 2.05 0 2.83L4 21.41c.39.39.9.59 1.41.59.51 0 1.02-.2 1.41-.59l7.78-7.78 2.81-2.81c.8-.78.8-2.07 0-2.86zM5.41 20L4 18.59l7.72-7.72 1.47 1.35L5.41 20z\"/>\n",
              "  </svg>\n",
              "      </button>\n",
              "      \n",
              "  <style>\n",
              "    .colab-df-container {\n",
              "      display:flex;\n",
              "      flex-wrap:wrap;\n",
              "      gap: 12px;\n",
              "    }\n",
              "\n",
              "    .colab-df-convert {\n",
              "      background-color: #E8F0FE;\n",
              "      border: none;\n",
              "      border-radius: 50%;\n",
              "      cursor: pointer;\n",
              "      display: none;\n",
              "      fill: #1967D2;\n",
              "      height: 32px;\n",
              "      padding: 0 0 0 0;\n",
              "      width: 32px;\n",
              "    }\n",
              "\n",
              "    .colab-df-convert:hover {\n",
              "      background-color: #E2EBFA;\n",
              "      box-shadow: 0px 1px 2px rgba(60, 64, 67, 0.3), 0px 1px 3px 1px rgba(60, 64, 67, 0.15);\n",
              "      fill: #174EA6;\n",
              "    }\n",
              "\n",
              "    [theme=dark] .colab-df-convert {\n",
              "      background-color: #3B4455;\n",
              "      fill: #D2E3FC;\n",
              "    }\n",
              "\n",
              "    [theme=dark] .colab-df-convert:hover {\n",
              "      background-color: #434B5C;\n",
              "      box-shadow: 0px 1px 3px 1px rgba(0, 0, 0, 0.15);\n",
              "      filter: drop-shadow(0px 1px 2px rgba(0, 0, 0, 0.3));\n",
              "      fill: #FFFFFF;\n",
              "    }\n",
              "  </style>\n",
              "\n",
              "      <script>\n",
              "        const buttonEl =\n",
              "          document.querySelector('#df-061b80f4-e975-4cfa-8f84-06c8effe0e83 button.colab-df-convert');\n",
              "        buttonEl.style.display =\n",
              "          google.colab.kernel.accessAllowed ? 'block' : 'none';\n",
              "\n",
              "        async function convertToInteractive(key) {\n",
              "          const element = document.querySelector('#df-061b80f4-e975-4cfa-8f84-06c8effe0e83');\n",
              "          const dataTable =\n",
              "            await google.colab.kernel.invokeFunction('convertToInteractive',\n",
              "                                                     [key], {});\n",
              "          if (!dataTable) return;\n",
              "\n",
              "          const docLinkHtml = 'Like what you see? Visit the ' +\n",
              "            '<a target=\"_blank\" href=https://colab.research.google.com/notebooks/data_table.ipynb>data table notebook</a>'\n",
              "            + ' to learn more about interactive tables.';\n",
              "          element.innerHTML = '';\n",
              "          dataTable['output_type'] = 'display_data';\n",
              "          await google.colab.output.renderOutput(dataTable, element);\n",
              "          const docLink = document.createElement('div');\n",
              "          docLink.innerHTML = docLinkHtml;\n",
              "          element.appendChild(docLink);\n",
              "        }\n",
              "      </script>\n",
              "    </div>\n",
              "  </div>\n",
              "  "
            ],
            "text/plain": [
              "   Unnamed: 0     crim    zn  indus  chas  ...  tax  ptratio   black  lstat  medv\n",
              "0           1  0.00632  18.0   2.31     0  ...  296     15.3  396.90   4.98  24.0\n",
              "1           2  0.02731   0.0   7.07     0  ...  242     17.8  396.90   9.14  21.6\n",
              "2           3  0.02729   0.0   7.07     0  ...  242     17.8  392.83   4.03  34.7\n",
              "3           4  0.03237   0.0   2.18     0  ...  222     18.7  394.63   2.94  33.4\n",
              "4           5  0.06905   0.0   2.18     0  ...  222     18.7  396.90   5.33  36.2\n",
              "\n",
              "[5 rows x 15 columns]"
            ]
          },
          "execution_count": 21,
          "metadata": {},
          "output_type": "execute_result"
        }
      ],
      "source": [
        "url=\"https://raw.githubusercontent.com/sameerCoder/DATA_ANALYST_DATASETS/main/Boston.csv\"\n",
        "import pandas as pd\n",
        "df=pd.read_csv(url)\n",
        "df.head()"
      ]
    },
    {
      "cell_type": "code",
      "execution_count": null,
      "metadata": {
        "colab": {
          "base_uri": "https://localhost:8080/",
          "height": 404
        },
        "id": "NXfOUINyMDSu",
        "outputId": "1dd07654-a104-475d-b8b5-40302ad6aa7d"
      },
      "outputs": [
        {
          "data": {
            "text/plain": [
              "{'boxes': [<matplotlib.lines.Line2D at 0x7fd46b584e10>],\n",
              " 'caps': [<matplotlib.lines.Line2D at 0x7fd46b58eed0>,\n",
              "  <matplotlib.lines.Line2D at 0x7fd46b596450>],\n",
              " 'fliers': [<matplotlib.lines.Line2D at 0x7fd46b596f10>],\n",
              " 'means': [],\n",
              " 'medians': [<matplotlib.lines.Line2D at 0x7fd46b5969d0>],\n",
              " 'whiskers': [<matplotlib.lines.Line2D at 0x7fd46b58e450>,\n",
              "  <matplotlib.lines.Line2D at 0x7fd46b58e990>]}"
            ]
          },
          "execution_count": 22,
          "metadata": {},
          "output_type": "execute_result"
        },
        {
          "data": {
            "image/png": "[encoded data removed]",
            "text/plain": [
              "<Figure size 432x288 with 1 Axes>"
            ]
          },
          "metadata": {},
          "output_type": "display_data"
        }
      ],
      "source": [
        "# reading csv file and then checking average age of users in this dataset.\n",
        "# like this we can see around what age of people take loan from bank loan datasets.\n",
        "plt.boxplot(df['age'])"
      ]
    },
    {
      "cell_type": "code",
      "execution_count": null,
      "metadata": {
        "colab": {
          "base_uri": "https://localhost:8080/",
          "height": 404
        },
        "id": "0dbX9JI8NZFO",
        "outputId": "ac4142d4-11a6-48ea-d9d3-684f30d86b8b"
      },
      "outputs": [
        {
          "data": {
            "text/plain": [
              "{'boxes': [<matplotlib.lines.Line2D at 0x7fd46b522fd0>],\n",
              " 'caps': [<matplotlib.lines.Line2D at 0x7fd46b4b2050>,\n",
              "  <matplotlib.lines.Line2D at 0x7fd46b4b2590>],\n",
              " 'fliers': [<matplotlib.lines.Line2D at 0x7fd46b4bc5d0>],\n",
              " 'means': [<matplotlib.lines.Line2D at 0x7fd46b5da4d0>],\n",
              " 'medians': [<matplotlib.lines.Line2D at 0x7fd46b4b2b10>],\n",
              " 'whiskers': [<matplotlib.lines.Line2D at 0x7fd46b4aa590>,\n",
              "  <matplotlib.lines.Line2D at 0x7fd46b4aaad0>]}"
            ]
          },
          "execution_count": 23,
          "metadata": {},
          "output_type": "execute_result"
        },
        {
          "data": {
            "image/png": "[encoded data removed]",
            "text/plain": [
              "<Figure size 432x288 with 1 Axes>"
            ]
          },
          "metadata": {},
          "output_type": "display_data"
        }
      ],
      "source": [
        "# SEE THE MEAN ARROW\n",
        "plt.boxplot(df['age'],showmeans=True)\n",
        "# YELLOW LINE REPRESENT MEDIAN.\n",
        "# ARROW REPRESENT MEAN."
      ]
    },
    {
      "cell_type": "code",
      "execution_count": null,
      "metadata": {
        "colab": {
          "base_uri": "https://localhost:8080/",
          "height": 407
        },
        "id": "juAaWPD2OMpO",
        "outputId": "afdbf82d-6be3-444f-8ea6-f5460102b57e"
      },
      "outputs": [
        {
          "data": {
            "text/plain": [
              "{'boxes': [<matplotlib.lines.Line2D at 0x7fd46b442250>],\n",
              " 'caps': [<matplotlib.lines.Line2D at 0x7fd46b446290>,\n",
              "  <matplotlib.lines.Line2D at 0x7fd46b4467d0>],\n",
              " 'fliers': [<matplotlib.lines.Line2D at 0x7fd46b44f2d0>],\n",
              " 'means': [],\n",
              " 'medians': [<matplotlib.lines.Line2D at 0x7fd46b446d50>],\n",
              " 'whiskers': [<matplotlib.lines.Line2D at 0x7fd46b4427d0>,\n",
              "  <matplotlib.lines.Line2D at 0x7fd46b442d10>]}"
            ]
          },
          "execution_count": 24,
          "metadata": {},
          "output_type": "execute_result"
        },
        {
          "data": {
            "image/png": "[encoded data removed]",
            "text/plain": [
              "<Figure size 432x288 with 1 Axes>"
            ]
          },
          "metadata": {},
          "output_type": "display_data"
        }
      ],
      "source": [
        "plt.boxplot(df['rm'])\n",
        "# WE CAN SEE THERE ARE MANY OUTLIERS VALUES IN BELOW BOXPLOT"
      ]
    },
    {
      "cell_type": "code",
      "execution_count": null,
      "metadata": {
        "colab": {
          "base_uri": "https://localhost:8080/",
          "height": 407
        },
        "id": "XcsB_fSKOYeJ",
        "outputId": "e6ffbc92-5dd1-4dc1-a99d-e5c5ed0af7ad"
      },
      "outputs": [
        {
          "data": {
            "text/plain": [
              "{'boxes': [<matplotlib.lines.Line2D at 0x7fd46b417510>],\n",
              " 'caps': [<matplotlib.lines.Line2D at 0x7fd46b50b8d0>,\n",
              "  <matplotlib.lines.Line2D at 0x7fd46b404e50>],\n",
              " 'fliers': [<matplotlib.lines.Line2D at 0x7fd46b458390>],\n",
              " 'means': [],\n",
              " 'medians': [<matplotlib.lines.Line2D at 0x7fd46b404110>],\n",
              " 'whiskers': [<matplotlib.lines.Line2D at 0x7fd46b417a50>,\n",
              "  <matplotlib.lines.Line2D at 0x7fd46b417550>]}"
            ]
          },
          "execution_count": 25,
          "metadata": {},
          "output_type": "execute_result"
        },
        {
          "data": {
            "image/png": "[encoded data removed]",
            "text/plain": [
              "<Figure size 432x288 with 1 Axes>"
            ]
          },
          "metadata": {},
          "output_type": "display_data"
        }
      ],
      "source": [
        "#TO MAKE OUTLIERS DIFFERENT SYMBOL USE SYM='B+'\n",
        "plt.boxplot(df['rm'],sym='b+')"
      ]
    },
    {
      "cell_type": "code",
      "execution_count": null,
      "metadata": {
        "colab": {
          "base_uri": "https://localhost:8080/",
          "height": 404
        },
        "id": "Y85LML77OoR2",
        "outputId": "e72758e0-828b-4543-c2d7-03682b7a84a7"
      },
      "outputs": [
        {
          "data": {
            "text/plain": [
              "{'boxes': [<matplotlib.lines.Line2D at 0x7fd46b4db750>],\n",
              " 'caps': [<matplotlib.lines.Line2D at 0x7fd46b4e21d0>,\n",
              "  <matplotlib.lines.Line2D at 0x7fd46b50ea10>],\n",
              " 'fliers': [],\n",
              " 'means': [],\n",
              " 'medians': [<matplotlib.lines.Line2D at 0x7fd46b3f9690>],\n",
              " 'whiskers': [<matplotlib.lines.Line2D at 0x7fd46b4bca10>,\n",
              "  <matplotlib.lines.Line2D at 0x7fd46b4d2e10>]}"
            ]
          },
          "execution_count": 26,
          "metadata": {},
          "output_type": "execute_result"
        },
        {
          "data": {
            "image/png": "[encoded data removed]",
            "text/plain": [
              "<Figure size 432x288 with 1 Axes>"
            ]
          },
          "metadata": {},
          "output_type": "display_data"
        }
      ],
      "source": [
        "# To remove outliers\n",
        "plt.boxplot(df['rm'],sym='')"
      ]
    },
    {
      "cell_type": "code",
      "execution_count": null,
      "metadata": {
        "colab": {
          "background_save": true,
          "base_uri": "https://localhost:8080/",
          "height": 321
        },
        "id": "3GFbmCh_Sq7e",
        "outputId": "af7bb101-effd-40d0-9151-bbea30b23044"
      },
      "outputs": [
        {
          "name": "stdout",
          "output_type": "stream",
          "text": [
            "[[10. 12.]\n",
            " [14. 16.]\n",
            " [18. 20.]]\n"
          ]
        },
        {
          "data": {
            "text/plain": [
              "<matplotlib.image.AxesImage at 0x7fd46a9c33d0>"
            ]
          },
          "execution_count": null,
          "metadata": {},
          "output_type": "execute_result"
        },
        {
          "data": {
            "image/png": "[encoded data removed]",
            "text/plain": [
              "<Figure size 432x288 with 1 Axes>"
            ]
          },
          "metadata": {},
          "output_type": "display_data"
        }
      ],
      "source": [
        "# heatmap - 2d data & show the minimum and maximum value \n",
        "arr_2d=np.linspace(10,20,6).reshape(3,2)\n",
        "print(arr_2d)\n",
        "plt.imshow(arr_2d)"
      ]
    },
    {
      "cell_type": "code",
      "execution_count": null,
      "metadata": {
        "colab": {
          "base_uri": "https://localhost:8080/",
          "height": 890
        },
        "id": "ZQnsgiijQ34x",
        "outputId": "be7d351c-4f58-4f63-886a-b5b343cf4ef1"
      },
      "outputs": [
        {
          "name": "stdout",
          "output_type": "stream",
          "text": [
            "[[4.63850864e-01 7.28517451e-01 5.10912773e-04 1.85046253e-01\n",
            "  1.38170249e-01 3.02398536e-01 3.86198674e-01 5.79726706e-01\n",
            "  5.04767342e-01 7.09514813e-01 4.84799376e-01 6.50227017e-01]\n",
            " [4.43546266e-01 4.05395548e-01 8.16576243e-02 1.29105844e-01\n",
            "  8.22938544e-01 5.75748025e-01 2.11160074e-01 5.39630169e-02\n",
            "  5.34246201e-02 9.66736768e-01 7.16722873e-01 5.08383880e-01]\n",
            " [7.95187740e-01 6.25885209e-01 3.52426274e-01 9.55105120e-01\n",
            "  3.53613790e-01 3.89154902e-01 3.28315287e-01 1.97758655e-01\n",
            "  6.16711116e-01 3.84288890e-01 2.95086623e-01 8.41722227e-01]\n",
            " [4.47572329e-01 9.72402206e-01 1.39301252e-01 4.72076120e-01\n",
            "  9.50030419e-02 5.37308572e-01 2.08573202e-01 8.99516943e-01\n",
            "  1.51726442e-01 5.75899366e-01 5.78459523e-01 6.40955020e-01]\n",
            " [1.20535458e-01 8.03462974e-01 5.28457848e-01 7.50816512e-01\n",
            "  8.04883831e-01 7.69166583e-01 1.00647027e-01 2.40673662e-01\n",
            "  9.64864731e-01 4.29192185e-01 9.59953586e-01 2.85403479e-01]\n",
            " [8.70062504e-01 1.90242539e-01 1.34372863e-01 9.60725714e-02\n",
            "  6.81799205e-01 2.77915513e-01 8.67720716e-01 8.03652876e-01\n",
            "  5.72429917e-01 6.65094780e-01 2.58411736e-01 9.63819525e-01]\n",
            " [3.39114995e-01 4.83017271e-01 1.47787112e-01 7.65961534e-01\n",
            "  5.96461997e-01 1.62026140e-01 8.10974815e-01 5.64753011e-01\n",
            "  1.01304905e-01 8.02560308e-01 8.73799079e-01 2.20056366e-01]\n",
            " [5.88882751e-01 6.83007669e-01 6.49772426e-01 3.17281423e-01\n",
            "  6.32637367e-01 5.80919201e-01 6.46888944e-02 7.86389659e-01\n",
            "  8.56624996e-03 7.37312273e-01 2.50660075e-01 1.57422680e-01]\n",
            " [9.59987784e-01 5.16748019e-01 8.84045645e-01 4.16209886e-01\n",
            "  6.37838309e-01 3.59922876e-01 4.14084169e-01 2.23976702e-02\n",
            "  9.81141492e-01 8.19765070e-01 6.40797091e-01 6.20871792e-01]\n",
            " [8.77010685e-01 6.42346917e-01 9.91874157e-01 6.35955694e-01\n",
            "  8.72238178e-01 7.07219563e-01 3.24648656e-01 8.96479117e-01\n",
            "  2.65456648e-01 6.55150087e-01 2.64424635e-01 5.98899649e-01]\n",
            " [5.17622694e-02 3.25012412e-01 3.18727597e-01 3.57514751e-01\n",
            "  2.92623914e-02 6.10569775e-01 9.19614464e-01 8.68099271e-01\n",
            "  8.76562857e-01 9.56301098e-01 4.98748604e-01 8.49718956e-01]\n",
            " [7.56932415e-01 1.65356224e-01 2.43668290e-02 4.52575826e-01\n",
            "  8.76583344e-01 1.19014661e-02 8.00685463e-01 4.12027688e-01\n",
            "  7.04371113e-01 4.30830913e-01 3.83267203e-01 2.43275652e-01]]\n"
          ]
        },
        {
          "data": {
            "image/png": "[encoded data removed]",
            "text/plain": [
              "<Figure size 432x288 with 1 Axes>"
            ]
          },
          "metadata": {},
          "output_type": "display_data"
        }
      ],
      "source": [
        "# heatmap\n",
        "import numpy as np\n",
        "data=np.random.random((12,12))\n",
        "print(data)\n",
        "plt.imshow(data,cmap='autumn',interpolation='nearest')\n",
        "plt.show()"
      ]
    },
    {
      "cell_type": "code",
      "source": [
        "# heatmap\n",
        "import numpy as np\n",
        "data=np.random.random((12,12))\n",
        "print(data)\n",
        "plt.imshow(data,cmap='tab10',interpolation='nearest')\n",
        "plt.show()"
      ],
      "metadata": {
        "colab": {
          "base_uri": "https://localhost:8080/",
          "height": 682
        },
        "id": "xHJZmtccBbq1",
        "outputId": "de706277-ec0a-432d-d98f-cb2a42dae2b7"
      },
      "execution_count": 57,
      "outputs": [
        {
          "output_type": "stream",
          "name": "stdout",
          "text": [
            "[[0.84461886 0.53814752 0.55908652 0.12250998 0.37764192 0.42874733\n",
            "  0.51120865 0.89176257 0.30021061 0.39644188 0.79327323 0.41227608]\n",
            " [0.18486755 0.84024732 0.5692714  0.06005021 0.98891697 0.22878233\n",
            "  0.61470171 0.36802668 0.80277594 0.62756185 0.82121648 0.28825314]\n",
            " [0.27479513 0.60105189 0.9385142  0.70729631 0.26340316 0.12233592\n",
            "  0.45872423 0.9748125  0.68057437 0.19325373 0.04673923 0.95264394]\n",
            " [0.85864902 0.82790318 0.96390052 0.59893645 0.93091584 0.14676881\n",
            "  0.11396031 0.3720289  0.76656013 0.32114203 0.63803508 0.0092211 ]\n",
            " [0.54346504 0.33775465 0.89802431 0.94070704 0.38412185 0.39611779\n",
            "  0.89727994 0.05882237 0.40537929 0.13017554 0.08696941 0.78396429]\n",
            " [0.30457336 0.58405587 0.87846618 0.88079206 0.60095421 0.64522775\n",
            "  0.0566282  0.2974841  0.69177461 0.18902945 0.80300754 0.51476375]\n",
            " [0.75728604 0.17778875 0.08262029 0.48207197 0.52885388 0.69630827\n",
            "  0.20476161 0.67137233 0.79326933 0.04173781 0.96335751 0.97539272]\n",
            " [0.55066078 0.06490698 0.34523679 0.02042997 0.80085181 0.2079271\n",
            "  0.14325251 0.69989398 0.05794981 0.25660757 0.51033178 0.99525878]\n",
            " [0.14651568 0.44951478 0.60144038 0.09727249 0.28873488 0.7207999\n",
            "  0.55080606 0.83857702 0.58033135 0.18457174 0.61550212 0.88695509]\n",
            " [0.51678928 0.62614367 0.50505912 0.90966258 0.41330466 0.53546872\n",
            "  0.34264313 0.12957678 0.66282175 0.93567    0.61272918 0.8427385 ]\n",
            " [0.21790844 0.90317174 0.00976998 0.22581273 0.13205513 0.90754295\n",
            "  0.91023064 0.58105791 0.08749305 0.11687944 0.77107126 0.73279527]\n",
            " [0.08712836 0.3574632  0.77321162 0.1314716  0.53783243 0.75472357\n",
            "  0.27252618 0.566517   0.47668497 0.55662069 0.44073706 0.69373736]]\n"
          ]
        },
        {
          "output_type": "display_data",
          "data": {
            "image/png": "[encoded data removed]",
            "text/plain": [
              "<Figure size 432x288 with 1 Axes>"
            ]
          },
          "metadata": {
            "needs_background": "light"
          }
        }
      ]
    },
    {
      "cell_type": "code",
      "execution_count": null,
      "metadata": {
        "id": "40SmisKtOM2N"
      },
      "outputs": [],
      "source": [
        ""
      ]
    },
    {
      "cell_type": "code",
      "execution_count": null,
      "metadata": {
        "id": "dcr_Qiv4OM5t"
      },
      "outputs": [],
      "source": [
        ""
      ]
    },
    {
      "cell_type": "code",
      "execution_count": null,
      "metadata": {
        "id": "9rg9QRIqMl75"
      },
      "outputs": [],
      "source": [
        "#Questions ???\n",
        "url=\"https://raw.githubusercontent.com/sameerCoder/DATA_ANALYST_DATASETS/main/Boston.csv\"\n",
        "#  READ THE ABOVE URL DATASETS AND TRY TO PLOT DIFFERENT PLOTS FROM ABOVE DATASETS.\n",
        "# LINE PLOT\n",
        "# SCATTER PLOT\n",
        "# BOX PLOT\n",
        "# JOIN PLOT"
      ]
    },
    {
      "cell_type": "code",
      "execution_count": null,
      "metadata": {
        "id": "O2t_7rX2MndL"
      },
      "outputs": [],
      "source": [
        ""
      ]
    },
    {
      "cell_type": "code",
      "execution_count": null,
      "metadata": {
        "id": "iX7I-K3nMnf_"
      },
      "outputs": [],
      "source": [
        ""
      ]
    },
    {
      "cell_type": "code",
      "execution_count": null,
      "metadata": {
        "id": "BvmUw0IiMnjm"
      },
      "outputs": [],
      "source": [
        ""
      ]
    },
    {
      "cell_type": "code",
      "execution_count": null,
      "metadata": {
        "id": "1maC935dMnxq"
      },
      "outputs": [],
      "source": [
        ""
      ]
    },
    {
      "cell_type": "code",
      "execution_count": null,
      "metadata": {
        "id": "lMDl1nJtMDl5"
      },
      "outputs": [],
      "source": [
        ""
      ]
    },
    {
      "cell_type": "code",
      "execution_count": null,
      "metadata": {
        "id": "F6HLXGM8MD6-"
      },
      "outputs": [],
      "source": [
        ""
      ]
    }
  ],
  "metadata": {
    "colab": {
      "collapsed_sections": [],
      "name": "Matplotlib_FULL_ALL_PLOTS.ipynb",
      "provenance": [],
      "authorship_tag": "ABX9TyNMF/pSw+ogSgE2WUmGUYoU"
    },
    "kernelspec": {
      "display_name": "Python 3",
      "name": "python3"
    },
    "language_info": {
      "name": "python"
    }
  },
  "nbformat": 4,
  "nbformat_minor": 0
}