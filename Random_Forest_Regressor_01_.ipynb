{
  "nbformat": 4,
  "nbformat_minor": 0,
  "metadata": {
    "colab": {
      "name": "Random Forest Regressor 01 .ipynb",
      "provenance": [],
      "authorship_tag": "ABX9TyN8Kn/vQx0k3gWLOG0RMDAQ"
    },
    "kernelspec": {
      "name": "python3",
      "display_name": "Python 3"
    },
    "language_info": {
      "name": "python"
    }
  },
  "cells": [
    {
      "cell_type": "code",
      "source": [
        "Random-Forest-Regression\n",
        "\n",
        "A very basic implementation of Random Forest Regression in python. \n",
        "The sklearn.ensemble library is used to import the RandomForestRegressor class. \n",
        "The object of the class is created and is given a given an n_estimators value of 300. \n",
        "The n_estimator value is the number of Decision Tree Regression models to be included into the Random Forest Regressor model. \n",
        "The higer the value of the n_estimator, the more Decision Tree models added. \n",
        "And the more Decision Tree models added, the better the model is at predicting values of the dataset."
      ],
      "metadata": {
        "id": "tGsush_VjWTs"
      },
      "execution_count": null,
      "outputs": []
    },
    {
      "cell_type": "code",
      "execution_count": null,
      "metadata": {
        "colab": {
          "base_uri": "https://localhost:8080/",
          "height": 312
        },
        "id": "H65gKJEcjCZs",
        "outputId": "9037a553-c17d-413b-a2f7-18625ec72a50"
      },
      "outputs": [
        {
          "output_type": "stream",
          "name": "stdout",
          "text": [
            "Salary Output: [160333.33333333]\n"
          ]
        },
        {
          "output_type": "display_data",
          "data": {
            "text/plain": [
              "<Figure size 432x288 with 1 Axes>"
            ],
            "image/png": "[encoded data removed]"
          },
          "metadata": {
            "needs_background": "light"
          }
        }
      ],
      "source": [
        "# Regression Template\n",
        "\n",
        "# Random Forest Regression\n",
        "\n",
        "import numpy as np\n",
        "import matplotlib.pyplot as plt\n",
        "import pandas as pd\n",
        "\n",
        "# Importing the datasets\n",
        "url=\"https://raw.githubusercontent.com/sameerCoder/Final-Data-science-Projects/main/Random%20Forest%20Regression/Position_Salaries.csv\"\n",
        "datasets = pd.read_csv(url)\n",
        "X = datasets.iloc[:, 1:2].values\n",
        "Y = datasets.iloc[:, 2].values\n",
        "\n",
        "# Fitting the Regression model to the dataset\n",
        "\n",
        "from sklearn.ensemble import RandomForestRegressor\n",
        "regressor = RandomForestRegressor(n_estimators = 300, random_state = 0)\n",
        "regressor.fit(X,Y)\n",
        "\n",
        "# Predicting a new result with the Random Forest Regression\n",
        "\n",
        "Y_Pred = regressor.predict([[6.5]])\n",
        "print(\"Salary Output:\",Y_Pred)\n",
        "# Visualising the Random Forest Regression results in higher resolution and smoother curve\n",
        "X_Grid = np.arange(min(X), max(X), 0.01)\n",
        "X_Grid = X_Grid.reshape((len(X_Grid), 1))\n",
        "plt.scatter(X,Y, color = 'red')\n",
        "plt.plot(X_Grid, regressor.predict(X_Grid), color = 'blue')\n",
        "plt.title('Random Forest Regression Results')\n",
        "plt.xlabel('Position level')\n",
        "plt.ylabel('Salary')\n",
        "plt.show()"
      ]
    },
    {
      "cell_type": "code",
      "source": [
        ""
      ],
      "metadata": {
        "id": "eTL9kX1tkoAP"
      },
      "execution_count": null,
      "outputs": []
    }
  ]
}