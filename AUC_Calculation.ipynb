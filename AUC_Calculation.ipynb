{
  "nbformat": 4,
  "nbformat_minor": 0,
  "metadata": {
    "colab": {
      "name": "AUC Calculation.ipynb",
      "provenance": [],
      "authorship_tag": "ABX9TyNX0o9zABsL/1cP7/cWvrzr"
    },
    "kernelspec": {
      "name": "python3",
      "display_name": "Python 3"
    },
    "language_info": {
      "name": "python"
    }
  },
  "cells": [
    {
      "cell_type": "code",
      "execution_count": null,
      "metadata": {
        "id": "jhtafJzf0UO-"
      },
      "outputs": [],
      "source": [
        "import pandas as pd\n",
        "import numpy as np\n",
        "from sklearn.model_selection import train_test_split\n",
        "from sklearn.linear_model import LogisticRegression\n",
        "from sklearn import metrics"
      ]
    },
    {
      "cell_type": "code",
      "source": [
        "#import dataset from CSV file on Github\n",
        "url = \"https://raw.githubusercontent.com/Statology/Python-Guides/main/default.csv\"\n",
        "data = pd.read_csv(url)\n",
        "\n",
        "#define the predictor variables and the response variable\n",
        "X = data[['student', 'balance', 'income']]\n",
        "y = data['default']\n",
        "\n",
        "#split the dataset into training (70%) and testing (30%) sets\n",
        "X_train,X_test,y_train,y_test = train_test_split(X,y,test_size=0.3,random_state=0) \n",
        "\n",
        "#instantiate the model\n",
        "log_regression = LogisticRegression()\n",
        "\n",
        "#fit the model using the training data\n",
        "log_regression.fit(X_train,y_train)"
      ],
      "metadata": {
        "colab": {
          "base_uri": "https://localhost:8080/"
        },
        "id": "pNxP2SNH0e2l",
        "outputId": "b508ccba-b2a5-4578-878a-3db7998c9f87"
      },
      "execution_count": null,
      "outputs": [
        {
          "output_type": "execute_result",
          "data": {
            "text/plain": [
              "LogisticRegression()"
            ]
          },
          "metadata": {},
          "execution_count": 2
        }
      ]
    },
    {
      "cell_type": "code",
      "source": [
        "#use model to predict probability that given y value is 1\n",
        "y_pred_proba = log_regression.predict_proba(X_test)[::,1]\n",
        "\n",
        "#calculate AUC of model\n",
        "auc = metrics.roc_auc_score(y_test, y_pred_proba)\n",
        "\n",
        "#print AUC score\n",
        "print(auc)"
      ],
      "metadata": {
        "colab": {
          "base_uri": "https://localhost:8080/"
        },
        "id": "xcGvVczh0i7g",
        "outputId": "3f83d5fe-ac82-4aa2-db3b-ddc217db842f"
      },
      "execution_count": null,
      "outputs": [
        {
          "output_type": "stream",
          "name": "stdout",
          "text": [
            "0.9050028967204219\n"
          ]
        }
      ]
    },
    {
      "cell_type": "code",
      "source": [
        ""
      ],
      "metadata": {
        "id": "LS6fFTpx0e7e"
      },
      "execution_count": null,
      "outputs": []
    }
  ]
}